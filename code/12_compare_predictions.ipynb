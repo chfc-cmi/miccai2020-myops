{
 "cells": [
  {
   "cell_type": "markdown",
   "metadata": {
    "colab_type": "text",
    "id": "v4vgTY-R3BHv"
   },
   "source": [
    "# MyoPS 2020 Challenge\n"
   ]
  },
  {
   "cell_type": "code",
   "execution_count": 1,
   "metadata": {
    "colab": {},
    "colab_type": "code",
    "id": "kp3_fDwx3BH2"
   },
   "outputs": [],
   "source": [
    "import torch\n",
    "from sklearn.metrics import confusion_matrix\n",
    "from matplotlib import pyplot as plt\n",
    "from glob import glob\n",
    "from pathlib import Path\n",
    "import numpy as np\n",
    "import os\n",
    "from tqdm.notebook import tqdm\n",
    "from fastai2.vision.all import PILImage, PILMask, image2tensor\n",
    "import nibabel as nib"
   ]
  },
  {
   "cell_type": "code",
   "execution_count": 2,
   "metadata": {},
   "outputs": [
    {
     "data": {
      "text/plain": [
       "(174,\n",
       " ['../pred/multi_ce_full/raw/201-orig-4.pt',\n",
       "  '../pred/multi_ce_full/raw/213-orig-2.pt',\n",
       "  '../pred/multi_ce_full/raw/211-orig-2.pt',\n",
       "  '../pred/multi_ce_full/raw/120-orig-1.pt',\n",
       "  '../pred/multi_ce_full/raw/121-orig-1.pt',\n",
       "  '../pred/multi_ce_full/raw/113-orig-1.pt',\n",
       "  '../pred/multi_ce_full/raw/120-orig-5.pt',\n",
       "  '../pred/multi_ce_full/raw/104-orig-3.pt',\n",
       "  '../pred/multi_ce_full/raw/220-orig-2.pt',\n",
       "  '../pred/multi_ce_full/raw/111-orig-1.pt'])"
      ]
     },
     "execution_count": 2,
     "metadata": {},
     "output_type": "execute_result"
    }
   ],
   "source": [
    "files = glob(\"../pred/multi_ce_full/raw/*.pt\")\n",
    "len(files), files[:10]"
   ]
  },
  {
   "cell_type": "markdown",
   "metadata": {},
   "source": [
    "## Make ensemble predictions"
   ]
  },
  {
   "cell_type": "code",
   "execution_count": 3,
   "metadata": {},
   "outputs": [],
   "source": [
    "def make_ensemble_pred(ce_file_name):\n",
    "    f = ce_file_name\n",
    "    # no softmax for ce predictions\n",
    "    summary_pred = torch.load(f)\n",
    "    for i in ['multi_patho.35_full', 'multi_edema.4_full', 'multi_scar.4_full']:\n",
    "        summary_pred += torch.load(f.replace('multi_ce_full',i)).softmax(dim=0)\n",
    "    # add class specific predictions\n",
    "    summary_pred[4] += torch.load(f.replace('multi_ce_full','t2_edemaOnly.8_full')).softmax(dim=0)[1]\n",
    "    summary_pred[5] += torch.load(f.replace('multi_ce_full','lge_scarOnly.8_full')).softmax(dim=0)[1]\n",
    "    # normalize\n",
    "    summary_pred = summary_pred/torch.Tensor([4,4,4,4,5,5]).view(-1,1,1)\n",
    "    return summary_pred"
   ]
  },
  {
   "cell_type": "code",
   "execution_count": 4,
   "metadata": {},
   "outputs": [],
   "source": [
    "def make_all_predictions():\n",
    "    ids = np.concatenate((np.arange(101,126),np.arange(201,221)))\n",
    "    outdir = f'../pred/ensemble'\n",
    "    os.makedirs(f'{outdir}/nifti', exist_ok=True)\n",
    "    os.makedirs(f'{outdir}/raw', exist_ok=True)\n",
    "    rev_map = torch.LongTensor([0, 500, 200, 600, 1220, 2221])\n",
    "    for id in tqdm(ids):\n",
    "        origs = sorted(glob(f\"../data/png/images/{id}-orig-*.png\"))\n",
    "        masks = []\n",
    "        for o in origs:\n",
    "            image = PILImage.create(o)\n",
    "            pred = make_ensemble_pred(o.replace('data/png/images','pred/multi_ce_full/raw').replace('.png','.pt'))\n",
    "            torch.save(pred, f'{outdir}/raw/{Path(o).name.replace(\"png\",\"pt\")}')\n",
    "            mask = PILMask.create(pred.argmax(dim=0).byte()).rotate(180).crop_pad((image.shape[1],image.shape[0])).rotate(180)\n",
    "            mask = rev_map.index_select(0,image2tensor(mask).flatten().to(torch.long)).reshape(*mask.shape)\n",
    "            masks.append(mask.to(torch.int32))\n",
    "        masks = np.stack(masks,axis=2)\n",
    "        if(id<200):\n",
    "            nifti = nib.load(f'../data/train25_myops_gd/myops_training_{id}_gd.nii.gz')\n",
    "        else:\n",
    "            nifti = nib.load(f'../data/test20/myops_test_{id}_C0.nii.gz')\n",
    "        nifti_pred = nib.Nifti1Image(masks, nifti.affine, nifti.header)\n",
    "        nib.save(nifti_pred, f'{outdir}/nifti/myops_test_{id}_seg.nii.gz')"
   ]
  },
  {
   "cell_type": "code",
   "execution_count": 5,
   "metadata": {},
   "outputs": [
    {
     "data": {
      "application/vnd.jupyter.widget-view+json": {
       "model_id": "e9941256bf474a7ebac6edd5e5fada3f",
       "version_major": 2,
       "version_minor": 0
      },
      "text/plain": [
       "HBox(children=(FloatProgress(value=0.0, max=45.0), HTML(value='')))"
      ]
     },
     "metadata": {},
     "output_type": "display_data"
    },
    {
     "name": "stdout",
     "output_type": "stream",
     "text": [
      "\n"
     ]
    }
   ],
   "source": [
    "make_all_predictions()"
   ]
  },
  {
   "cell_type": "code",
   "execution_count": 6,
   "metadata": {},
   "outputs": [
    {
     "data": {
      "text/plain": [
       "<matplotlib.image.AxesImage at 0x7f50002ffd10>"
      ]
     },
     "execution_count": 6,
     "metadata": {},
     "output_type": "execute_result"
    },
    {
     "data": {
      "image/png": "[encoded data removed]",
      "text/plain": [
       "<Figure size 432x288 with 1 Axes>"
      ]
     },
     "metadata": {
      "needs_background": "light"
     },
     "output_type": "display_data"
    }
   ],
   "source": [
    "plt.imshow(make_ensemble_pred('../pred/multi_ce_full/raw/120-orig-1.pt').argmax(dim=0))"
   ]
  },
  {
   "cell_type": "markdown",
   "metadata": {},
   "source": [
    "## Compare DICEs on training set"
   ]
  },
  {
   "cell_type": "code",
   "execution_count": 30,
   "metadata": {},
   "outputs": [],
   "source": [
    "prediction = np.asanyarray(nib.load('../pred/ensemble/nifti/myops_test_101_seg.nii.gz').dataobj)\n",
    "truth = np.asanyarray(nib.load('../data/train25_myops_gd/myops_training_101_gd.nii.gz').dataobj)"
   ]
  },
  {
   "cell_type": "code",
   "execution_count": 59,
   "metadata": {},
   "outputs": [],
   "source": [
    "def my_dice(truth, prediction, threshold=1000, debug=False):\n",
    "    dice = 1\n",
    "    true_mask = truth > threshold\n",
    "    pred_mask = prediction > threshold\n",
    "    intersect_mask = true_mask & pred_mask\n",
    "    true_count = true_mask.sum()\n",
    "    pred_count = pred_mask.sum()\n",
    "    inter_count = intersect_mask.sum()\n",
    "    if (true_count + pred_count) > 0:\n",
    "        dice = 2*inter_count/(true_count+pred_count)\n",
    "    if debug:\n",
    "        return dice, true_mask, pred_mask, intersect_mask\n",
    "    return dice"
   ]
  },
  {
   "cell_type": "code",
   "execution_count": 66,
   "metadata": {},
   "outputs": [],
   "source": [
    "def nib2array(f):\n",
    "    return np.asanyarray(nib.load(f).dataobj)\n",
    "\n",
    "def get_dices(prediction = 'ensemble'):\n",
    "    sc_dices = []\n",
    "    scEd_dices = []\n",
    "    trueFiles = glob('../data/train25_myops_gd/myops_training_*_gd.nii.gz')\n",
    "    for f in trueFiles:\n",
    "        truth = nib2array(f)\n",
    "        pred = nib2array(f.replace('data/train25_myops_gd',f'pred/{prediction}/nifti').replace('_training_','_test_').replace('_gd','_seg'))\n",
    "        scEd_dices.append(my_dice(truth,pred,threshold=1000))\n",
    "        sc_dices.append(my_dice(truth,pred,threshold=2000))\n",
    "    return sc_dices, scEd_dices"
   ]
  },
  {
   "cell_type": "code",
   "execution_count": 68,
   "metadata": {},
   "outputs": [],
   "source": [
    "ensemble_dices = get_dices('ensemble')\n",
    "patho_dices = get_dices('multi_patho.35_full')"
   ]
  },
  {
   "cell_type": "code",
   "execution_count": 71,
   "metadata": {},
   "outputs": [
    {
     "data": {
      "text/plain": [
       "<matplotlib.collections.PathCollection at 0x7f4fe00acd50>"
      ]
     },
     "execution_count": 71,
     "metadata": {},
     "output_type": "execute_result"
    },
    {
     "data": {
      "image/png": "[encoded data removed]",
      "text/plain": [
       "<Figure size 432x288 with 1 Axes>"
      ]
     },
     "metadata": {
      "needs_background": "light"
     },
     "output_type": "display_data"
    }
   ],
   "source": [
    "plt.scatter(ensemble_dices[0],patho_dices[0])"
   ]
  },
  {
   "cell_type": "code",
   "execution_count": 76,
   "metadata": {},
   "outputs": [
    {
     "data": {
      "text/plain": [
       "array([0.8308286 , 0.87276063])"
      ]
     },
     "execution_count": 76,
     "metadata": {},
     "output_type": "execute_result"
    }
   ],
   "source": [
    "np.array(ensemble_dices).mean(axis=1)"
   ]
  },
  {
   "cell_type": "code",
   "execution_count": 77,
   "metadata": {},
   "outputs": [
    {
     "data": {
      "text/plain": [
       "array([0.7910287 , 0.80656612])"
      ]
     },
     "execution_count": 77,
     "metadata": {},
     "output_type": "execute_result"
    }
   ],
   "source": [
    "np.array(patho_dices).mean(axis=1)"
   ]
  },
  {
   "cell_type": "markdown",
   "metadata": {},
   "source": [
    "## Experiments"
   ]
  },
  {
   "cell_type": "code",
   "execution_count": 8,
   "metadata": {},
   "outputs": [],
   "source": [
    "preds = glob(\"../pred/*/raw/*101*-0.pt\")"
   ]
  },
  {
   "cell_type": "code",
   "execution_count": 9,
   "metadata": {},
   "outputs": [
    {
     "data": {
      "text/plain": [
       "['../pred/t2_edemaOnly.8_full/raw/101-orig-0.pt',\n",
       " '../pred/multi_scar.4_full/raw/101-orig-0.pt',\n",
       " '../pred/multi_patho.35_full/raw/101-orig-0.pt',\n",
       " '../pred/multi_ce_full/raw/101-orig-0.pt',\n",
       " '../pred/lge_scarOnly.8_full/raw/101-orig-0.pt',\n",
       " '../pred/multi_edema.4_full/raw/101-orig-0.pt',\n",
       " '../pred/ensemble/raw/101-orig-0.pt']"
      ]
     },
     "execution_count": 9,
     "metadata": {},
     "output_type": "execute_result"
    }
   ],
   "source": [
    "preds"
   ]
  },
  {
   "cell_type": "code",
   "execution_count": 10,
   "metadata": {},
   "outputs": [],
   "source": [
    "preds_c = []\n",
    "for x in preds:\n",
    "    pred = torch.load(x).argmax(dim=0).numpy()\n",
    "    if \"edemaOnly\" in x:\n",
    "        pred = pred * 4\n",
    "    if \"scarOnly\" in x:\n",
    "        pred = pred * 5\n",
    "    preds_c.append(pred)"
   ]
  },
  {
   "cell_type": "code",
   "execution_count": 11,
   "metadata": {},
   "outputs": [
    {
     "data": {
      "text/plain": [
       "<matplotlib.image.AxesImage at 0x7f500027d8d0>"
      ]
     },
     "execution_count": 11,
     "metadata": {},
     "output_type": "execute_result"
    },
    {
     "data": {
      "image/png": "[encoded data removed]",
      "text/plain": [
       "<Figure size 576x576 with 1 Axes>"
      ]
     },
     "metadata": {
      "needs_background": "light"
     },
     "output_type": "display_data"
    }
   ],
   "source": [
    "fig, axs = plt.subplots(figsize=(8,8))\n",
    "axs.imshow(preds_c[1])\n",
    "axs.imshow(preds_c[2], alpha=.5)"
   ]
  },
  {
   "cell_type": "code",
   "execution_count": 12,
   "metadata": {},
   "outputs": [
    {
     "data": {
      "image/png": "[encoded data removed]",
      "text/plain": [
       "<Figure size 576x576 with 1 Axes>"
      ]
     },
     "metadata": {
      "needs_background": "light"
     },
     "output_type": "display_data"
    }
   ],
   "source": [
    "fig, axs = plt.subplots(figsize=(8,8))\n",
    "_ = axs.imshow(confusion_matrix(preds_c[0].flatten(), preds_c[1].flatten(), normalize=\"true\"))\n",
    "_ = plt.xticks(range(6), labels=['bg','LV','My','RV','Ed','Sc'])\n",
    "_ = plt.yticks(range(6), labels=['bg','LV','My','RV','Ed','Sc'])\n",
    "_ = plt.xlabel(Path(preds[1]).parent.parent.name)\n",
    "_ = plt.ylabel(Path(preds[0]).parent.parent.name)"
   ]
  },
  {
   "cell_type": "code",
   "execution_count": 13,
   "metadata": {},
   "outputs": [
    {
     "data": {
      "text/plain": [
       "<matplotlib.image.AxesImage at 0x7f50000d0ad0>"
      ]
     },
     "execution_count": 13,
     "metadata": {},
     "output_type": "execute_result"
    },
    {
     "data": {
      "image/png": "[encoded data removed]",
      "text/plain": [
       "<Figure size 432x288 with 1 Axes>"
      ]
     },
     "metadata": {
      "needs_background": "light"
     },
     "output_type": "display_data"
    }
   ],
   "source": [
    "plt.imshow(preds_c[1] == preds_c[2])"
   ]
  },
  {
   "cell_type": "code",
   "execution_count": 14,
   "metadata": {},
   "outputs": [
    {
     "data": {
      "text/plain": [
       "<matplotlib.image.AxesImage at 0x7f50000b4d10>"
      ]
     },
     "execution_count": 14,
     "metadata": {},
     "output_type": "execute_result"
    },
    {
     "data": {
      "image/png": "[encoded data removed]",
      "text/plain": [
       "<Figure size 432x288 with 1 Axes>"
      ]
     },
     "metadata": {
      "needs_background": "light"
     },
     "output_type": "display_data"
    }
   ],
   "source": [
    "plt.imshow(torch.load(preds[0]).softmax(dim=0)[1])# * preds_c[0])"
   ]
  },
  {
   "cell_type": "code",
   "execution_count": 15,
   "metadata": {},
   "outputs": [
    {
     "data": {
      "image/png": "[encoded data removed]",
      "text/plain": [
       "<Figure size 1152x1152 with 6 Axes>"
      ]
     },
     "metadata": {
      "needs_background": "light"
     },
     "output_type": "display_data"
    }
   ],
   "source": [
    "fig, axs = plt.subplots(1, 6, figsize=(16,16))\n",
    "for i in range(6):\n",
    "    axs[i].imshow(torch.load(preds[1]).softmax(dim=0)[i])"
   ]
  },
  {
   "cell_type": "code",
   "execution_count": 16,
   "metadata": {},
   "outputs": [
    {
     "data": {
      "text/plain": [
       "<matplotlib.image.AxesImage at 0x7f4fe2e174d0>"
      ]
     },
     "execution_count": 16,
     "metadata": {},
     "output_type": "execute_result"
    },
    {
     "data": {
      "image/png": "[encoded data removed]",
      "text/plain": [
       "<Figure size 432x288 with 1 Axes>"
      ]
     },
     "metadata": {
      "needs_background": "light"
     },
     "output_type": "display_data"
    }
   ],
   "source": [
    "plt.imshow(preds_c[0])"
   ]
  },
  {
   "cell_type": "code",
   "execution_count": 17,
   "metadata": {},
   "outputs": [
    {
     "data": {
      "text/plain": [
       "<matplotlib.image.AxesImage at 0x7f4fe2d78650>"
      ]
     },
     "execution_count": 17,
     "metadata": {},
     "output_type": "execute_result"
    },
    {
     "data": {
      "image/png": "[encoded data removed]",
      "text/plain": [
       "<Figure size 432x288 with 1 Axes>"
      ]
     },
     "metadata": {
      "needs_background": "light"
     },
     "output_type": "display_data"
    }
   ],
   "source": [
    "plt.imshow(preds_c[1])"
   ]
  },
  {
   "cell_type": "code",
   "execution_count": 60,
   "metadata": {},
   "outputs": [
    {
     "data": {
      "image/png": "[encoded data removed]",
      "text/plain": [
       "<Figure size 864x864 with 15 Axes>"
      ]
     },
     "metadata": {
      "needs_background": "light"
     },
     "output_type": "display_data"
    }
   ],
   "source": [
    "fig, axs = plt.subplots(5,3, figsize=(12,12))\n",
    "tmp = my_dice(truth, prediction, debug=True)\n",
    "for j in range(5):\n",
    "    _=[axs[j,i].imshow(tmp[i+1][:,:,j]) for i in range(3)]"
   ]
  },
  {
   "cell_type": "markdown",
   "metadata": {},
   "source": [
    "### Test broadcasting"
   ]
  },
  {
   "cell_type": "code",
   "execution_count": 18,
   "metadata": {},
   "outputs": [
    {
     "data": {
      "text/plain": [
       "tensor([[[0.5000, 0.5000, 0.5000, 0.5000, 0.5000],\n",
       "         [0.5000, 0.5000, 0.5000, 0.5000, 0.5000],\n",
       "         [0.5000, 0.5000, 0.5000, 0.5000, 0.5000],\n",
       "         [0.5000, 0.5000, 0.5000, 0.5000, 0.5000],\n",
       "         [0.5000, 0.5000, 0.5000, 0.5000, 0.5000]],\n",
       "\n",
       "        [[0.5000, 0.5000, 0.5000, 0.5000, 0.5000],\n",
       "         [0.5000, 0.5000, 0.5000, 0.5000, 0.5000],\n",
       "         [0.5000, 0.5000, 0.5000, 0.5000, 0.5000],\n",
       "         [0.5000, 0.5000, 0.5000, 0.5000, 0.5000],\n",
       "         [0.5000, 0.5000, 0.5000, 0.5000, 0.5000]],\n",
       "\n",
       "        [[0.3333, 0.3333, 0.3333, 0.3333, 0.3333],\n",
       "         [0.3333, 0.3333, 0.3333, 0.3333, 0.3333],\n",
       "         [0.3333, 0.3333, 0.3333, 0.3333, 0.3333],\n",
       "         [0.3333, 0.3333, 0.3333, 0.3333, 0.3333],\n",
       "         [0.3333, 0.3333, 0.3333, 0.3333, 0.3333]]])"
      ]
     },
     "execution_count": 18,
     "metadata": {},
     "output_type": "execute_result"
    }
   ],
   "source": [
    "tmp = torch.ones((3,5,5)) / torch.Tensor([2,2,3]).view(-1,1,1)\n",
    "tmp"
   ]
  },
  {
   "cell_type": "code",
   "execution_count": 19,
   "metadata": {},
   "outputs": [
    {
     "data": {
      "text/plain": [
       "tensor([[[0.5000, 0.5000, 0.5000, 0.5000, 0.5000],\n",
       "         [0.5000, 0.5000, 0.5000, 0.5000, 0.5000],\n",
       "         [0.5000, 0.5000, 0.5000, 0.5000, 0.5000],\n",
       "         [0.5000, 0.5000, 0.5000, 0.5000, 0.5000],\n",
       "         [0.5000, 0.5000, 0.5000, 0.5000, 0.5000]],\n",
       "\n",
       "        [[0.8333, 0.8333, 0.8333, 0.8333, 0.8333],\n",
       "         [0.8333, 0.8333, 0.8333, 0.8333, 0.8333],\n",
       "         [0.8333, 0.8333, 0.8333, 0.8333, 0.8333],\n",
       "         [0.8333, 0.8333, 0.8333, 0.8333, 0.8333],\n",
       "         [0.8333, 0.8333, 0.8333, 0.8333, 0.8333]],\n",
       "\n",
       "        [[0.3333, 0.3333, 0.3333, 0.3333, 0.3333],\n",
       "         [0.3333, 0.3333, 0.3333, 0.3333, 0.3333],\n",
       "         [0.3333, 0.3333, 0.3333, 0.3333, 0.3333],\n",
       "         [0.3333, 0.3333, 0.3333, 0.3333, 0.3333],\n",
       "         [0.3333, 0.3333, 0.3333, 0.3333, 0.3333]]])"
      ]
     },
     "execution_count": 19,
     "metadata": {},
     "output_type": "execute_result"
    }
   ],
   "source": [
    "tmp[1] += tmp[2]\n",
    "tmp"
   ]
  },
  {
   "cell_type": "code",
   "execution_count": null,
   "metadata": {},
   "outputs": [],
   "source": []
  }
 ],
 "metadata": {
  "accelerator": "GPU",
  "colab": {
   "name": "myops2020.ipynb",
   "provenance": [],
   "toc_visible": true
  },
  "kernelspec": {
   "display_name": "Python 3",
   "language": "python",
   "name": "python3"
  },
  "language_info": {
   "codemirror_mode": {
    "name": "ipython",
    "version": 3
   },
   "file_extension": ".py",
   "mimetype": "text/x-python",
   "name": "python",
   "nbconvert_exporter": "python",
   "pygments_lexer": "ipython3",
   "version": "3.7.6"
  },
  "widgets": {
   "application/vnd.jupyter.widget-state+json": {
    "1240ff304ad148e0b2d4b4af3e23b106": {
     "model_module": "@jupyter-widgets/base",
     "model_name": "LayoutModel",
     "state": {
      "_model_module": "@jupyter-widgets/base",
      "_model_module_version": "1.2.0",
      "_model_name": "LayoutModel",
      "_view_count": null,
      "_view_module": "@jupyter-widgets/base",
      "_view_module_version": "1.2.0",
      "_view_name": "LayoutView",
      "align_content": null,
      "align_items": null,
      "align_self": null,
      "border": null,
      "bottom": null,
      "display": null,
      "flex": null,
      "flex_flow": null,
      "grid_area": null,
      "grid_auto_columns": null,
      "grid_auto_flow": null,
      "grid_auto_rows": null,
      "grid_column": null,
      "grid_gap": null,
      "grid_row": null,
      "grid_template_areas": null,
      "grid_template_columns": null,
      "grid_template_rows": null,
      "height": null,
      "justify_content": null,
      "justify_items": null,
      "left": null,
      "margin": null,
      "max_height": null,
      "max_width": null,
      "min_height": null,
      "min_width": null,
      "object_fit": null,
      "object_position": null,
      "order": null,
      "overflow": null,
      "overflow_x": null,
      "overflow_y": null,
      "padding": null,
      "right": null,
      "top": null,
      "visibility": null,
      "width": null
     }
    },
    "26ed92a084a9446fb82c406db904990f": {
     "model_module": "@jupyter-widgets/controls",
     "model_name": "DescriptionStyleModel",
     "state": {
      "_model_module": "@jupyter-widgets/controls",
      "_model_module_version": "1.5.0",
      "_model_name": "DescriptionStyleModel",
      "_view_count": null,
      "_view_module": "@jupyter-widgets/base",
      "_view_module_version": "1.2.0",
      "_view_name": "StyleView",
      "description_width": ""
     }
    },
    "35c1ddd6c52f4611b978e609c33874be": {
     "model_module": "@jupyter-widgets/controls",
     "model_name": "ProgressStyleModel",
     "state": {
      "_model_module": "@jupyter-widgets/controls",
      "_model_module_version": "1.5.0",
      "_model_name": "ProgressStyleModel",
      "_view_count": null,
      "_view_module": "@jupyter-widgets/base",
      "_view_module_version": "1.2.0",
      "_view_name": "StyleView",
      "bar_color": null,
      "description_width": "initial"
     }
    },
    "484ea1349e0c486fbc66a0bb7ce496ed": {
     "model_module": "@jupyter-widgets/controls",
     "model_name": "HBoxModel",
     "state": {
      "_dom_classes": [],
      "_model_module": "@jupyter-widgets/controls",
      "_model_module_version": "1.5.0",
      "_model_name": "HBoxModel",
      "_view_count": null,
      "_view_module": "@jupyter-widgets/controls",
      "_view_module_version": "1.5.0",
      "_view_name": "HBoxView",
      "box_style": "",
      "children": [
       "IPY_MODEL_81fa7997e60249c7b748e3d8d727a33a",
       "IPY_MODEL_f2f5424bb21048c2abaff85f56ca8ffe"
      ],
      "layout": "IPY_MODEL_1240ff304ad148e0b2d4b4af3e23b106"
     }
    },
    "4ac1045a03f3413a9d158bf75b615cc8": {
     "model_module": "@jupyter-widgets/base",
     "model_name": "LayoutModel",
     "state": {
      "_model_module": "@jupyter-widgets/base",
      "_model_module_version": "1.2.0",
      "_model_name": "LayoutModel",
      "_view_count": null,
      "_view_module": "@jupyter-widgets/base",
      "_view_module_version": "1.2.0",
      "_view_name": "LayoutView",
      "align_content": null,
      "align_items": null,
      "align_self": null,
      "border": null,
      "bottom": null,
      "display": null,
      "flex": null,
      "flex_flow": null,
      "grid_area": null,
      "grid_auto_columns": null,
      "grid_auto_flow": null,
      "grid_auto_rows": null,
      "grid_column": null,
      "grid_gap": null,
      "grid_row": null,
      "grid_template_areas": null,
      "grid_template_columns": null,
      "grid_template_rows": null,
      "height": null,
      "justify_content": null,
      "justify_items": null,
      "left": null,
      "margin": null,
      "max_height": null,
      "max_width": null,
      "min_height": null,
      "min_width": null,
      "object_fit": null,
      "object_position": null,
      "order": null,
      "overflow": null,
      "overflow_x": null,
      "overflow_y": null,
      "padding": null,
      "right": null,
      "top": null,
      "visibility": null,
      "width": null
     }
    },
    "81fa7997e60249c7b748e3d8d727a33a": {
     "model_module": "@jupyter-widgets/controls",
     "model_name": "FloatProgressModel",
     "state": {
      "_dom_classes": [],
      "_model_module": "@jupyter-widgets/controls",
      "_model_module_version": "1.5.0",
      "_model_name": "FloatProgressModel",
      "_view_count": null,
      "_view_module": "@jupyter-widgets/controls",
      "_view_module_version": "1.5.0",
      "_view_name": "ProgressView",
      "bar_style": "success",
      "description": "100%",
      "description_tooltip": null,
      "layout": "IPY_MODEL_bb1a4008966744afba2d246fbdc6e85d",
      "max": 87306240,
      "min": 0,
      "orientation": "horizontal",
      "style": "IPY_MODEL_35c1ddd6c52f4611b978e609c33874be",
      "value": 87306240
     }
    },
    "bb1a4008966744afba2d246fbdc6e85d": {
     "model_module": "@jupyter-widgets/base",
     "model_name": "LayoutModel",
     "state": {
      "_model_module": "@jupyter-widgets/base",
      "_model_module_version": "1.2.0",
      "_model_name": "LayoutModel",
      "_view_count": null,
      "_view_module": "@jupyter-widgets/base",
      "_view_module_version": "1.2.0",
      "_view_name": "LayoutView",
      "align_content": null,
      "align_items": null,
      "align_self": null,
      "border": null,
      "bottom": null,
      "display": null,
      "flex": null,
      "flex_flow": null,
      "grid_area": null,
      "grid_auto_columns": null,
      "grid_auto_flow": null,
      "grid_auto_rows": null,
      "grid_column": null,
      "grid_gap": null,
      "grid_row": null,
      "grid_template_areas": null,
      "grid_template_columns": null,
      "grid_template_rows": null,
      "height": null,
      "justify_content": null,
      "justify_items": null,
      "left": null,
      "margin": null,
      "max_height": null,
      "max_width": null,
      "min_height": null,
      "min_width": null,
      "object_fit": null,
      "object_position": null,
      "order": null,
      "overflow": null,
      "overflow_x": null,
      "overflow_y": null,
      "padding": null,
      "right": null,
      "top": null,
      "visibility": null,
      "width": null
     }
    },
    "f2f5424bb21048c2abaff85f56ca8ffe": {
     "model_module": "@jupyter-widgets/controls",
     "model_name": "HTMLModel",
     "state": {
      "_dom_classes": [],
      "_model_module": "@jupyter-widgets/controls",
      "_model_module_version": "1.5.0",
      "_model_name": "HTMLModel",
      "_view_count": null,
      "_view_module": "@jupyter-widgets/controls",
      "_view_module_version": "1.5.0",
      "_view_name": "HTMLView",
      "description": "",
      "description_tooltip": null,
      "layout": "IPY_MODEL_4ac1045a03f3413a9d158bf75b615cc8",
      "placeholder": "​",
      "style": "IPY_MODEL_26ed92a084a9446fb82c406db904990f",
      "value": " 83.3M/83.3M [1:03:49&lt;00:00, 22.8kB/s]"
     }
    }
   }
  }
 },
 "nbformat": 4,
 "nbformat_minor": 4
}
