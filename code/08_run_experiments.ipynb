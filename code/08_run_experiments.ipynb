{
  "nbformat": 4,
  "nbformat_minor": 0,
  "metadata": {
    "accelerator": "GPU",
    "colab": {
      "name": "myops2020.ipynb",
      "provenance": [],
      "toc_visible": true
    },
    "kernelspec": {
      "display_name": "Python 3",
      "language": "python",
      "name": "python3"
    },
    "language_info": {
      "codemirror_mode": {
        "name": "ipython",
        "version": 3
      },
      "file_extension": ".py",
      "mimetype": "text/x-python",
      "name": "python",
      "nbconvert_exporter": "python",
      "pygments_lexer": "ipython3",
      "version": "3.7.3"
    }
  },
  "cells": [
    {
      "cell_type": "markdown",
      "metadata": {
        "colab_type": "text",
        "id": "v4vgTY-R3BHv"
      },
      "source": [
        "# MyoPS 2020 Challenge\n"
      ]
    },
    {
      "cell_type": "code",
      "metadata": {
        "id": "DILdf-xszF5l",
        "colab_type": "code",
        "colab": {
          "base_uri": "https://localhost:8080/",
          "height": 801
        },
        "outputId": "54fc5e90-785b-4842-dc29-6b9f71b6d254"
      },
      "source": [
        "!pip install fastai2\n",
        "!pip install git+https://github.com/Project-MONAI/MONAI#egg=MONAI"
      ],
      "execution_count": 1,
      "outputs": [
        {
          "output_type": "stream",
          "text": [
            "Requirement already satisfied: fastai2 in /usr/local/lib/python3.6/dist-packages (0.0.17)\n",
            "Requirement already satisfied: pandas in /usr/local/lib/python3.6/dist-packages (from fastai2) (1.0.5)\n",
            "Requirement already satisfied: pyyaml in /usr/local/lib/python3.6/dist-packages (from fastai2) (3.13)\n",
            "Requirement already satisfied: pillow in /usr/local/lib/python3.6/dist-packages (from fastai2) (7.0.0)\n",
            "Requirement already satisfied: matplotlib in /usr/local/lib/python3.6/dist-packages (from fastai2) (3.2.2)\n",
            "Requirement already satisfied: fastcore in /usr/local/lib/python3.6/dist-packages (from fastai2) (0.1.18)\n",
            "Requirement already satisfied: scikit-learn in /usr/local/lib/python3.6/dist-packages (from fastai2) (0.22.2.post1)\n",
            "Requirement already satisfied: torch>=1.3.0 in /usr/local/lib/python3.6/dist-packages (from fastai2) (1.5.1+cu101)\n",
            "Requirement already satisfied: spacy in /usr/local/lib/python3.6/dist-packages (from fastai2) (2.2.4)\n",
            "Requirement already satisfied: torchvision>=0.5 in /usr/local/lib/python3.6/dist-packages (from fastai2) (0.6.1+cu101)\n",
            "Requirement already satisfied: scipy in /usr/local/lib/python3.6/dist-packages (from fastai2) (1.4.1)\n",
            "Requirement already satisfied: requests in /usr/local/lib/python3.6/dist-packages (from fastai2) (2.23.0)\n",
            "Requirement already satisfied: fastprogress>=0.1.22 in /usr/local/lib/python3.6/dist-packages (from fastai2) (0.2.3)\n",
            "Requirement already satisfied: pytz>=2017.2 in /usr/local/lib/python3.6/dist-packages (from pandas->fastai2) (2018.9)\n",
            "Requirement already satisfied: python-dateutil>=2.6.1 in /usr/local/lib/python3.6/dist-packages (from pandas->fastai2) (2.8.1)\n",
            "Requirement already satisfied: numpy>=1.13.3 in /usr/local/lib/python3.6/dist-packages (from pandas->fastai2) (1.18.5)\n",
            "Requirement already satisfied: pyparsing!=2.0.4,!=2.1.2,!=2.1.6,>=2.0.1 in /usr/local/lib/python3.6/dist-packages (from matplotlib->fastai2) (2.4.7)\n",
            "Requirement already satisfied: kiwisolver>=1.0.1 in /usr/local/lib/python3.6/dist-packages (from matplotlib->fastai2) (1.2.0)\n",
            "Requirement already satisfied: cycler>=0.10 in /usr/local/lib/python3.6/dist-packages (from matplotlib->fastai2) (0.10.0)\n",
            "Requirement already satisfied: dataclasses>='0.7'; python_version < \"3.7\" in /usr/local/lib/python3.6/dist-packages (from fastcore->fastai2) (0.7)\n",
            "Requirement already satisfied: joblib>=0.11 in /usr/local/lib/python3.6/dist-packages (from scikit-learn->fastai2) (0.16.0)\n",
            "Requirement already satisfied: future in /usr/local/lib/python3.6/dist-packages (from torch>=1.3.0->fastai2) (0.16.0)\n",
            "Requirement already satisfied: preshed<3.1.0,>=3.0.2 in /usr/local/lib/python3.6/dist-packages (from spacy->fastai2) (3.0.2)\n",
            "Requirement already satisfied: catalogue<1.1.0,>=0.0.7 in /usr/local/lib/python3.6/dist-packages (from spacy->fastai2) (1.0.0)\n",
            "Requirement already satisfied: murmurhash<1.1.0,>=0.28.0 in /usr/local/lib/python3.6/dist-packages (from spacy->fastai2) (1.0.2)\n",
            "Requirement already satisfied: thinc==7.4.0 in /usr/local/lib/python3.6/dist-packages (from spacy->fastai2) (7.4.0)\n",
            "Requirement already satisfied: blis<0.5.0,>=0.4.0 in /usr/local/lib/python3.6/dist-packages (from spacy->fastai2) (0.4.1)\n",
            "Requirement already satisfied: plac<1.2.0,>=0.9.6 in /usr/local/lib/python3.6/dist-packages (from spacy->fastai2) (1.1.3)\n",
            "Requirement already satisfied: cymem<2.1.0,>=2.0.2 in /usr/local/lib/python3.6/dist-packages (from spacy->fastai2) (2.0.3)\n",
            "Requirement already satisfied: srsly<1.1.0,>=1.0.2 in /usr/local/lib/python3.6/dist-packages (from spacy->fastai2) (1.0.2)\n",
            "Requirement already satisfied: setuptools in /usr/local/lib/python3.6/dist-packages (from spacy->fastai2) (49.1.0)\n",
            "Requirement already satisfied: tqdm<5.0.0,>=4.38.0 in /usr/local/lib/python3.6/dist-packages (from spacy->fastai2) (4.41.1)\n",
            "Requirement already satisfied: wasabi<1.1.0,>=0.4.0 in /usr/local/lib/python3.6/dist-packages (from spacy->fastai2) (0.7.0)\n",
            "Requirement already satisfied: chardet<4,>=3.0.2 in /usr/local/lib/python3.6/dist-packages (from requests->fastai2) (3.0.4)\n",
            "Requirement already satisfied: certifi>=2017.4.17 in /usr/local/lib/python3.6/dist-packages (from requests->fastai2) (2020.6.20)\n",
            "Requirement already satisfied: urllib3!=1.25.0,!=1.25.1,<1.26,>=1.21.1 in /usr/local/lib/python3.6/dist-packages (from requests->fastai2) (1.24.3)\n",
            "Requirement already satisfied: idna<3,>=2.5 in /usr/local/lib/python3.6/dist-packages (from requests->fastai2) (2.10)\n",
            "Requirement already satisfied: six>=1.5 in /usr/local/lib/python3.6/dist-packages (from python-dateutil>=2.6.1->pandas->fastai2) (1.12.0)\n",
            "Requirement already satisfied: importlib-metadata>=0.20; python_version < \"3.8\" in /usr/local/lib/python3.6/dist-packages (from catalogue<1.1.0,>=0.0.7->spacy->fastai2) (1.7.0)\n",
            "Requirement already satisfied: zipp>=0.5 in /usr/local/lib/python3.6/dist-packages (from importlib-metadata>=0.20; python_version < \"3.8\"->catalogue<1.1.0,>=0.0.7->spacy->fastai2) (3.1.0)\n",
            "Requirement already satisfied: MONAI from git+https://github.com/Project-MONAI/MONAI#egg=MONAI in /usr/local/lib/python3.6/dist-packages (0.2.0+44.gd7f3b98)\n",
            "Requirement already satisfied: numpy>=1.17 in /usr/local/lib/python3.6/dist-packages (from MONAI) (1.18.5)\n",
            "Requirement already satisfied: torch>=1.4 in /usr/local/lib/python3.6/dist-packages (from MONAI) (1.5.1+cu101)\n",
            "Requirement already satisfied: future in /usr/local/lib/python3.6/dist-packages (from torch>=1.4->MONAI) (0.16.0)\n"
          ],
          "name": "stdout"
        }
      ]
    },
    {
      "cell_type": "code",
      "metadata": {
        "colab_type": "code",
        "id": "kp3_fDwx3BH2",
        "colab": {}
      },
      "source": [
        "from fastai2.vision.all import *\n",
        "from fastai2.vision.models import resnet34\n",
        "from monai.losses import FocalLoss\n",
        "import gc"
      ],
      "execution_count": 2,
      "outputs": []
    },
    {
      "cell_type": "code",
      "metadata": {
        "id": "wdOEY8bKzQiY",
        "colab_type": "code",
        "colab": {
          "base_uri": "https://localhost:8080/",
          "height": 34
        },
        "outputId": "0a22e093-6695-4585-9c79-53632aeee634"
      },
      "source": [
        "from google.colab import drive\n",
        "drive.mount('/content/drive')"
      ],
      "execution_count": 3,
      "outputs": [
        {
          "output_type": "stream",
          "text": [
            "Drive already mounted at /content/drive; to attempt to forcibly remount, call drive.mount(\"/content/drive\", force_remount=True).\n"
          ],
          "name": "stdout"
        }
      ]
    },
    {
      "cell_type": "code",
      "metadata": {
        "colab_type": "code",
        "id": "kpfKqu9a7Htb",
        "colab": {}
      },
      "source": [
        "path = \"/content/drive/My Drive/miccai2020/myops/png\""
      ],
      "execution_count": 4,
      "outputs": []
    },
    {
      "cell_type": "code",
      "metadata": {
        "colab_type": "code",
        "id": "qTh7WF48QpkJ",
        "colab": {
          "base_uri": "https://localhost:8080/",
          "height": 104
        },
        "outputId": "4b4dad9e-7b31-4fb9-ea2a-09c177453c4c"
      },
      "source": [
        "np.random.seed(42)\n",
        "ids = np.arange(101,126)\n",
        "np.random.shuffle(ids)\n",
        "ids = np.reshape(ids,(-1,5))\n",
        "ids"
      ],
      "execution_count": 5,
      "outputs": [
        {
          "output_type": "execute_result",
          "data": {
            "text/plain": [
              "array([[109, 117, 101, 124, 112],\n",
              "       [110, 114, 102, 123, 106],\n",
              "       [103, 113, 116, 104, 105],\n",
              "       [121, 118, 122, 119, 125],\n",
              "       [108, 111, 115, 120, 107]])"
            ]
          },
          "metadata": {
            "tags": []
          },
          "execution_count": 5
        }
      ]
    },
    {
      "cell_type": "code",
      "metadata": {
        "colab_type": "code",
        "id": "7UQDJstHWDnj",
        "colab": {}
      },
      "source": [
        "class AddMaskCodeMapping(Transform):\n",
        "    \"Add mapping of pixel value to class for a `TensorMask`\"\n",
        "    def __init__(self, mapping, codes=None):\n",
        "        #print(\"init\")\n",
        "        self.mapping = mapping\n",
        "        self.codes = codes\n",
        "        if codes is not None: self.vocab,self.c = codes,len(codes)\n",
        "\n",
        "    def encodes(self, o:PILMask):\n",
        "        #print(\"encodes\")\n",
        "        mo = ToTensor()(o)\n",
        "        mo = mo.to(dtype=torch.long)\n",
        "        mo = self.mapping.index_select(0,mo.flatten()).reshape(*mo.shape)\n",
        "        mo = PILMask.create(mo.to(dtype=torch.uint8))\n",
        "        return mo\n",
        "    \n",
        "    def decodes(self, o:TensorMask):\n",
        "        # decoding of inputs works out of the box, but get_preds are not properly decoded\n",
        "        if len(o.shape) > 2:\n",
        "            o = o.argmax(dim=0)\n",
        "        if self.codes is not None: o._meta = {'codes': self.codes}\n",
        "        return o"
      ],
      "execution_count": 6,
      "outputs": []
    },
    {
      "cell_type": "code",
      "metadata": {
        "colab_type": "code",
        "id": "ZlGb98hAaVB_",
        "colab": {}
      },
      "source": [
        "def MappedMaskBlock(mapping,codes=None):\n",
        "    \"A `TransformBlock` for segmentation masks, with mapping of pixel values to classes, potentially with `codes`\"\n",
        "    return TransformBlock(type_tfms=PILMask.create, item_tfms=AddMaskCodeMapping(mapping=mapping,codes=codes), batch_tfms=IntToFloatTensor)"
      ],
      "execution_count": 7,
      "outputs": []
    },
    {
      "cell_type": "code",
      "metadata": {
        "colab_type": "code",
        "id": "6ZuyDCttFnem",
        "colab": {}
      },
      "source": [
        "def getMappedMaskBlock(predefined_mapping_name):\n",
        "    predefined_mappings = {\n",
        "        'full': ([0,1,2,3,4,5],['bg','lv','my','rv','ed','sc']),\n",
        "        'edOnly': ([0,0,0,0,1,0],['bg','ed']),\n",
        "        'edScCombined': ([0,0,0,0,1,1],['bg','edSc']),\n",
        "        'scOnly': ([0,0,0,0,0,1],['bg','sc']),\n",
        "        'edScOnly': ([0,0,0,0,1,2],['bg','ed','sc']),\n",
        "    }\n",
        "    mapping,codes = predefined_mappings[predefined_mapping_name]\n",
        "    return MappedMaskBlock(mapping = torch.LongTensor(mapping), codes=codes)"
      ],
      "execution_count": 8,
      "outputs": []
    },
    {
      "cell_type": "code",
      "metadata": {
        "colab_type": "code",
        "id": "nmx868OI3BJk",
        "colab": {}
      },
      "source": [
        "def getMyopsDls(val_ids, mapping_name=\"full\", images=\"images\"):\n",
        "    mmb = getMappedMaskBlock(mapping_name)\n",
        "    myopsData = DataBlock(blocks=(ImageBlock, mmb),#['bg','lv','my','rv','ed','sc'])),\n",
        "        get_items=get_image_files,\n",
        "        splitter=FuncSplitter(lambda o: int(o.name.split(\"-\")[0]) in val_ids),\n",
        "        get_y=lambda o: str(o).replace(images,\"masks\"),\n",
        "        item_tfms=CropPad(256),\n",
        "        batch_tfms=aug_transforms(max_rotate=90,pad_mode=\"zeros\"))\n",
        "    dls = myopsData.dataloaders(f'{path}/{images}',num_workers=4,batch_size=12)\n",
        "    dls[1].bs = 12\n",
        "    return dls"
      ],
      "execution_count": 9,
      "outputs": []
    },
    {
      "cell_type": "code",
      "metadata": {
        "colab_type": "code",
        "id": "_-YEuw8GCYtI",
        "colab": {}
      },
      "source": [
        "def multi_dice(input:Tensor, targs:Tensor, class_id=0, inverse=False)->Tensor:\n",
        "    n = targs.shape[0]\n",
        "    input = input.argmax(dim=1).view(n,-1)\n",
        "    # replace all with class_id with 1 all else with 0 to have binary case\n",
        "    output = (input == class_id).float()\n",
        "    # same for targs\n",
        "    targs = (targs.view(n,-1) == class_id).float()\n",
        "    if inverse:\n",
        "        output = 1 - output\n",
        "        targs = 1 - targs\n",
        "    intersect = (output * targs).sum(dim=1).float()\n",
        "    union = (output+targs).sum(dim=1).float()\n",
        "    res = 2. * intersect / union\n",
        "    res[torch.isnan(res)] = 1\n",
        "    return res.mean()\n",
        "\n",
        "def diceFG(input, targs): return multi_dice(input,targs,class_id=1)\n",
        "def diceLV(input, targs): return multi_dice(input,targs,class_id=1)\n",
        "def diceMY(input, targs): return multi_dice(input,targs,class_id=2)\n",
        "def diceRV(input, targs): return multi_dice(input,targs,class_id=3)\n",
        "def diceEd(input, targs): return multi_dice(input,targs,class_id=4)\n",
        "def diceSc(input, targs): return multi_dice(input,targs,class_id=5)\n",
        "dices = [diceLV,diceMY,diceRV,diceEd,diceSc]"
      ],
      "execution_count": 10,
      "outputs": []
    },
    {
      "cell_type": "code",
      "metadata": {
        "colab_type": "code",
        "id": "ZNFWVLuvTwLq",
        "colab": {}
      },
      "source": [
        "def myFocal(weights=[.2,.8]):\n",
        "    monaiFocal = FocalLoss(weight=torch.Tensor(weights),reduction='mean')\n",
        "    return lambda input,target: monaiFocal(input, target.unsqueeze(1))"
      ],
      "execution_count": 11,
      "outputs": []
    },
    {
      "cell_type": "markdown",
      "metadata": {
        "colab_type": "text",
        "id": "YoyOxtnDCTa6"
      },
      "source": [
        "# Generic function"
      ]
    },
    {
      "cell_type": "code",
      "metadata": {
        "colab_type": "code",
        "id": "hxzDqkJuv1_b",
        "colab": {}
      },
      "source": [
        "def standard_training(\n",
        "    mapping=\"full\",\n",
        "    images=\"images\",\n",
        "    cleanup=True,\n",
        "    metrics=dices,\n",
        "    weights=[1.0/6,1.0/6,1.0/6,1.0/6,1.0/6,1.0/6],\n",
        "    cv=0,\n",
        "    name=\"standard_training\",\n",
        "    use_focal_loss=True,\n",
        "    path='/content/drive/My Drive/miccai2020/myops',\n",
        "    save=False\n",
        "    ):\n",
        "    my_loss = None\n",
        "    if(use_focal_loss):\n",
        "        my_loss = myFocal(weights)\n",
        "    learn = unet_learner(\n",
        "        getMyopsDls(ids[cv], mapping, images),\n",
        "        resnet34,\n",
        "        path=path,\n",
        "        loss_func=my_loss,\n",
        "        metrics=[foreground_acc, *metrics],\n",
        "        cbs=[CSVLogger(f'{path}/logs/{name}.csv',append=True)]\n",
        "    )\n",
        "    learn.fine_tune(20, freeze_epochs=10, base_lr=1e-3)\n",
        "    if save:\n",
        "      learn.save(name)\n",
        "    if not cleanup:\n",
        "        return learn\n",
        "    else:\n",
        "        del learn\n",
        "        gc.collect()\n",
        "        torch.cuda.empty_cache()"
      ],
      "execution_count": 12,
      "outputs": []
    },
    {
      "cell_type": "code",
      "metadata": {
        "id": "ERfpee-ACQ0K",
        "colab_type": "code",
        "colab": {
          "base_uri": "https://localhost:8080/",
          "height": 254
        },
        "outputId": "7c317f7b-2232-4a04-a3ae-c44e7080f2be"
      },
      "source": [
        "for cv in range(5):\n",
        "  standard_training(name=f\"multi_ce_cv{cv}\", cv=cv, use_focal_loss=False)\n",
        "  standard_training(name=f\"multi_balanced_cv{cv}\", cv=cv)\n",
        "  standard_training(name=f\"multi_pathoMyo.2_cv{cv}\", cv=cv, weights=[.4/3,.4/3,.2,.4/3,.2,.2])\n",
        "  standard_training(name=f\"multi_pathoMyo.3_cv{cv}\", cv=cv, weights=[.1/3,.1/3,.3,.1/3,.3,.3])\n",
        "  standard_training(name=f\"multi_patho.2_cv{cv}\", cv=cv, weights=[.6/4,.6/4,.6/4,.6/4,.2,.2])\n",
        "  standard_training(name=f\"multi_patho.35_cv{cv}\", cv=cv, weights=[.3/4,.3/4,.3/4,.3/4,.35,.35])\n",
        "  standard_training(name=f\"multi_patho.49_cv{cv}\", cv=cv, weights=[.02/4,.02/4,.02/4,.02/4,.49,.49])\n",
        "  standard_training(name=f\"multi_scar.2_cv{cv}\", cv=cv, weights=[.8/5,.8/5,.8/5,.8/5,.8/5,.2])\n",
        "  standard_training(name=f\"multi_scar.4_cv{cv}\", cv=cv, weights=[.6/5,.6/5,.6/5,.6/5,.6/5,.4])\n",
        "  standard_training(name=f\"multi_scar.6_cv{cv}\", cv=cv, weights=[.4/5,.4/5,.4/5,.4/5,.4/5,.6])\n",
        "  standard_training(name=f\"multi_scar.8_cv{cv}\", cv=cv, weights=[.2/5,.2/5,.2/5,.2/5,.2/5,.8])\n",
        "  standard_training(name=f\"multi_scar.99_cv{cv}\", cv=cv, weights=[.01/5,.01/5,.01/5,.01/5,.01/5,.99])\n",
        "  standard_training(name=f\"multi_edema.2_cv{cv}\", cv=cv, weights=[.8/5,.8/5,.8/5,.8/5,.2,.8/5])\n",
        "  standard_training(name=f\"multi_edema.4_cv{cv}\", cv=cv, weights=[.6/5,.6/5,.6/5,.6/5,.4,.6/5])\n",
        "  standard_training(name=f\"multi_edema.6_cv{cv}\", cv=cv, weights=[.4/5,.4/5,.4/5,.4/5,.6,.4/5])\n",
        "  standard_training(name=f\"multi_edema.8_cv{cv}\", cv=cv, weights=[.2/5,.2/5,.2/5,.2/5,.8,.2/5])\n",
        "  standard_training(name=f\"multi_edema.99_cv{cv}\", cv=cv, weights=[.01/5,.01/5,.01/5,.01/5,.99,.01/5])\n",
        "  standard_training(name=f\"lge_scarOnly.5_cv{cv}\", cv=cv, mapping=\"scOnly\", images=\"LGE\", metrics=[diceFG], weights=[0.5,0.5])\n",
        "  standard_training(name=f\"lge_scarOnly.8_cv{cv}\", cv=cv, mapping=\"scOnly\", images=\"LGE\", metrics=[diceFG], weights=[0.2,0.8])\n",
        "  standard_training(name=f\"t2_edemaOnly.5_cv{cv}\", cv=cv, mapping=\"edOnly\", images=\"T2\", metrics=[diceFG], weights=[0.5,0.5])\n",
        "  standard_training(name=f\"t2_edemaOnly.8_cv{cv}\", cv=cv, mapping=\"edOnly\", images=\"T2\", metrics=[diceFG], weights=[0.2,0.8])"
      ],
      "execution_count": null,
      "outputs": [
        {
          "output_type": "display_data",
          "data": {
            "text/html": [
              "<table border=\"1\" class=\"dataframe\">\n",
              "  <thead>\n",
              "    <tr style=\"text-align: left;\">\n",
              "      <th>epoch</th>\n",
              "      <th>train_loss</th>\n",
              "      <th>valid_loss</th>\n",
              "      <th>foreground_acc</th>\n",
              "      <th>diceLV</th>\n",
              "      <th>diceMY</th>\n",
              "      <th>diceRV</th>\n",
              "      <th>diceEd</th>\n",
              "      <th>diceSc</th>\n",
              "      <th>time</th>\n",
              "    </tr>\n",
              "  </thead>\n",
              "  <tbody>\n",
              "    <tr>\n",
              "      <td>0</td>\n",
              "      <td>0.718315</td>\n",
              "      <td>0.980650</td>\n",
              "      <td>0.006446</td>\n",
              "      <td>0.029914</td>\n",
              "      <td>0.000000</td>\n",
              "      <td>0.004842</td>\n",
              "      <td>0.200000</td>\n",
              "      <td>0.120000</td>\n",
              "      <td>00:21</td>\n",
              "    </tr>\n",
              "  </tbody>\n",
              "</table>"
            ],
            "text/plain": [
              "<IPython.core.display.HTML object>"
            ]
          },
          "metadata": {
            "tags": []
          }
        },
        {
          "output_type": "display_data",
          "data": {
            "text/html": [
              "<table border=\"1\" class=\"dataframe\">\n",
              "  <thead>\n",
              "    <tr style=\"text-align: left;\">\n",
              "      <th>epoch</th>\n",
              "      <th>train_loss</th>\n",
              "      <th>valid_loss</th>\n",
              "      <th>foreground_acc</th>\n",
              "      <th>diceLV</th>\n",
              "      <th>diceMY</th>\n",
              "      <th>diceRV</th>\n",
              "      <th>diceEd</th>\n",
              "      <th>diceSc</th>\n",
              "      <th>time</th>\n",
              "    </tr>\n",
              "  </thead>\n",
              "  <tbody>\n",
              "    <tr>\n",
              "      <td>0</td>\n",
              "      <td>0.436957</td>\n",
              "      <td>0.254848</td>\n",
              "      <td>0.292792</td>\n",
              "      <td>0.626406</td>\n",
              "      <td>0.036401</td>\n",
              "      <td>0.329156</td>\n",
              "      <td>0.200000</td>\n",
              "      <td>0.120000</td>\n",
              "      <td>00:17</td>\n",
              "    </tr>\n",
              "    <tr>\n",
              "      <td>1</td>\n",
              "      <td>0.332487</td>\n",
              "      <td>0.199177</td>\n",
              "      <td>0.595028</td>\n",
              "      <td>0.689560</td>\n",
              "      <td>0.572150</td>\n",
              "      <td>0.519800</td>\n",
              "      <td>0.200000</td>\n",
              "      <td>0.122796</td>\n",
              "      <td>00:16</td>\n",
              "    </tr>\n",
              "  </tbody>\n",
              "</table>"
            ],
            "text/plain": [
              "<IPython.core.display.HTML object>"
            ]
          },
          "metadata": {
            "tags": []
          }
        },
        {
          "output_type": "display_data",
          "data": {
            "text/html": [
              "\n",
              "    <div>\n",
              "        <style>\n",
              "            /* Turns off some styling */\n",
              "            progress {\n",
              "                /* gets rid of default border in Firefox and Opera. */\n",
              "                border: none;\n",
              "                /* Needs to be in here for Safari polyfill so background images work as expected. */\n",
              "                background-size: auto;\n",
              "            }\n",
              "            .progress-bar-interrupted, .progress-bar-interrupted::-webkit-progress-bar {\n",
              "                background: #F44336;\n",
              "            }\n",
              "        </style>\n",
              "      <progress value='0' class='' max='1' style='width:300px; height:20px; vertical-align: middle;'></progress>\n",
              "      0.00% [0/1 00:00<00:00]\n",
              "    </div>\n",
              "    \n",
              "<table border=\"1\" class=\"dataframe\">\n",
              "  <thead>\n",
              "    <tr style=\"text-align: left;\">\n",
              "      <th>epoch</th>\n",
              "      <th>train_loss</th>\n",
              "      <th>valid_loss</th>\n",
              "      <th>foreground_acc</th>\n",
              "      <th>diceLV</th>\n",
              "      <th>diceMY</th>\n",
              "      <th>diceRV</th>\n",
              "      <th>diceEd</th>\n",
              "      <th>diceSc</th>\n",
              "      <th>time</th>\n",
              "    </tr>\n",
              "  </thead>\n",
              "  <tbody>\n",
              "  </tbody>\n",
              "</table><p>\n",
              "\n",
              "    <div>\n",
              "        <style>\n",
              "            /* Turns off some styling */\n",
              "            progress {\n",
              "                /* gets rid of default border in Firefox and Opera. */\n",
              "                border: none;\n",
              "                /* Needs to be in here for Safari polyfill so background images work as expected. */\n",
              "                background-size: auto;\n",
              "            }\n",
              "            .progress-bar-interrupted, .progress-bar-interrupted::-webkit-progress-bar {\n",
              "                background: #F44336;\n",
              "            }\n",
              "        </style>\n",
              "      <progress value='3' class='' max='7' style='width:300px; height:20px; vertical-align: middle;'></progress>\n",
              "      42.86% [3/7 00:01<00:02 0.0805]\n",
              "    </div>\n",
              "    "
            ],
            "text/plain": [
              "<IPython.core.display.HTML object>"
            ]
          },
          "metadata": {
            "tags": []
          }
        }
      ]
    }
  ]
}