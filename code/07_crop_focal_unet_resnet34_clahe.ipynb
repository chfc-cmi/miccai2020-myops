{
  "nbformat": 4,
  "nbformat_minor": 0,
  "metadata": {
    "kernelspec": {
      "display_name": "Python 3",
      "language": "python",
      "name": "python3"
    },
    "language_info": {
      "codemirror_mode": {
        "name": "ipython",
        "version": 3
      },
      "file_extension": ".py",
      "mimetype": "text/x-python",
      "name": "python",
      "nbconvert_exporter": "python",
      "pygments_lexer": "ipython3",
      "version": "3.7.3"
    },
    "colab": {
      "name": "myops2020.ipynb",
      "provenance": [],
      "toc_visible": true
    },
    "accelerator": "GPU",
    "widgets": {
      "application/vnd.jupyter.widget-state+json": {
        "7fd67eecdfd2463ea62cf9e5e6387bcc": {
          "model_module": "@jupyter-widgets/controls",
          "model_name": "HBoxModel",
          "state": {
            "_view_name": "HBoxView",
            "_dom_classes": [],
            "_model_name": "HBoxModel",
            "_view_module": "@jupyter-widgets/controls",
            "_model_module_version": "1.5.0",
            "_view_count": null,
            "_view_module_version": "1.5.0",
            "box_style": "",
            "layout": "IPY_MODEL_8f9200acbc2d4def909c3621f18bd0a5",
            "_model_module": "@jupyter-widgets/controls",
            "children": [
              "IPY_MODEL_b3b2f4a959884a67b1f114261477b415",
              "IPY_MODEL_ae64c6137e5745f893e5961bc0f218d1"
            ]
          }
        },
        "8f9200acbc2d4def909c3621f18bd0a5": {
          "model_module": "@jupyter-widgets/base",
          "model_name": "LayoutModel",
          "state": {
            "_view_name": "LayoutView",
            "grid_template_rows": null,
            "right": null,
            "justify_content": null,
            "_view_module": "@jupyter-widgets/base",
            "overflow": null,
            "_model_module_version": "1.2.0",
            "_view_count": null,
            "flex_flow": null,
            "width": null,
            "min_width": null,
            "border": null,
            "align_items": null,
            "bottom": null,
            "_model_module": "@jupyter-widgets/base",
            "top": null,
            "grid_column": null,
            "overflow_y": null,
            "overflow_x": null,
            "grid_auto_flow": null,
            "grid_area": null,
            "grid_template_columns": null,
            "flex": null,
            "_model_name": "LayoutModel",
            "justify_items": null,
            "grid_row": null,
            "max_height": null,
            "align_content": null,
            "visibility": null,
            "align_self": null,
            "height": null,
            "min_height": null,
            "padding": null,
            "grid_auto_rows": null,
            "grid_gap": null,
            "max_width": null,
            "order": null,
            "_view_module_version": "1.2.0",
            "grid_template_areas": null,
            "object_position": null,
            "object_fit": null,
            "grid_auto_columns": null,
            "margin": null,
            "display": null,
            "left": null
          }
        },
        "b3b2f4a959884a67b1f114261477b415": {
          "model_module": "@jupyter-widgets/controls",
          "model_name": "FloatProgressModel",
          "state": {
            "_view_name": "ProgressView",
            "style": "IPY_MODEL_7c25a85ae67f47eba8d6a8b02b387d81",
            "_dom_classes": [],
            "description": "100%",
            "_model_name": "FloatProgressModel",
            "bar_style": "success",
            "max": 87306240,
            "_view_module": "@jupyter-widgets/controls",
            "_model_module_version": "1.5.0",
            "value": 87306240,
            "_view_count": null,
            "_view_module_version": "1.5.0",
            "orientation": "horizontal",
            "min": 0,
            "description_tooltip": null,
            "_model_module": "@jupyter-widgets/controls",
            "layout": "IPY_MODEL_00c372078d5f469293ce426864037a32"
          }
        },
        "ae64c6137e5745f893e5961bc0f218d1": {
          "model_module": "@jupyter-widgets/controls",
          "model_name": "HTMLModel",
          "state": {
            "_view_name": "HTMLView",
            "style": "IPY_MODEL_2360a595f0744da08dd475481046d498",
            "_dom_classes": [],
            "description": "",
            "_model_name": "HTMLModel",
            "placeholder": "​",
            "_view_module": "@jupyter-widgets/controls",
            "_model_module_version": "1.5.0",
            "value": " 83.3M/83.3M [01:36&lt;00:00, 901kB/s]",
            "_view_count": null,
            "_view_module_version": "1.5.0",
            "description_tooltip": null,
            "_model_module": "@jupyter-widgets/controls",
            "layout": "IPY_MODEL_fcb4979db02144a3a3004ca687871682"
          }
        },
        "7c25a85ae67f47eba8d6a8b02b387d81": {
          "model_module": "@jupyter-widgets/controls",
          "model_name": "ProgressStyleModel",
          "state": {
            "_view_name": "StyleView",
            "_model_name": "ProgressStyleModel",
            "description_width": "initial",
            "_view_module": "@jupyter-widgets/base",
            "_model_module_version": "1.5.0",
            "_view_count": null,
            "_view_module_version": "1.2.0",
            "bar_color": null,
            "_model_module": "@jupyter-widgets/controls"
          }
        },
        "00c372078d5f469293ce426864037a32": {
          "model_module": "@jupyter-widgets/base",
          "model_name": "LayoutModel",
          "state": {
            "_view_name": "LayoutView",
            "grid_template_rows": null,
            "right": null,
            "justify_content": null,
            "_view_module": "@jupyter-widgets/base",
            "overflow": null,
            "_model_module_version": "1.2.0",
            "_view_count": null,
            "flex_flow": null,
            "width": null,
            "min_width": null,
            "border": null,
            "align_items": null,
            "bottom": null,
            "_model_module": "@jupyter-widgets/base",
            "top": null,
            "grid_column": null,
            "overflow_y": null,
            "overflow_x": null,
            "grid_auto_flow": null,
            "grid_area": null,
            "grid_template_columns": null,
            "flex": null,
            "_model_name": "LayoutModel",
            "justify_items": null,
            "grid_row": null,
            "max_height": null,
            "align_content": null,
            "visibility": null,
            "align_self": null,
            "height": null,
            "min_height": null,
            "padding": null,
            "grid_auto_rows": null,
            "grid_gap": null,
            "max_width": null,
            "order": null,
            "_view_module_version": "1.2.0",
            "grid_template_areas": null,
            "object_position": null,
            "object_fit": null,
            "grid_auto_columns": null,
            "margin": null,
            "display": null,
            "left": null
          }
        },
        "2360a595f0744da08dd475481046d498": {
          "model_module": "@jupyter-widgets/controls",
          "model_name": "DescriptionStyleModel",
          "state": {
            "_view_name": "StyleView",
            "_model_name": "DescriptionStyleModel",
            "description_width": "",
            "_view_module": "@jupyter-widgets/base",
            "_model_module_version": "1.5.0",
            "_view_count": null,
            "_view_module_version": "1.2.0",
            "_model_module": "@jupyter-widgets/controls"
          }
        },
        "fcb4979db02144a3a3004ca687871682": {
          "model_module": "@jupyter-widgets/base",
          "model_name": "LayoutModel",
          "state": {
            "_view_name": "LayoutView",
            "grid_template_rows": null,
            "right": null,
            "justify_content": null,
            "_view_module": "@jupyter-widgets/base",
            "overflow": null,
            "_model_module_version": "1.2.0",
            "_view_count": null,
            "flex_flow": null,
            "width": null,
            "min_width": null,
            "border": null,
            "align_items": null,
            "bottom": null,
            "_model_module": "@jupyter-widgets/base",
            "top": null,
            "grid_column": null,
            "overflow_y": null,
            "overflow_x": null,
            "grid_auto_flow": null,
            "grid_area": null,
            "grid_template_columns": null,
            "flex": null,
            "_model_name": "LayoutModel",
            "justify_items": null,
            "grid_row": null,
            "max_height": null,
            "align_content": null,
            "visibility": null,
            "align_self": null,
            "height": null,
            "min_height": null,
            "padding": null,
            "grid_auto_rows": null,
            "grid_gap": null,
            "max_width": null,
            "order": null,
            "_view_module_version": "1.2.0",
            "grid_template_areas": null,
            "object_position": null,
            "object_fit": null,
            "grid_auto_columns": null,
            "margin": null,
            "display": null,
            "left": null
          }
        },
        "e048ea8e20e44ceaaf61aca0f271056b": {
          "model_module": "@jupyter-widgets/controls",
          "model_name": "HBoxModel",
          "state": {
            "_view_name": "HBoxView",
            "_dom_classes": [],
            "_model_name": "HBoxModel",
            "_view_module": "@jupyter-widgets/controls",
            "_model_module_version": "1.5.0",
            "_view_count": null,
            "_view_module_version": "1.5.0",
            "box_style": "",
            "layout": "IPY_MODEL_6a18c4cc2dfd4c01b71271e0dd1198c9",
            "_model_module": "@jupyter-widgets/controls",
            "children": [
              "IPY_MODEL_0085abd674404e149f37746a3024ce6a",
              "IPY_MODEL_c85a96b731814b23ae1d058e12c25504"
            ]
          }
        },
        "6a18c4cc2dfd4c01b71271e0dd1198c9": {
          "model_module": "@jupyter-widgets/base",
          "model_name": "LayoutModel",
          "state": {
            "_view_name": "LayoutView",
            "grid_template_rows": null,
            "right": null,
            "justify_content": null,
            "_view_module": "@jupyter-widgets/base",
            "overflow": null,
            "_model_module_version": "1.2.0",
            "_view_count": null,
            "flex_flow": null,
            "width": null,
            "min_width": null,
            "border": null,
            "align_items": null,
            "bottom": null,
            "_model_module": "@jupyter-widgets/base",
            "top": null,
            "grid_column": null,
            "overflow_y": null,
            "overflow_x": null,
            "grid_auto_flow": null,
            "grid_area": null,
            "grid_template_columns": null,
            "flex": null,
            "_model_name": "LayoutModel",
            "justify_items": null,
            "grid_row": null,
            "max_height": null,
            "align_content": null,
            "visibility": null,
            "align_self": null,
            "height": null,
            "min_height": null,
            "padding": null,
            "grid_auto_rows": null,
            "grid_gap": null,
            "max_width": null,
            "order": null,
            "_view_module_version": "1.2.0",
            "grid_template_areas": null,
            "object_position": null,
            "object_fit": null,
            "grid_auto_columns": null,
            "margin": null,
            "display": null,
            "left": null
          }
        },
        "0085abd674404e149f37746a3024ce6a": {
          "model_module": "@jupyter-widgets/controls",
          "model_name": "FloatProgressModel",
          "state": {
            "_view_name": "ProgressView",
            "style": "IPY_MODEL_181c6aa434a348e9bcd8219591d31664",
            "_dom_classes": [],
            "description": "100%",
            "_model_name": "FloatProgressModel",
            "bar_style": "success",
            "max": 25,
            "_view_module": "@jupyter-widgets/controls",
            "_model_module_version": "1.5.0",
            "value": 25,
            "_view_count": null,
            "_view_module_version": "1.5.0",
            "orientation": "horizontal",
            "min": 0,
            "description_tooltip": null,
            "_model_module": "@jupyter-widgets/controls",
            "layout": "IPY_MODEL_e809137d8b0c44cfb989b98b20918f40"
          }
        },
        "c85a96b731814b23ae1d058e12c25504": {
          "model_module": "@jupyter-widgets/controls",
          "model_name": "HTMLModel",
          "state": {
            "_view_name": "HTMLView",
            "style": "IPY_MODEL_bf07400d2c404727b61f039e1393e8d6",
            "_dom_classes": [],
            "description": "",
            "_model_name": "HTMLModel",
            "placeholder": "​",
            "_view_module": "@jupyter-widgets/controls",
            "_model_module_version": "1.5.0",
            "value": " 25/25 [00:17&lt;00:00,  1.44it/s]",
            "_view_count": null,
            "_view_module_version": "1.5.0",
            "description_tooltip": null,
            "_model_module": "@jupyter-widgets/controls",
            "layout": "IPY_MODEL_28c17e77cc3b40c18f90ab21a51350d0"
          }
        },
        "181c6aa434a348e9bcd8219591d31664": {
          "model_module": "@jupyter-widgets/controls",
          "model_name": "ProgressStyleModel",
          "state": {
            "_view_name": "StyleView",
            "_model_name": "ProgressStyleModel",
            "description_width": "initial",
            "_view_module": "@jupyter-widgets/base",
            "_model_module_version": "1.5.0",
            "_view_count": null,
            "_view_module_version": "1.2.0",
            "bar_color": null,
            "_model_module": "@jupyter-widgets/controls"
          }
        },
        "e809137d8b0c44cfb989b98b20918f40": {
          "model_module": "@jupyter-widgets/base",
          "model_name": "LayoutModel",
          "state": {
            "_view_name": "LayoutView",
            "grid_template_rows": null,
            "right": null,
            "justify_content": null,
            "_view_module": "@jupyter-widgets/base",
            "overflow": null,
            "_model_module_version": "1.2.0",
            "_view_count": null,
            "flex_flow": null,
            "width": null,
            "min_width": null,
            "border": null,
            "align_items": null,
            "bottom": null,
            "_model_module": "@jupyter-widgets/base",
            "top": null,
            "grid_column": null,
            "overflow_y": null,
            "overflow_x": null,
            "grid_auto_flow": null,
            "grid_area": null,
            "grid_template_columns": null,
            "flex": null,
            "_model_name": "LayoutModel",
            "justify_items": null,
            "grid_row": null,
            "max_height": null,
            "align_content": null,
            "visibility": null,
            "align_self": null,
            "height": null,
            "min_height": null,
            "padding": null,
            "grid_auto_rows": null,
            "grid_gap": null,
            "max_width": null,
            "order": null,
            "_view_module_version": "1.2.0",
            "grid_template_areas": null,
            "object_position": null,
            "object_fit": null,
            "grid_auto_columns": null,
            "margin": null,
            "display": null,
            "left": null
          }
        },
        "bf07400d2c404727b61f039e1393e8d6": {
          "model_module": "@jupyter-widgets/controls",
          "model_name": "DescriptionStyleModel",
          "state": {
            "_view_name": "StyleView",
            "_model_name": "DescriptionStyleModel",
            "description_width": "",
            "_view_module": "@jupyter-widgets/base",
            "_model_module_version": "1.5.0",
            "_view_count": null,
            "_view_module_version": "1.2.0",
            "_model_module": "@jupyter-widgets/controls"
          }
        },
        "28c17e77cc3b40c18f90ab21a51350d0": {
          "model_module": "@jupyter-widgets/base",
          "model_name": "LayoutModel",
          "state": {
            "_view_name": "LayoutView",
            "grid_template_rows": null,
            "right": null,
            "justify_content": null,
            "_view_module": "@jupyter-widgets/base",
            "overflow": null,
            "_model_module_version": "1.2.0",
            "_view_count": null,
            "flex_flow": null,
            "width": null,
            "min_width": null,
            "border": null,
            "align_items": null,
            "bottom": null,
            "_model_module": "@jupyter-widgets/base",
            "top": null,
            "grid_column": null,
            "overflow_y": null,
            "overflow_x": null,
            "grid_auto_flow": null,
            "grid_area": null,
            "grid_template_columns": null,
            "flex": null,
            "_model_name": "LayoutModel",
            "justify_items": null,
            "grid_row": null,
            "max_height": null,
            "align_content": null,
            "visibility": null,
            "align_self": null,
            "height": null,
            "min_height": null,
            "padding": null,
            "grid_auto_rows": null,
            "grid_gap": null,
            "max_width": null,
            "order": null,
            "_view_module_version": "1.2.0",
            "grid_template_areas": null,
            "object_position": null,
            "object_fit": null,
            "grid_auto_columns": null,
            "margin": null,
            "display": null,
            "left": null
          }
        }
      }
    }
  },
  "cells": [
    {
      "cell_type": "markdown",
      "metadata": {
        "id": "v4vgTY-R3BHv",
        "colab_type": "text"
      },
      "source": [
        "# MyoPS 2020 Challenge\n",
        "\n",
        "End-to-end, multi-channel, focal loss, all classes, cropped"
      ]
    },
    {
      "cell_type": "code",
      "metadata": {
        "id": "GGtpmPW53Ksx",
        "colab_type": "code",
        "colab": {
          "base_uri": "https://localhost:8080/",
          "height": 799
        },
        "outputId": "8faa87d3-c9d2-4c84-d90c-e151ee5acead"
      },
      "source": [
        "!pip install fastai2"
      ],
      "execution_count": 2,
      "outputs": [
        {
          "output_type": "stream",
          "text": [
            "Collecting fastai2\n",
            "\u001b[?25l  Downloading https://files.pythonhosted.org/packages/26/4f/0f61bb0d376eb47c20430639bac4946ca0cffcd7e693fb86698656324f2d/fastai2-0.0.17-py3-none-any.whl (190kB)\n",
            "\r\u001b[K     |█▊                              | 10kB 18.3MB/s eta 0:00:01\r\u001b[K     |███▌                            | 20kB 4.7MB/s eta 0:00:01\r\u001b[K     |█████▏                          | 30kB 6.1MB/s eta 0:00:01\r\u001b[K     |███████                         | 40kB 6.2MB/s eta 0:00:01\r\u001b[K     |████████▋                       | 51kB 5.2MB/s eta 0:00:01\r\u001b[K     |██████████▍                     | 61kB 5.8MB/s eta 0:00:01\r\u001b[K     |████████████                    | 71kB 6.1MB/s eta 0:00:01\r\u001b[K     |█████████████▉                  | 81kB 6.7MB/s eta 0:00:01\r\u001b[K     |███████████████▌                | 92kB 7.2MB/s eta 0:00:01\r\u001b[K     |█████████████████▎              | 102kB 7.0MB/s eta 0:00:01\r\u001b[K     |███████████████████             | 112kB 7.0MB/s eta 0:00:01\r\u001b[K     |████████████████████▊           | 122kB 7.0MB/s eta 0:00:01\r\u001b[K     |██████████████████████▍         | 133kB 7.0MB/s eta 0:00:01\r\u001b[K     |████████████████████████▏       | 143kB 7.0MB/s eta 0:00:01\r\u001b[K     |█████████████████████████▉      | 153kB 7.0MB/s eta 0:00:01\r\u001b[K     |███████████████████████████▋    | 163kB 7.0MB/s eta 0:00:01\r\u001b[K     |█████████████████████████████▎  | 174kB 7.0MB/s eta 0:00:01\r\u001b[K     |███████████████████████████████ | 184kB 7.0MB/s eta 0:00:01\r\u001b[K     |████████████████████████████████| 194kB 7.0MB/s \n",
            "\u001b[?25hRequirement already satisfied: fastprogress>=0.1.22 in /usr/local/lib/python3.6/dist-packages (from fastai2) (0.2.3)\n",
            "Requirement already satisfied: requests in /usr/local/lib/python3.6/dist-packages (from fastai2) (2.23.0)\n",
            "Requirement already satisfied: pillow in /usr/local/lib/python3.6/dist-packages (from fastai2) (7.0.0)\n",
            "Requirement already satisfied: matplotlib in /usr/local/lib/python3.6/dist-packages (from fastai2) (3.2.2)\n",
            "Collecting fastcore\n",
            "  Downloading https://files.pythonhosted.org/packages/e2/6e/a18c0ff6cdca36915e65cf1690137134241a33d74ceef7882f4a63a6af55/fastcore-0.1.18-py3-none-any.whl\n",
            "Requirement already satisfied: pandas in /usr/local/lib/python3.6/dist-packages (from fastai2) (1.0.5)\n",
            "Requirement already satisfied: scikit-learn in /usr/local/lib/python3.6/dist-packages (from fastai2) (0.22.2.post1)\n",
            "Requirement already satisfied: torchvision>=0.5 in /usr/local/lib/python3.6/dist-packages (from fastai2) (0.6.1+cu101)\n",
            "Requirement already satisfied: scipy in /usr/local/lib/python3.6/dist-packages (from fastai2) (1.4.1)\n",
            "Requirement already satisfied: torch>=1.3.0 in /usr/local/lib/python3.6/dist-packages (from fastai2) (1.5.1+cu101)\n",
            "Requirement already satisfied: spacy in /usr/local/lib/python3.6/dist-packages (from fastai2) (2.2.4)\n",
            "Requirement already satisfied: pyyaml in /usr/local/lib/python3.6/dist-packages (from fastai2) (3.13)\n",
            "Requirement already satisfied: urllib3!=1.25.0,!=1.25.1,<1.26,>=1.21.1 in /usr/local/lib/python3.6/dist-packages (from requests->fastai2) (1.24.3)\n",
            "Requirement already satisfied: chardet<4,>=3.0.2 in /usr/local/lib/python3.6/dist-packages (from requests->fastai2) (3.0.4)\n",
            "Requirement already satisfied: idna<3,>=2.5 in /usr/local/lib/python3.6/dist-packages (from requests->fastai2) (2.10)\n",
            "Requirement already satisfied: certifi>=2017.4.17 in /usr/local/lib/python3.6/dist-packages (from requests->fastai2) (2020.6.20)\n",
            "Requirement already satisfied: numpy>=1.11 in /usr/local/lib/python3.6/dist-packages (from matplotlib->fastai2) (1.18.5)\n",
            "Requirement already satisfied: kiwisolver>=1.0.1 in /usr/local/lib/python3.6/dist-packages (from matplotlib->fastai2) (1.2.0)\n",
            "Requirement already satisfied: python-dateutil>=2.1 in /usr/local/lib/python3.6/dist-packages (from matplotlib->fastai2) (2.8.1)\n",
            "Requirement already satisfied: pyparsing!=2.0.4,!=2.1.2,!=2.1.6,>=2.0.1 in /usr/local/lib/python3.6/dist-packages (from matplotlib->fastai2) (2.4.7)\n",
            "Requirement already satisfied: cycler>=0.10 in /usr/local/lib/python3.6/dist-packages (from matplotlib->fastai2) (0.10.0)\n",
            "Requirement already satisfied: dataclasses>='0.7'; python_version < \"3.7\" in /usr/local/lib/python3.6/dist-packages (from fastcore->fastai2) (0.7)\n",
            "Requirement already satisfied: pytz>=2017.2 in /usr/local/lib/python3.6/dist-packages (from pandas->fastai2) (2018.9)\n",
            "Requirement already satisfied: joblib>=0.11 in /usr/local/lib/python3.6/dist-packages (from scikit-learn->fastai2) (0.16.0)\n",
            "Requirement already satisfied: future in /usr/local/lib/python3.6/dist-packages (from torch>=1.3.0->fastai2) (0.16.0)\n",
            "Requirement already satisfied: thinc==7.4.0 in /usr/local/lib/python3.6/dist-packages (from spacy->fastai2) (7.4.0)\n",
            "Requirement already satisfied: tqdm<5.0.0,>=4.38.0 in /usr/local/lib/python3.6/dist-packages (from spacy->fastai2) (4.41.1)\n",
            "Requirement already satisfied: wasabi<1.1.0,>=0.4.0 in /usr/local/lib/python3.6/dist-packages (from spacy->fastai2) (0.7.0)\n",
            "Requirement already satisfied: plac<1.2.0,>=0.9.6 in /usr/local/lib/python3.6/dist-packages (from spacy->fastai2) (1.1.3)\n",
            "Requirement already satisfied: preshed<3.1.0,>=3.0.2 in /usr/local/lib/python3.6/dist-packages (from spacy->fastai2) (3.0.2)\n",
            "Requirement already satisfied: blis<0.5.0,>=0.4.0 in /usr/local/lib/python3.6/dist-packages (from spacy->fastai2) (0.4.1)\n",
            "Requirement already satisfied: srsly<1.1.0,>=1.0.2 in /usr/local/lib/python3.6/dist-packages (from spacy->fastai2) (1.0.2)\n",
            "Requirement already satisfied: catalogue<1.1.0,>=0.0.7 in /usr/local/lib/python3.6/dist-packages (from spacy->fastai2) (1.0.0)\n",
            "Requirement already satisfied: murmurhash<1.1.0,>=0.28.0 in /usr/local/lib/python3.6/dist-packages (from spacy->fastai2) (1.0.2)\n",
            "Requirement already satisfied: cymem<2.1.0,>=2.0.2 in /usr/local/lib/python3.6/dist-packages (from spacy->fastai2) (2.0.3)\n",
            "Requirement already satisfied: setuptools in /usr/local/lib/python3.6/dist-packages (from spacy->fastai2) (49.1.0)\n",
            "Requirement already satisfied: six>=1.5 in /usr/local/lib/python3.6/dist-packages (from python-dateutil>=2.1->matplotlib->fastai2) (1.12.0)\n",
            "Requirement already satisfied: importlib-metadata>=0.20; python_version < \"3.8\" in /usr/local/lib/python3.6/dist-packages (from catalogue<1.1.0,>=0.0.7->spacy->fastai2) (1.7.0)\n",
            "Requirement already satisfied: zipp>=0.5 in /usr/local/lib/python3.6/dist-packages (from importlib-metadata>=0.20; python_version < \"3.8\"->catalogue<1.1.0,>=0.0.7->spacy->fastai2) (3.1.0)\n",
            "Installing collected packages: fastcore, fastai2\n",
            "Successfully installed fastai2-0.0.17 fastcore-0.1.18\n"
          ],
          "name": "stdout"
        }
      ]
    },
    {
      "cell_type": "code",
      "metadata": {
        "id": "7JFmHg-nOxcx",
        "colab_type": "code",
        "colab": {
          "base_uri": "https://localhost:8080/",
          "height": 295
        },
        "outputId": "68aebf9a-74b5-47ec-a740-1736df839711"
      },
      "source": [
        "!pip install git+https://github.com/Project-MONAI/MONAI#egg=MONAI"
      ],
      "execution_count": 1,
      "outputs": [
        {
          "output_type": "stream",
          "text": [
            "Collecting MONAI\n",
            "  Cloning https://github.com/Project-MONAI/MONAI to /tmp/pip-install-5g2j069m/MONAI\n",
            "  Running command git clone -q https://github.com/Project-MONAI/MONAI /tmp/pip-install-5g2j069m/MONAI\n",
            "  Installing build dependencies ... \u001b[?25l\u001b[?25hdone\n",
            "  Getting requirements to build wheel ... \u001b[?25l\u001b[?25hdone\n",
            "    Preparing wheel metadata ... \u001b[?25l\u001b[?25hdone\n",
            "Requirement already satisfied: numpy>=1.17 in /usr/local/lib/python3.6/dist-packages (from MONAI) (1.18.5)\n",
            "Requirement already satisfied: torch>=1.4 in /usr/local/lib/python3.6/dist-packages (from MONAI) (1.5.1+cu101)\n",
            "Requirement already satisfied: future in /usr/local/lib/python3.6/dist-packages (from torch>=1.4->MONAI) (0.16.0)\n",
            "Building wheels for collected packages: MONAI\n",
            "  Building wheel for MONAI (PEP 517) ... \u001b[?25l\u001b[?25hdone\n",
            "  Created wheel for MONAI: filename=monai-0.2.0+34.g267407f-cp36-none-any.whl size=221955 sha256=cc12d0f84aafcc12e9d841763183ac6409549e6aef5b5e08a37ffb6511f36563\n",
            "  Stored in directory: /tmp/pip-ephem-wheel-cache-09_6xkvm/wheels/32/e1/f2/9985050c97af405af0c840d4b9fc44324fdf0c92fe03de697f\n",
            "Successfully built MONAI\n",
            "Installing collected packages: MONAI\n",
            "Successfully installed MONAI-0.2.0+34.g267407f\n"
          ],
          "name": "stdout"
        }
      ]
    },
    {
      "cell_type": "code",
      "metadata": {
        "id": "kp3_fDwx3BH2",
        "colab_type": "code",
        "colab": {}
      },
      "source": [
        "from fastai2.vision.all import *\n",
        "from fastai2.vision.models import resnet34\n",
        "from monai.losses import FocalLoss\n",
        "import gc"
      ],
      "execution_count": 3,
      "outputs": []
    },
    {
      "cell_type": "code",
      "metadata": {
        "id": "5mzjsDiNaasG",
        "colab_type": "code",
        "colab": {}
      },
      "source": [
        "import nibabel as nib\n",
        "from tqdm.notebook import tqdm"
      ],
      "execution_count": 4,
      "outputs": []
    },
    {
      "cell_type": "markdown",
      "metadata": {
        "id": "9W7TbEDn3BJU",
        "colab_type": "text"
      },
      "source": [
        "### fastai U-Net on these static images"
      ]
    },
    {
      "cell_type": "code",
      "metadata": {
        "id": "UWJw5dEO6v4C",
        "colab_type": "code",
        "colab": {
          "base_uri": "https://localhost:8080/",
          "height": 124
        },
        "outputId": "4fe150ba-c539-4cbc-ebd8-13f7c559171b"
      },
      "source": [
        "from google.colab import drive\n",
        "drive.mount('/content/drive')"
      ],
      "execution_count": 5,
      "outputs": [
        {
          "output_type": "stream",
          "text": [
            "Go to this URL in a browser: https://accounts.google.com/o/oauth2/auth?client_id=947318989803-6bn6qk8qdgf4n4g3pfee6491hc0brc4i.apps.googleusercontent.com&redirect_uri=urn%3aietf%3awg%3aoauth%3a2.0%3aoob&response_type=code&scope=email%20https%3a%2f%2fwww.googleapis.com%2fauth%2fdocs.test%20https%3a%2f%2fwww.googleapis.com%2fauth%2fdrive%20https%3a%2f%2fwww.googleapis.com%2fauth%2fdrive.photos.readonly%20https%3a%2f%2fwww.googleapis.com%2fauth%2fpeopleapi.readonly\n",
            "\n",
            "Enter your authorization code:\n",
            "··········\n",
            "Mounted at /content/drive\n"
          ],
          "name": "stdout"
        }
      ]
    },
    {
      "cell_type": "code",
      "metadata": {
        "id": "kpfKqu9a7Htb",
        "colab_type": "code",
        "colab": {}
      },
      "source": [
        "path = \"/content/drive/My Drive/miccai2020/myops/png_with_clahe\""
      ],
      "execution_count": 6,
      "outputs": []
    },
    {
      "cell_type": "code",
      "metadata": {
        "id": "qTh7WF48QpkJ",
        "colab_type": "code",
        "colab": {
          "base_uri": "https://localhost:8080/",
          "height": 104
        },
        "outputId": "201d819b-85a0-4fad-a4cf-3acf56431740"
      },
      "source": [
        "np.random.seed(42)\n",
        "ids = np.arange(101,126)\n",
        "np.random.shuffle(ids)\n",
        "ids = np.reshape(ids,(-1,5))\n",
        "ids"
      ],
      "execution_count": 7,
      "outputs": [
        {
          "output_type": "execute_result",
          "data": {
            "text/plain": [
              "array([[109, 117, 101, 124, 112],\n",
              "       [110, 114, 102, 123, 106],\n",
              "       [103, 113, 116, 104, 105],\n",
              "       [121, 118, 122, 119, 125],\n",
              "       [108, 111, 115, 120, 107]])"
            ]
          },
          "metadata": {
            "tags": []
          },
          "execution_count": 7
        }
      ]
    },
    {
      "cell_type": "code",
      "metadata": {
        "id": "GHb771YGmINc",
        "colab_type": "code",
        "colab": {}
      },
      "source": [
        "def get_train_images(path):\n",
        "  return L([x for x in get_image_files(path) if x.name.startswith('1')])"
      ],
      "execution_count": 16,
      "outputs": []
    },
    {
      "cell_type": "markdown",
      "metadata": {
        "id": "Sa2yqfxC05wI",
        "colab_type": "text"
      },
      "source": [
        "Use cropping instead of resizing"
      ]
    },
    {
      "cell_type": "code",
      "metadata": {
        "id": "nmx868OI3BJk",
        "colab_type": "code",
        "colab": {}
      },
      "source": [
        "myopsDlsCV2 = DataBlock(blocks=(ImageBlock, MaskBlock(codes = ['bg','lv','my','rv','ed','sc'])),\n",
        "    get_items=get_train_images,\n",
        "    splitter=FuncSplitter(lambda o: int(o.name.split(\"-\")[0]) in ids[2]),\n",
        "    get_y=lambda o: str(o).replace(\"images\",\"masks\"),\n",
        "    item_tfms=CropPad(256),\n",
        "    batch_tfms=aug_transforms(max_rotate=90,pad_mode='zeros')).dataloaders(f'{path}/images',num_workers=8,batch_size=16)"
      ],
      "execution_count": 18,
      "outputs": []
    },
    {
      "cell_type": "code",
      "metadata": {
        "id": "QLRp8KLX3BJp",
        "colab_type": "code",
        "colab": {
          "base_uri": "https://localhost:8080/",
          "height": 466
        },
        "outputId": "c55029ae-24ce-46f8-f0af-fc7c290ce23a"
      },
      "source": [
        "myopsDlsCV2.show_batch(figsize=(15,8))"
      ],
      "execution_count": 19,
      "outputs": [
        {
          "output_type": "display_data",
          "data": {
            "image/png": "[encoded data removed]",
            "text/plain": [
              "<Figure size 1080x576 with 9 Axes>"
            ]
          },
          "metadata": {
            "tags": [],
            "needs_background": "light"
          }
        }
      ]
    },
    {
      "cell_type": "code",
      "metadata": {
        "id": "_-YEuw8GCYtI",
        "colab_type": "code",
        "colab": {}
      },
      "source": [
        "def multi_dice(input:Tensor, targs:Tensor, class_id=0, inverse=False)->Tensor:\n",
        "    n = targs.shape[0]\n",
        "    input = input.argmax(dim=1).view(n,-1)\n",
        "    # replace all with class_id with 1 all else with 0 to have binary case\n",
        "    output = (input == class_id).float()\n",
        "    # same for targs\n",
        "    targs = (targs.view(n,-1) == class_id).float()\n",
        "    if inverse:\n",
        "        output = 1 - output\n",
        "        targs = 1 - targs\n",
        "    intersect = (output * targs).sum(dim=1).float()\n",
        "    union = (output+targs).sum(dim=1).float()\n",
        "    res = 2. * intersect / union\n",
        "    res[torch.isnan(res)] = 1\n",
        "    return res.mean()\n",
        "\n",
        "def diceLV(input, targs): return multi_dice(input,targs,class_id=1)\n",
        "def diceMY(input, targs): return multi_dice(input,targs,class_id=2)\n",
        "def diceRV(input, targs): return multi_dice(input,targs,class_id=3)\n",
        "def diceEd(input, targs): return multi_dice(input,targs,class_id=4)\n",
        "def diceSc(input, targs): return multi_dice(input,targs,class_id=5)\n",
        "dices = [diceLV,diceMY,diceRV,diceEd,diceSc]"
      ],
      "execution_count": 20,
      "outputs": []
    },
    {
      "cell_type": "code",
      "metadata": {
        "id": "ZNFWVLuvTwLq",
        "colab_type": "code",
        "colab": {}
      },
      "source": [
        "monaiFocal = FocalLoss(weight=torch.Tensor([.1,.1,.1,.1,.3,.3]),reduction='mean')\n",
        "def myFocal(input, target):\n",
        "  return monaiFocal(input, target.unsqueeze(1))"
      ],
      "execution_count": 21,
      "outputs": []
    },
    {
      "cell_type": "code",
      "metadata": {
        "id": "ftgAi9Vgypo-",
        "colab_type": "code",
        "colab": {
          "base_uri": "https://localhost:8080/",
          "height": 84,
          "referenced_widgets": [
            "7fd67eecdfd2463ea62cf9e5e6387bcc",
            "8f9200acbc2d4def909c3621f18bd0a5",
            "b3b2f4a959884a67b1f114261477b415",
            "ae64c6137e5745f893e5961bc0f218d1",
            "7c25a85ae67f47eba8d6a8b02b387d81",
            "00c372078d5f469293ce426864037a32",
            "2360a595f0744da08dd475481046d498",
            "fcb4979db02144a3a3004ca687871682"
          ]
        },
        "outputId": "4f18bea8-9a6e-46f2-fd10-22a3ff230ca0"
      },
      "source": [
        "learn = unet_learner(\n",
        "  myopsDlsCV2,\n",
        "  resnet34,\n",
        "  loss_func=myFocal,\n",
        "  metrics=[foreground_acc, *dices]\n",
        ")"
      ],
      "execution_count": 22,
      "outputs": [
        {
          "output_type": "stream",
          "text": [
            "Downloading: \"https://download.pytorch.org/models/resnet34-333f7ec4.pth\" to /root/.cache/torch/checkpoints/resnet34-333f7ec4.pth\n"
          ],
          "name": "stderr"
        },
        {
          "output_type": "display_data",
          "data": {
            "application/vnd.jupyter.widget-view+json": {
              "model_id": "7fd67eecdfd2463ea62cf9e5e6387bcc",
              "version_minor": 0,
              "version_major": 2
            },
            "text/plain": [
              "HBox(children=(FloatProgress(value=0.0, max=87306240.0), HTML(value='')))"
            ]
          },
          "metadata": {
            "tags": []
          }
        },
        {
          "output_type": "stream",
          "text": [
            "\n"
          ],
          "name": "stdout"
        }
      ]
    },
    {
      "cell_type": "code",
      "metadata": {
        "id": "xSEEkIMHixmP",
        "colab_type": "code",
        "colab": {
          "base_uri": "https://localhost:8080/",
          "height": 975
        },
        "outputId": "6a0b9974-5487-47ad-fe85-c5b51c7bccfb"
      },
      "source": [
        "learn = unet_learner(\n",
        "  myopsDlsCV2,\n",
        "  resnet34,\n",
        "  loss_func=myFocal,\n",
        "  metrics=[foreground_acc, *dices]\n",
        ")\n",
        "learn.lr_find()\n",
        "learn.fine_tune(15, base_lr=1e-3, freeze_epochs=5)"
      ],
      "execution_count": 23,
      "outputs": [
        {
          "output_type": "display_data",
          "data": {
            "text/html": [
              ""
            ],
            "text/plain": [
              "<IPython.core.display.HTML object>"
            ]
          },
          "metadata": {
            "tags": []
          }
        },
        {
          "output_type": "display_data",
          "data": {
            "text/html": [
              "<table border=\"1\" class=\"dataframe\">\n",
              "  <thead>\n",
              "    <tr style=\"text-align: left;\">\n",
              "      <th>epoch</th>\n",
              "      <th>train_loss</th>\n",
              "      <th>valid_loss</th>\n",
              "      <th>foreground_acc</th>\n",
              "      <th>diceLV</th>\n",
              "      <th>diceMY</th>\n",
              "      <th>diceRV</th>\n",
              "      <th>diceEd</th>\n",
              "      <th>diceSc</th>\n",
              "      <th>time</th>\n",
              "    </tr>\n",
              "  </thead>\n",
              "  <tbody>\n",
              "    <tr>\n",
              "      <td>0</td>\n",
              "      <td>0.045560</td>\n",
              "      <td>0.032202</td>\n",
              "      <td>0.026722</td>\n",
              "      <td>0.067735</td>\n",
              "      <td>0.000009</td>\n",
              "      <td>0.067389</td>\n",
              "      <td>0.109816</td>\n",
              "      <td>0.202212</td>\n",
              "      <td>01:16</td>\n",
              "    </tr>\n",
              "    <tr>\n",
              "      <td>1</td>\n",
              "      <td>0.039790</td>\n",
              "      <td>0.036518</td>\n",
              "      <td>0.005769</td>\n",
              "      <td>0.030134</td>\n",
              "      <td>0.000000</td>\n",
              "      <td>0.000000</td>\n",
              "      <td>0.105263</td>\n",
              "      <td>0.263158</td>\n",
              "      <td>00:25</td>\n",
              "    </tr>\n",
              "    <tr>\n",
              "      <td>2</td>\n",
              "      <td>0.034891</td>\n",
              "      <td>0.021846</td>\n",
              "      <td>0.260100</td>\n",
              "      <td>0.450370</td>\n",
              "      <td>0.312168</td>\n",
              "      <td>0.181881</td>\n",
              "      <td>0.068296</td>\n",
              "      <td>0.186405</td>\n",
              "      <td>00:25</td>\n",
              "    </tr>\n",
              "    <tr>\n",
              "      <td>3</td>\n",
              "      <td>0.029904</td>\n",
              "      <td>0.023113</td>\n",
              "      <td>0.322053</td>\n",
              "      <td>0.726898</td>\n",
              "      <td>0.398838</td>\n",
              "      <td>0.077497</td>\n",
              "      <td>0.107618</td>\n",
              "      <td>0.236077</td>\n",
              "      <td>00:25</td>\n",
              "    </tr>\n",
              "    <tr>\n",
              "      <td>4</td>\n",
              "      <td>0.027954</td>\n",
              "      <td>0.026766</td>\n",
              "      <td>0.263249</td>\n",
              "      <td>0.602261</td>\n",
              "      <td>0.166055</td>\n",
              "      <td>0.103065</td>\n",
              "      <td>0.141866</td>\n",
              "      <td>0.218213</td>\n",
              "      <td>00:25</td>\n",
              "    </tr>\n",
              "  </tbody>\n",
              "</table>"
            ],
            "text/plain": [
              "<IPython.core.display.HTML object>"
            ]
          },
          "metadata": {
            "tags": []
          }
        },
        {
          "output_type": "display_data",
          "data": {
            "text/html": [
              "<table border=\"1\" class=\"dataframe\">\n",
              "  <thead>\n",
              "    <tr style=\"text-align: left;\">\n",
              "      <th>epoch</th>\n",
              "      <th>train_loss</th>\n",
              "      <th>valid_loss</th>\n",
              "      <th>foreground_acc</th>\n",
              "      <th>diceLV</th>\n",
              "      <th>diceMY</th>\n",
              "      <th>diceRV</th>\n",
              "      <th>diceEd</th>\n",
              "      <th>diceSc</th>\n",
              "      <th>time</th>\n",
              "    </tr>\n",
              "  </thead>\n",
              "  <tbody>\n",
              "    <tr>\n",
              "      <td>0</td>\n",
              "      <td>0.018954</td>\n",
              "      <td>0.016734</td>\n",
              "      <td>0.496146</td>\n",
              "      <td>0.677336</td>\n",
              "      <td>0.544421</td>\n",
              "      <td>0.404971</td>\n",
              "      <td>0.182908</td>\n",
              "      <td>0.204755</td>\n",
              "      <td>00:27</td>\n",
              "    </tr>\n",
              "    <tr>\n",
              "      <td>1</td>\n",
              "      <td>0.016710</td>\n",
              "      <td>0.012822</td>\n",
              "      <td>0.624111</td>\n",
              "      <td>0.690841</td>\n",
              "      <td>0.559858</td>\n",
              "      <td>0.694367</td>\n",
              "      <td>0.212543</td>\n",
              "      <td>0.160304</td>\n",
              "      <td>00:26</td>\n",
              "    </tr>\n",
              "    <tr>\n",
              "      <td>2</td>\n",
              "      <td>0.014978</td>\n",
              "      <td>0.013893</td>\n",
              "      <td>0.579663</td>\n",
              "      <td>0.597283</td>\n",
              "      <td>0.548959</td>\n",
              "      <td>0.664504</td>\n",
              "      <td>0.197828</td>\n",
              "      <td>0.194436</td>\n",
              "      <td>00:26</td>\n",
              "    </tr>\n",
              "    <tr>\n",
              "      <td>3</td>\n",
              "      <td>0.013704</td>\n",
              "      <td>0.010930</td>\n",
              "      <td>0.700397</td>\n",
              "      <td>0.764664</td>\n",
              "      <td>0.575695</td>\n",
              "      <td>0.784021</td>\n",
              "      <td>0.148906</td>\n",
              "      <td>0.260019</td>\n",
              "      <td>00:26</td>\n",
              "    </tr>\n",
              "    <tr>\n",
              "      <td>4</td>\n",
              "      <td>0.013095</td>\n",
              "      <td>0.012558</td>\n",
              "      <td>0.743163</td>\n",
              "      <td>0.773302</td>\n",
              "      <td>0.572094</td>\n",
              "      <td>0.741566</td>\n",
              "      <td>0.140387</td>\n",
              "      <td>0.247098</td>\n",
              "      <td>00:26</td>\n",
              "    </tr>\n",
              "    <tr>\n",
              "      <td>5</td>\n",
              "      <td>0.012275</td>\n",
              "      <td>0.011389</td>\n",
              "      <td>0.691749</td>\n",
              "      <td>0.765645</td>\n",
              "      <td>0.527041</td>\n",
              "      <td>0.793973</td>\n",
              "      <td>0.194962</td>\n",
              "      <td>0.276585</td>\n",
              "      <td>00:26</td>\n",
              "    </tr>\n",
              "    <tr>\n",
              "      <td>6</td>\n",
              "      <td>0.011420</td>\n",
              "      <td>0.010577</td>\n",
              "      <td>0.751364</td>\n",
              "      <td>0.773485</td>\n",
              "      <td>0.637517</td>\n",
              "      <td>0.795748</td>\n",
              "      <td>0.180019</td>\n",
              "      <td>0.291014</td>\n",
              "      <td>00:26</td>\n",
              "    </tr>\n",
              "    <tr>\n",
              "      <td>7</td>\n",
              "      <td>0.010657</td>\n",
              "      <td>0.010519</td>\n",
              "      <td>0.694733</td>\n",
              "      <td>0.746896</td>\n",
              "      <td>0.551478</td>\n",
              "      <td>0.815017</td>\n",
              "      <td>0.171845</td>\n",
              "      <td>0.286350</td>\n",
              "      <td>00:26</td>\n",
              "    </tr>\n",
              "    <tr>\n",
              "      <td>8</td>\n",
              "      <td>0.010042</td>\n",
              "      <td>0.009855</td>\n",
              "      <td>0.690410</td>\n",
              "      <td>0.789042</td>\n",
              "      <td>0.574963</td>\n",
              "      <td>0.811909</td>\n",
              "      <td>0.190306</td>\n",
              "      <td>0.317000</td>\n",
              "      <td>00:26</td>\n",
              "    </tr>\n",
              "    <tr>\n",
              "      <td>9</td>\n",
              "      <td>0.009521</td>\n",
              "      <td>0.010962</td>\n",
              "      <td>0.737657</td>\n",
              "      <td>0.806759</td>\n",
              "      <td>0.572281</td>\n",
              "      <td>0.803885</td>\n",
              "      <td>0.205911</td>\n",
              "      <td>0.272414</td>\n",
              "      <td>00:26</td>\n",
              "    </tr>\n",
              "    <tr>\n",
              "      <td>10</td>\n",
              "      <td>0.009159</td>\n",
              "      <td>0.010754</td>\n",
              "      <td>0.709029</td>\n",
              "      <td>0.787166</td>\n",
              "      <td>0.594700</td>\n",
              "      <td>0.811444</td>\n",
              "      <td>0.179038</td>\n",
              "      <td>0.280106</td>\n",
              "      <td>00:26</td>\n",
              "    </tr>\n",
              "    <tr>\n",
              "      <td>11</td>\n",
              "      <td>0.008773</td>\n",
              "      <td>0.010442</td>\n",
              "      <td>0.716239</td>\n",
              "      <td>0.794595</td>\n",
              "      <td>0.636621</td>\n",
              "      <td>0.809083</td>\n",
              "      <td>0.185827</td>\n",
              "      <td>0.324969</td>\n",
              "      <td>00:26</td>\n",
              "    </tr>\n",
              "    <tr>\n",
              "      <td>12</td>\n",
              "      <td>0.008352</td>\n",
              "      <td>0.010432</td>\n",
              "      <td>0.692827</td>\n",
              "      <td>0.779593</td>\n",
              "      <td>0.609485</td>\n",
              "      <td>0.798696</td>\n",
              "      <td>0.219301</td>\n",
              "      <td>0.331490</td>\n",
              "      <td>00:26</td>\n",
              "    </tr>\n",
              "    <tr>\n",
              "      <td>13</td>\n",
              "      <td>0.008061</td>\n",
              "      <td>0.009964</td>\n",
              "      <td>0.731311</td>\n",
              "      <td>0.808281</td>\n",
              "      <td>0.633824</td>\n",
              "      <td>0.814449</td>\n",
              "      <td>0.204250</td>\n",
              "      <td>0.326366</td>\n",
              "      <td>00:26</td>\n",
              "    </tr>\n",
              "    <tr>\n",
              "      <td>14</td>\n",
              "      <td>0.007795</td>\n",
              "      <td>0.009984</td>\n",
              "      <td>0.718664</td>\n",
              "      <td>0.798634</td>\n",
              "      <td>0.625751</td>\n",
              "      <td>0.812907</td>\n",
              "      <td>0.208183</td>\n",
              "      <td>0.341005</td>\n",
              "      <td>00:26</td>\n",
              "    </tr>\n",
              "  </tbody>\n",
              "</table>"
            ],
            "text/plain": [
              "<IPython.core.display.HTML object>"
            ]
          },
          "metadata": {
            "tags": []
          }
        },
        {
          "output_type": "display_data",
          "data": {
            "image/png": "[encoded data removed]",
            "text/plain": [
              "<Figure size 432x288 with 1 Axes>"
            ]
          },
          "metadata": {
            "tags": [],
            "needs_background": "light"
          }
        }
      ]
    },
    {
      "cell_type": "code",
      "metadata": {
        "id": "WscTgccYooGx",
        "colab_type": "code",
        "colab": {
          "base_uri": "https://localhost:8080/",
          "height": 265
        },
        "outputId": "57951676-2680-47c1-843d-8d8586a53336"
      },
      "source": [
        "learn.recorder.plot_loss()"
      ],
      "execution_count": 28,
      "outputs": [
        {
          "output_type": "display_data",
          "data": {
            "image/png": "[encoded data removed]",
            "text/plain": [
              "<Figure size 432x288 with 1 Axes>"
            ]
          },
          "metadata": {
            "tags": [],
            "needs_background": "light"
          }
        }
      ]
    },
    {
      "cell_type": "code",
      "metadata": {
        "id": "Qu1Hw0p70rZ6",
        "colab_type": "code",
        "colab": {}
      },
      "source": [
        "learn.path = Path(path).parent"
      ],
      "execution_count": null,
      "outputs": []
    },
    {
      "cell_type": "code",
      "metadata": {
        "id": "4ENP5DMDtJZP",
        "colab_type": "code",
        "colab": {}
      },
      "source": [
        "# For some reason export does not work -> use save instead\n",
        "learn.save('allClasses_multiChannel_clahe_crop256_focal3_cv2_5_15.pkl')"
      ],
      "execution_count": 29,
      "outputs": []
    },
    {
      "cell_type": "markdown",
      "metadata": {
        "id": "Q6BtsqCp70I1",
        "colab_type": "text"
      },
      "source": [
        "#### Try with longer training time"
      ]
    },
    {
      "cell_type": "code",
      "metadata": {
        "id": "RR3aaqtV3dRs",
        "colab_type": "code",
        "colab": {
          "base_uri": "https://localhost:8080/",
          "height": 1000
        },
        "outputId": "8ccff014-62c1-4f87-e4e5-ee632291697e"
      },
      "source": [
        "learn = unet_learner(\n",
        "  myopsDlsCV2,\n",
        "  resnet34,\n",
        "  loss_func=myFocal,\n",
        "  metrics=[foreground_acc, *dices]\n",
        ")\n",
        "learn.lr_find()\n",
        "learn.fine_tune(20, base_lr=1e-3, freeze_epochs=10)"
      ],
      "execution_count": 30,
      "outputs": [
        {
          "output_type": "display_data",
          "data": {
            "text/html": [
              ""
            ],
            "text/plain": [
              "<IPython.core.display.HTML object>"
            ]
          },
          "metadata": {
            "tags": []
          }
        },
        {
          "output_type": "display_data",
          "data": {
            "text/html": [
              "<table border=\"1\" class=\"dataframe\">\n",
              "  <thead>\n",
              "    <tr style=\"text-align: left;\">\n",
              "      <th>epoch</th>\n",
              "      <th>train_loss</th>\n",
              "      <th>valid_loss</th>\n",
              "      <th>foreground_acc</th>\n",
              "      <th>diceLV</th>\n",
              "      <th>diceMY</th>\n",
              "      <th>diceRV</th>\n",
              "      <th>diceEd</th>\n",
              "      <th>diceSc</th>\n",
              "      <th>time</th>\n",
              "    </tr>\n",
              "  </thead>\n",
              "  <tbody>\n",
              "    <tr>\n",
              "      <td>0</td>\n",
              "      <td>0.086475</td>\n",
              "      <td>0.054674</td>\n",
              "      <td>0.000000</td>\n",
              "      <td>0.000000</td>\n",
              "      <td>0.000000</td>\n",
              "      <td>0.000000</td>\n",
              "      <td>0.000000</td>\n",
              "      <td>0.105263</td>\n",
              "      <td>00:25</td>\n",
              "    </tr>\n",
              "    <tr>\n",
              "      <td>1</td>\n",
              "      <td>0.063809</td>\n",
              "      <td>0.041354</td>\n",
              "      <td>0.000000</td>\n",
              "      <td>0.000000</td>\n",
              "      <td>0.000000</td>\n",
              "      <td>0.000000</td>\n",
              "      <td>0.017544</td>\n",
              "      <td>0.263158</td>\n",
              "      <td>00:25</td>\n",
              "    </tr>\n",
              "    <tr>\n",
              "      <td>2</td>\n",
              "      <td>0.051530</td>\n",
              "      <td>0.032322</td>\n",
              "      <td>0.099388</td>\n",
              "      <td>0.222735</td>\n",
              "      <td>0.009710</td>\n",
              "      <td>0.142478</td>\n",
              "      <td>0.112983</td>\n",
              "      <td>0.158445</td>\n",
              "      <td>00:25</td>\n",
              "    </tr>\n",
              "    <tr>\n",
              "      <td>3</td>\n",
              "      <td>0.042282</td>\n",
              "      <td>0.031079</td>\n",
              "      <td>0.132778</td>\n",
              "      <td>0.374738</td>\n",
              "      <td>0.093014</td>\n",
              "      <td>0.067610</td>\n",
              "      <td>0.089598</td>\n",
              "      <td>0.260401</td>\n",
              "      <td>00:25</td>\n",
              "    </tr>\n",
              "    <tr>\n",
              "      <td>4</td>\n",
              "      <td>0.035345</td>\n",
              "      <td>0.021833</td>\n",
              "      <td>0.407400</td>\n",
              "      <td>0.527945</td>\n",
              "      <td>0.441649</td>\n",
              "      <td>0.367362</td>\n",
              "      <td>0.126224</td>\n",
              "      <td>0.176290</td>\n",
              "      <td>00:25</td>\n",
              "    </tr>\n",
              "    <tr>\n",
              "      <td>5</td>\n",
              "      <td>0.029520</td>\n",
              "      <td>0.018391</td>\n",
              "      <td>0.625193</td>\n",
              "      <td>0.684917</td>\n",
              "      <td>0.458444</td>\n",
              "      <td>0.703915</td>\n",
              "      <td>0.195782</td>\n",
              "      <td>0.128749</td>\n",
              "      <td>00:25</td>\n",
              "    </tr>\n",
              "    <tr>\n",
              "      <td>6</td>\n",
              "      <td>0.025297</td>\n",
              "      <td>0.014983</td>\n",
              "      <td>0.568087</td>\n",
              "      <td>0.556411</td>\n",
              "      <td>0.517311</td>\n",
              "      <td>0.724695</td>\n",
              "      <td>0.134248</td>\n",
              "      <td>0.187693</td>\n",
              "      <td>00:25</td>\n",
              "    </tr>\n",
              "    <tr>\n",
              "      <td>7</td>\n",
              "      <td>0.022556</td>\n",
              "      <td>0.016909</td>\n",
              "      <td>0.432540</td>\n",
              "      <td>0.763397</td>\n",
              "      <td>0.524100</td>\n",
              "      <td>0.197292</td>\n",
              "      <td>0.134487</td>\n",
              "      <td>0.196754</td>\n",
              "      <td>00:25</td>\n",
              "    </tr>\n",
              "    <tr>\n",
              "      <td>8</td>\n",
              "      <td>0.022089</td>\n",
              "      <td>0.017192</td>\n",
              "      <td>0.422539</td>\n",
              "      <td>0.561749</td>\n",
              "      <td>0.440872</td>\n",
              "      <td>0.449196</td>\n",
              "      <td>0.130876</td>\n",
              "      <td>0.206744</td>\n",
              "      <td>00:25</td>\n",
              "    </tr>\n",
              "    <tr>\n",
              "      <td>9</td>\n",
              "      <td>0.019785</td>\n",
              "      <td>0.016113</td>\n",
              "      <td>0.493827</td>\n",
              "      <td>0.570969</td>\n",
              "      <td>0.379062</td>\n",
              "      <td>0.601789</td>\n",
              "      <td>0.227642</td>\n",
              "      <td>0.168213</td>\n",
              "      <td>00:25</td>\n",
              "    </tr>\n",
              "  </tbody>\n",
              "</table>"
            ],
            "text/plain": [
              "<IPython.core.display.HTML object>"
            ]
          },
          "metadata": {
            "tags": []
          }
        },
        {
          "output_type": "display_data",
          "data": {
            "text/html": [
              "<table border=\"1\" class=\"dataframe\">\n",
              "  <thead>\n",
              "    <tr style=\"text-align: left;\">\n",
              "      <th>epoch</th>\n",
              "      <th>train_loss</th>\n",
              "      <th>valid_loss</th>\n",
              "      <th>foreground_acc</th>\n",
              "      <th>diceLV</th>\n",
              "      <th>diceMY</th>\n",
              "      <th>diceRV</th>\n",
              "      <th>diceEd</th>\n",
              "      <th>diceSc</th>\n",
              "      <th>time</th>\n",
              "    </tr>\n",
              "  </thead>\n",
              "  <tbody>\n",
              "    <tr>\n",
              "      <td>0</td>\n",
              "      <td>0.010998</td>\n",
              "      <td>0.011573</td>\n",
              "      <td>0.667823</td>\n",
              "      <td>0.722239</td>\n",
              "      <td>0.500578</td>\n",
              "      <td>0.793158</td>\n",
              "      <td>0.169279</td>\n",
              "      <td>0.239391</td>\n",
              "      <td>00:26</td>\n",
              "    </tr>\n",
              "    <tr>\n",
              "      <td>1</td>\n",
              "      <td>0.010513</td>\n",
              "      <td>0.011145</td>\n",
              "      <td>0.657388</td>\n",
              "      <td>0.722353</td>\n",
              "      <td>0.577107</td>\n",
              "      <td>0.789328</td>\n",
              "      <td>0.133286</td>\n",
              "      <td>0.258724</td>\n",
              "      <td>00:26</td>\n",
              "    </tr>\n",
              "    <tr>\n",
              "      <td>2</td>\n",
              "      <td>0.010417</td>\n",
              "      <td>0.012231</td>\n",
              "      <td>0.638732</td>\n",
              "      <td>0.695907</td>\n",
              "      <td>0.572349</td>\n",
              "      <td>0.766703</td>\n",
              "      <td>0.169976</td>\n",
              "      <td>0.229808</td>\n",
              "      <td>00:26</td>\n",
              "    </tr>\n",
              "    <tr>\n",
              "      <td>3</td>\n",
              "      <td>0.010737</td>\n",
              "      <td>0.012601</td>\n",
              "      <td>0.685805</td>\n",
              "      <td>0.785227</td>\n",
              "      <td>0.422917</td>\n",
              "      <td>0.789344</td>\n",
              "      <td>0.231325</td>\n",
              "      <td>0.159877</td>\n",
              "      <td>00:26</td>\n",
              "    </tr>\n",
              "    <tr>\n",
              "      <td>4</td>\n",
              "      <td>0.010452</td>\n",
              "      <td>0.011326</td>\n",
              "      <td>0.639815</td>\n",
              "      <td>0.677092</td>\n",
              "      <td>0.591728</td>\n",
              "      <td>0.773223</td>\n",
              "      <td>0.184364</td>\n",
              "      <td>0.250669</td>\n",
              "      <td>00:26</td>\n",
              "    </tr>\n",
              "    <tr>\n",
              "      <td>5</td>\n",
              "      <td>0.010100</td>\n",
              "      <td>0.010635</td>\n",
              "      <td>0.727153</td>\n",
              "      <td>0.811020</td>\n",
              "      <td>0.600879</td>\n",
              "      <td>0.799615</td>\n",
              "      <td>0.181608</td>\n",
              "      <td>0.233323</td>\n",
              "      <td>00:26</td>\n",
              "    </tr>\n",
              "    <tr>\n",
              "      <td>6</td>\n",
              "      <td>0.009713</td>\n",
              "      <td>0.009890</td>\n",
              "      <td>0.728393</td>\n",
              "      <td>0.771216</td>\n",
              "      <td>0.558438</td>\n",
              "      <td>0.810403</td>\n",
              "      <td>0.189846</td>\n",
              "      <td>0.305141</td>\n",
              "      <td>00:26</td>\n",
              "    </tr>\n",
              "    <tr>\n",
              "      <td>7</td>\n",
              "      <td>0.009330</td>\n",
              "      <td>0.009747</td>\n",
              "      <td>0.732361</td>\n",
              "      <td>0.854948</td>\n",
              "      <td>0.589324</td>\n",
              "      <td>0.825259</td>\n",
              "      <td>0.189195</td>\n",
              "      <td>0.271521</td>\n",
              "      <td>00:26</td>\n",
              "    </tr>\n",
              "    <tr>\n",
              "      <td>8</td>\n",
              "      <td>0.009006</td>\n",
              "      <td>0.010719</td>\n",
              "      <td>0.654051</td>\n",
              "      <td>0.768525</td>\n",
              "      <td>0.631078</td>\n",
              "      <td>0.730246</td>\n",
              "      <td>0.139128</td>\n",
              "      <td>0.389580</td>\n",
              "      <td>00:26</td>\n",
              "    </tr>\n",
              "    <tr>\n",
              "      <td>9</td>\n",
              "      <td>0.008685</td>\n",
              "      <td>0.010292</td>\n",
              "      <td>0.723572</td>\n",
              "      <td>0.825115</td>\n",
              "      <td>0.653583</td>\n",
              "      <td>0.801167</td>\n",
              "      <td>0.195780</td>\n",
              "      <td>0.262388</td>\n",
              "      <td>00:26</td>\n",
              "    </tr>\n",
              "    <tr>\n",
              "      <td>10</td>\n",
              "      <td>0.008479</td>\n",
              "      <td>0.009195</td>\n",
              "      <td>0.759115</td>\n",
              "      <td>0.837127</td>\n",
              "      <td>0.647906</td>\n",
              "      <td>0.830574</td>\n",
              "      <td>0.196709</td>\n",
              "      <td>0.316799</td>\n",
              "      <td>00:26</td>\n",
              "    </tr>\n",
              "    <tr>\n",
              "      <td>11</td>\n",
              "      <td>0.008042</td>\n",
              "      <td>0.009647</td>\n",
              "      <td>0.720469</td>\n",
              "      <td>0.776494</td>\n",
              "      <td>0.607974</td>\n",
              "      <td>0.829646</td>\n",
              "      <td>0.206706</td>\n",
              "      <td>0.321219</td>\n",
              "      <td>00:26</td>\n",
              "    </tr>\n",
              "    <tr>\n",
              "      <td>12</td>\n",
              "      <td>0.007626</td>\n",
              "      <td>0.009970</td>\n",
              "      <td>0.769475</td>\n",
              "      <td>0.822968</td>\n",
              "      <td>0.666512</td>\n",
              "      <td>0.830240</td>\n",
              "      <td>0.197547</td>\n",
              "      <td>0.329620</td>\n",
              "      <td>00:26</td>\n",
              "    </tr>\n",
              "    <tr>\n",
              "      <td>13</td>\n",
              "      <td>0.007351</td>\n",
              "      <td>0.009416</td>\n",
              "      <td>0.696058</td>\n",
              "      <td>0.782649</td>\n",
              "      <td>0.551500</td>\n",
              "      <td>0.829444</td>\n",
              "      <td>0.218534</td>\n",
              "      <td>0.318876</td>\n",
              "      <td>00:26</td>\n",
              "    </tr>\n",
              "    <tr>\n",
              "      <td>14</td>\n",
              "      <td>0.007100</td>\n",
              "      <td>0.009727</td>\n",
              "      <td>0.747225</td>\n",
              "      <td>0.827855</td>\n",
              "      <td>0.675330</td>\n",
              "      <td>0.834686</td>\n",
              "      <td>0.189956</td>\n",
              "      <td>0.293852</td>\n",
              "      <td>00:26</td>\n",
              "    </tr>\n",
              "    <tr>\n",
              "      <td>15</td>\n",
              "      <td>0.006879</td>\n",
              "      <td>0.009746</td>\n",
              "      <td>0.751926</td>\n",
              "      <td>0.839664</td>\n",
              "      <td>0.671643</td>\n",
              "      <td>0.829152</td>\n",
              "      <td>0.166733</td>\n",
              "      <td>0.362529</td>\n",
              "      <td>00:26</td>\n",
              "    </tr>\n",
              "    <tr>\n",
              "      <td>16</td>\n",
              "      <td>0.006647</td>\n",
              "      <td>0.009686</td>\n",
              "      <td>0.769350</td>\n",
              "      <td>0.848019</td>\n",
              "      <td>0.674265</td>\n",
              "      <td>0.835681</td>\n",
              "      <td>0.189382</td>\n",
              "      <td>0.295974</td>\n",
              "      <td>00:26</td>\n",
              "    </tr>\n",
              "    <tr>\n",
              "      <td>17</td>\n",
              "      <td>0.006430</td>\n",
              "      <td>0.009737</td>\n",
              "      <td>0.725094</td>\n",
              "      <td>0.801139</td>\n",
              "      <td>0.642088</td>\n",
              "      <td>0.827968</td>\n",
              "      <td>0.181227</td>\n",
              "      <td>0.383942</td>\n",
              "      <td>00:26</td>\n",
              "    </tr>\n",
              "    <tr>\n",
              "      <td>18</td>\n",
              "      <td>0.006304</td>\n",
              "      <td>0.009672</td>\n",
              "      <td>0.757077</td>\n",
              "      <td>0.829635</td>\n",
              "      <td>0.667806</td>\n",
              "      <td>0.837167</td>\n",
              "      <td>0.182897</td>\n",
              "      <td>0.340873</td>\n",
              "      <td>00:26</td>\n",
              "    </tr>\n",
              "    <tr>\n",
              "      <td>19</td>\n",
              "      <td>0.006158</td>\n",
              "      <td>0.009543</td>\n",
              "      <td>0.759204</td>\n",
              "      <td>0.830195</td>\n",
              "      <td>0.664785</td>\n",
              "      <td>0.837219</td>\n",
              "      <td>0.188598</td>\n",
              "      <td>0.338312</td>\n",
              "      <td>00:26</td>\n",
              "    </tr>\n",
              "  </tbody>\n",
              "</table>"
            ],
            "text/plain": [
              "<IPython.core.display.HTML object>"
            ]
          },
          "metadata": {
            "tags": []
          }
        },
        {
          "output_type": "display_data",
          "data": {
            "image/png": "[encoded data removed]",
            "text/plain": [
              "<Figure size 432x288 with 1 Axes>"
            ]
          },
          "metadata": {
            "tags": [],
            "needs_background": "light"
          }
        }
      ]
    },
    {
      "cell_type": "code",
      "metadata": {
        "id": "hnuNYiDC4vRw",
        "colab_type": "code",
        "colab": {
          "base_uri": "https://localhost:8080/",
          "height": 265
        },
        "outputId": "afea0e24-8ddd-42b1-8749-d86f6d12fb13"
      },
      "source": [
        "learn.recorder.plot_loss()"
      ],
      "execution_count": 31,
      "outputs": [
        {
          "output_type": "display_data",
          "data": {
            "image/png": "[encoded data removed]",
            "text/plain": [
              "<Figure size 432x288 with 1 Axes>"
            ]
          },
          "metadata": {
            "tags": [],
            "needs_background": "light"
          }
        }
      ]
    },
    {
      "cell_type": "code",
      "metadata": {
        "id": "a4A6CPo5DcML",
        "colab_type": "code",
        "colab": {}
      },
      "source": [
        "learn.save('allClasses_multiChannel_clahe_crop256_focal3_cv2_10_20.pkl')"
      ],
      "execution_count": 35,
      "outputs": []
    },
    {
      "cell_type": "markdown",
      "metadata": {
        "id": "dQXV68hR79b3",
        "colab_type": "text"
      },
      "source": [
        "#### Compare to same setup without clahe"
      ]
    },
    {
      "cell_type": "code",
      "metadata": {
        "id": "WI_V9uwQ8AeB",
        "colab_type": "code",
        "colab": {}
      },
      "source": [
        "myopsDlsCV2NoClahe = DataBlock(blocks=(ImageBlock, MaskBlock(codes = ['bg','lv','my','rv','ed','sc'])),\n",
        "    get_items=get_train_images,\n",
        "    splitter=FuncSplitter(lambda o: int(o.name.split(\"-\")[0]) in ids[2]),\n",
        "    get_y=lambda o: str(o).replace(\"images\",\"masks\"),\n",
        "    item_tfms=CropPad(256),\n",
        "    batch_tfms=aug_transforms(max_rotate=90,pad_mode='zeros')).dataloaders('/content/drive/My Drive/miccai2020/myops/png/images',num_workers=8,batch_size=16)"
      ],
      "execution_count": 32,
      "outputs": []
    },
    {
      "cell_type": "code",
      "metadata": {
        "id": "M82NCgnb9bQF",
        "colab_type": "code",
        "colab": {
          "base_uri": "https://localhost:8080/",
          "height": 1000
        },
        "outputId": "b9e41287-6d05-4c11-d000-c79e62395375"
      },
      "source": [
        "learnNoClahe = unet_learner(\n",
        "  myopsDlsCV2NoClahe,\n",
        "  resnet34,\n",
        "  loss_func=myFocal,\n",
        "  metrics=[foreground_acc, *dices]\n",
        ")\n",
        "learnNoClahe.lr_find()\n",
        "learnNoClahe.fine_tune(20, base_lr=1e-3, freeze_epochs=10)"
      ],
      "execution_count": 33,
      "outputs": [
        {
          "output_type": "display_data",
          "data": {
            "text/html": [
              ""
            ],
            "text/plain": [
              "<IPython.core.display.HTML object>"
            ]
          },
          "metadata": {
            "tags": []
          }
        },
        {
          "output_type": "display_data",
          "data": {
            "text/html": [
              "<table border=\"1\" class=\"dataframe\">\n",
              "  <thead>\n",
              "    <tr style=\"text-align: left;\">\n",
              "      <th>epoch</th>\n",
              "      <th>train_loss</th>\n",
              "      <th>valid_loss</th>\n",
              "      <th>foreground_acc</th>\n",
              "      <th>diceLV</th>\n",
              "      <th>diceMY</th>\n",
              "      <th>diceRV</th>\n",
              "      <th>diceEd</th>\n",
              "      <th>diceSc</th>\n",
              "      <th>time</th>\n",
              "    </tr>\n",
              "  </thead>\n",
              "  <tbody>\n",
              "    <tr>\n",
              "      <td>0</td>\n",
              "      <td>0.055638</td>\n",
              "      <td>0.047202</td>\n",
              "      <td>0.000000</td>\n",
              "      <td>0.000000</td>\n",
              "      <td>0.000000</td>\n",
              "      <td>0.000000</td>\n",
              "      <td>0.105263</td>\n",
              "      <td>0.228070</td>\n",
              "      <td>01:03</td>\n",
              "    </tr>\n",
              "    <tr>\n",
              "      <td>1</td>\n",
              "      <td>0.044539</td>\n",
              "      <td>0.027436</td>\n",
              "      <td>0.219618</td>\n",
              "      <td>0.590590</td>\n",
              "      <td>0.013426</td>\n",
              "      <td>0.207081</td>\n",
              "      <td>0.106024</td>\n",
              "      <td>0.109268</td>\n",
              "      <td>00:24</td>\n",
              "    </tr>\n",
              "    <tr>\n",
              "      <td>2</td>\n",
              "      <td>0.036528</td>\n",
              "      <td>0.021775</td>\n",
              "      <td>0.574736</td>\n",
              "      <td>0.659818</td>\n",
              "      <td>0.378063</td>\n",
              "      <td>0.638784</td>\n",
              "      <td>0.137840</td>\n",
              "      <td>0.114835</td>\n",
              "      <td>00:24</td>\n",
              "    </tr>\n",
              "    <tr>\n",
              "      <td>3</td>\n",
              "      <td>0.030557</td>\n",
              "      <td>0.014252</td>\n",
              "      <td>0.630357</td>\n",
              "      <td>0.758251</td>\n",
              "      <td>0.514144</td>\n",
              "      <td>0.742334</td>\n",
              "      <td>0.149055</td>\n",
              "      <td>0.198406</td>\n",
              "      <td>00:25</td>\n",
              "    </tr>\n",
              "    <tr>\n",
              "      <td>4</td>\n",
              "      <td>0.025938</td>\n",
              "      <td>0.016853</td>\n",
              "      <td>0.465883</td>\n",
              "      <td>0.675690</td>\n",
              "      <td>0.484952</td>\n",
              "      <td>0.462015</td>\n",
              "      <td>0.121120</td>\n",
              "      <td>0.226014</td>\n",
              "      <td>00:25</td>\n",
              "    </tr>\n",
              "    <tr>\n",
              "      <td>5</td>\n",
              "      <td>0.022910</td>\n",
              "      <td>0.013052</td>\n",
              "      <td>0.592007</td>\n",
              "      <td>0.717739</td>\n",
              "      <td>0.606983</td>\n",
              "      <td>0.633525</td>\n",
              "      <td>0.169511</td>\n",
              "      <td>0.239883</td>\n",
              "      <td>00:25</td>\n",
              "    </tr>\n",
              "    <tr>\n",
              "      <td>6</td>\n",
              "      <td>0.020508</td>\n",
              "      <td>0.012143</td>\n",
              "      <td>0.612892</td>\n",
              "      <td>0.807613</td>\n",
              "      <td>0.557768</td>\n",
              "      <td>0.684421</td>\n",
              "      <td>0.101902</td>\n",
              "      <td>0.298608</td>\n",
              "      <td>00:25</td>\n",
              "    </tr>\n",
              "    <tr>\n",
              "      <td>7</td>\n",
              "      <td>0.018630</td>\n",
              "      <td>0.011988</td>\n",
              "      <td>0.668275</td>\n",
              "      <td>0.820089</td>\n",
              "      <td>0.594707</td>\n",
              "      <td>0.732621</td>\n",
              "      <td>0.113377</td>\n",
              "      <td>0.243769</td>\n",
              "      <td>00:25</td>\n",
              "    </tr>\n",
              "    <tr>\n",
              "      <td>8</td>\n",
              "      <td>0.016936</td>\n",
              "      <td>0.015055</td>\n",
              "      <td>0.652055</td>\n",
              "      <td>0.809824</td>\n",
              "      <td>0.253172</td>\n",
              "      <td>0.782705</td>\n",
              "      <td>0.194376</td>\n",
              "      <td>0.160322</td>\n",
              "      <td>00:25</td>\n",
              "    </tr>\n",
              "    <tr>\n",
              "      <td>9</td>\n",
              "      <td>0.016819</td>\n",
              "      <td>0.016301</td>\n",
              "      <td>0.604814</td>\n",
              "      <td>0.734016</td>\n",
              "      <td>0.329109</td>\n",
              "      <td>0.710313</td>\n",
              "      <td>0.143503</td>\n",
              "      <td>0.136513</td>\n",
              "      <td>00:25</td>\n",
              "    </tr>\n",
              "  </tbody>\n",
              "</table>"
            ],
            "text/plain": [
              "<IPython.core.display.HTML object>"
            ]
          },
          "metadata": {
            "tags": []
          }
        },
        {
          "output_type": "display_data",
          "data": {
            "text/html": [
              "<table border=\"1\" class=\"dataframe\">\n",
              "  <thead>\n",
              "    <tr style=\"text-align: left;\">\n",
              "      <th>epoch</th>\n",
              "      <th>train_loss</th>\n",
              "      <th>valid_loss</th>\n",
              "      <th>foreground_acc</th>\n",
              "      <th>diceLV</th>\n",
              "      <th>diceMY</th>\n",
              "      <th>diceRV</th>\n",
              "      <th>diceEd</th>\n",
              "      <th>diceSc</th>\n",
              "      <th>time</th>\n",
              "    </tr>\n",
              "  </thead>\n",
              "  <tbody>\n",
              "    <tr>\n",
              "      <td>0</td>\n",
              "      <td>0.011705</td>\n",
              "      <td>0.011254</td>\n",
              "      <td>0.678884</td>\n",
              "      <td>0.772710</td>\n",
              "      <td>0.519975</td>\n",
              "      <td>0.802309</td>\n",
              "      <td>0.127759</td>\n",
              "      <td>0.266216</td>\n",
              "      <td>00:26</td>\n",
              "    </tr>\n",
              "    <tr>\n",
              "      <td>1</td>\n",
              "      <td>0.010960</td>\n",
              "      <td>0.011122</td>\n",
              "      <td>0.660498</td>\n",
              "      <td>0.776521</td>\n",
              "      <td>0.538131</td>\n",
              "      <td>0.782194</td>\n",
              "      <td>0.094270</td>\n",
              "      <td>0.285895</td>\n",
              "      <td>00:25</td>\n",
              "    </tr>\n",
              "    <tr>\n",
              "      <td>2</td>\n",
              "      <td>0.010545</td>\n",
              "      <td>0.011092</td>\n",
              "      <td>0.731660</td>\n",
              "      <td>0.802954</td>\n",
              "      <td>0.633863</td>\n",
              "      <td>0.809248</td>\n",
              "      <td>0.112925</td>\n",
              "      <td>0.319614</td>\n",
              "      <td>00:26</td>\n",
              "    </tr>\n",
              "    <tr>\n",
              "      <td>3</td>\n",
              "      <td>0.010404</td>\n",
              "      <td>0.009966</td>\n",
              "      <td>0.696559</td>\n",
              "      <td>0.834332</td>\n",
              "      <td>0.656561</td>\n",
              "      <td>0.782185</td>\n",
              "      <td>0.136834</td>\n",
              "      <td>0.326768</td>\n",
              "      <td>00:26</td>\n",
              "    </tr>\n",
              "    <tr>\n",
              "      <td>4</td>\n",
              "      <td>0.010188</td>\n",
              "      <td>0.009786</td>\n",
              "      <td>0.709672</td>\n",
              "      <td>0.833297</td>\n",
              "      <td>0.574571</td>\n",
              "      <td>0.833493</td>\n",
              "      <td>0.191369</td>\n",
              "      <td>0.232957</td>\n",
              "      <td>00:25</td>\n",
              "    </tr>\n",
              "    <tr>\n",
              "      <td>5</td>\n",
              "      <td>0.010114</td>\n",
              "      <td>0.010758</td>\n",
              "      <td>0.766079</td>\n",
              "      <td>0.839259</td>\n",
              "      <td>0.694867</td>\n",
              "      <td>0.798996</td>\n",
              "      <td>0.157916</td>\n",
              "      <td>0.329691</td>\n",
              "      <td>00:26</td>\n",
              "    </tr>\n",
              "    <tr>\n",
              "      <td>6</td>\n",
              "      <td>0.009899</td>\n",
              "      <td>0.010401</td>\n",
              "      <td>0.727391</td>\n",
              "      <td>0.837906</td>\n",
              "      <td>0.648391</td>\n",
              "      <td>0.830437</td>\n",
              "      <td>0.154644</td>\n",
              "      <td>0.315750</td>\n",
              "      <td>00:26</td>\n",
              "    </tr>\n",
              "    <tr>\n",
              "      <td>7</td>\n",
              "      <td>0.009708</td>\n",
              "      <td>0.009728</td>\n",
              "      <td>0.734118</td>\n",
              "      <td>0.838506</td>\n",
              "      <td>0.636800</td>\n",
              "      <td>0.832002</td>\n",
              "      <td>0.142648</td>\n",
              "      <td>0.369358</td>\n",
              "      <td>00:25</td>\n",
              "    </tr>\n",
              "    <tr>\n",
              "      <td>8</td>\n",
              "      <td>0.009395</td>\n",
              "      <td>0.010810</td>\n",
              "      <td>0.757059</td>\n",
              "      <td>0.835547</td>\n",
              "      <td>0.652556</td>\n",
              "      <td>0.827522</td>\n",
              "      <td>0.127306</td>\n",
              "      <td>0.316848</td>\n",
              "      <td>00:25</td>\n",
              "    </tr>\n",
              "    <tr>\n",
              "      <td>9</td>\n",
              "      <td>0.008952</td>\n",
              "      <td>0.009937</td>\n",
              "      <td>0.771129</td>\n",
              "      <td>0.849285</td>\n",
              "      <td>0.659565</td>\n",
              "      <td>0.835357</td>\n",
              "      <td>0.206798</td>\n",
              "      <td>0.323612</td>\n",
              "      <td>00:26</td>\n",
              "    </tr>\n",
              "    <tr>\n",
              "      <td>10</td>\n",
              "      <td>0.008539</td>\n",
              "      <td>0.009783</td>\n",
              "      <td>0.746997</td>\n",
              "      <td>0.843179</td>\n",
              "      <td>0.670314</td>\n",
              "      <td>0.839821</td>\n",
              "      <td>0.148501</td>\n",
              "      <td>0.411560</td>\n",
              "      <td>00:25</td>\n",
              "    </tr>\n",
              "    <tr>\n",
              "      <td>11</td>\n",
              "      <td>0.008222</td>\n",
              "      <td>0.010238</td>\n",
              "      <td>0.747473</td>\n",
              "      <td>0.853955</td>\n",
              "      <td>0.683780</td>\n",
              "      <td>0.837987</td>\n",
              "      <td>0.111110</td>\n",
              "      <td>0.402485</td>\n",
              "      <td>00:26</td>\n",
              "    </tr>\n",
              "    <tr>\n",
              "      <td>12</td>\n",
              "      <td>0.007888</td>\n",
              "      <td>0.010203</td>\n",
              "      <td>0.794643</td>\n",
              "      <td>0.858626</td>\n",
              "      <td>0.694082</td>\n",
              "      <td>0.832955</td>\n",
              "      <td>0.142890</td>\n",
              "      <td>0.396222</td>\n",
              "      <td>00:26</td>\n",
              "    </tr>\n",
              "    <tr>\n",
              "      <td>13</td>\n",
              "      <td>0.007528</td>\n",
              "      <td>0.009290</td>\n",
              "      <td>0.789869</td>\n",
              "      <td>0.851733</td>\n",
              "      <td>0.684478</td>\n",
              "      <td>0.842853</td>\n",
              "      <td>0.208881</td>\n",
              "      <td>0.395246</td>\n",
              "      <td>00:26</td>\n",
              "    </tr>\n",
              "    <tr>\n",
              "      <td>14</td>\n",
              "      <td>0.007169</td>\n",
              "      <td>0.009216</td>\n",
              "      <td>0.767125</td>\n",
              "      <td>0.855859</td>\n",
              "      <td>0.648514</td>\n",
              "      <td>0.843985</td>\n",
              "      <td>0.199971</td>\n",
              "      <td>0.408031</td>\n",
              "      <td>00:25</td>\n",
              "    </tr>\n",
              "    <tr>\n",
              "      <td>15</td>\n",
              "      <td>0.006927</td>\n",
              "      <td>0.010017</td>\n",
              "      <td>0.792717</td>\n",
              "      <td>0.868958</td>\n",
              "      <td>0.702745</td>\n",
              "      <td>0.842139</td>\n",
              "      <td>0.156670</td>\n",
              "      <td>0.372646</td>\n",
              "      <td>00:25</td>\n",
              "    </tr>\n",
              "    <tr>\n",
              "      <td>16</td>\n",
              "      <td>0.006677</td>\n",
              "      <td>0.009291</td>\n",
              "      <td>0.780816</td>\n",
              "      <td>0.869867</td>\n",
              "      <td>0.687176</td>\n",
              "      <td>0.846253</td>\n",
              "      <td>0.207564</td>\n",
              "      <td>0.388165</td>\n",
              "      <td>00:25</td>\n",
              "    </tr>\n",
              "    <tr>\n",
              "      <td>17</td>\n",
              "      <td>0.006488</td>\n",
              "      <td>0.009435</td>\n",
              "      <td>0.773229</td>\n",
              "      <td>0.862446</td>\n",
              "      <td>0.683600</td>\n",
              "      <td>0.844568</td>\n",
              "      <td>0.213802</td>\n",
              "      <td>0.409509</td>\n",
              "      <td>00:25</td>\n",
              "    </tr>\n",
              "    <tr>\n",
              "      <td>18</td>\n",
              "      <td>0.006339</td>\n",
              "      <td>0.009552</td>\n",
              "      <td>0.780391</td>\n",
              "      <td>0.863515</td>\n",
              "      <td>0.684570</td>\n",
              "      <td>0.839112</td>\n",
              "      <td>0.222679</td>\n",
              "      <td>0.395681</td>\n",
              "      <td>00:26</td>\n",
              "    </tr>\n",
              "    <tr>\n",
              "      <td>19</td>\n",
              "      <td>0.006209</td>\n",
              "      <td>0.009542</td>\n",
              "      <td>0.781418</td>\n",
              "      <td>0.865659</td>\n",
              "      <td>0.683917</td>\n",
              "      <td>0.843640</td>\n",
              "      <td>0.221836</td>\n",
              "      <td>0.394953</td>\n",
              "      <td>00:25</td>\n",
              "    </tr>\n",
              "  </tbody>\n",
              "</table>"
            ],
            "text/plain": [
              "<IPython.core.display.HTML object>"
            ]
          },
          "metadata": {
            "tags": []
          }
        },
        {
          "output_type": "display_data",
          "data": {
            "image/png": "[encoded data removed]",
            "text/plain": [
              "<Figure size 432x288 with 1 Axes>"
            ]
          },
          "metadata": {
            "tags": [],
            "needs_background": "light"
          }
        }
      ]
    },
    {
      "cell_type": "code",
      "metadata": {
        "id": "yrGQ1i6KDMkA",
        "colab_type": "code",
        "colab": {
          "base_uri": "https://localhost:8080/",
          "height": 265
        },
        "outputId": "9b0c2a16-1a0f-429e-d533-4595ea39023b"
      },
      "source": [
        "learnNoClahe.recorder.plot_loss()"
      ],
      "execution_count": 34,
      "outputs": [
        {
          "output_type": "display_data",
          "data": {
            "image/png": "[encoded data removed]",
            "text/plain": [
              "<Figure size 432x288 with 1 Axes>"
            ]
          },
          "metadata": {
            "tags": [],
            "needs_background": "light"
          }
        }
      ]
    },
    {
      "cell_type": "code",
      "metadata": {
        "id": "BGe2xCRYDW1f",
        "colab_type": "code",
        "colab": {}
      },
      "source": [
        "learnNoClahe.path = Path(path).parent\n",
        "learnNoClahe.save('allClasses_multiChannel_crop256_focal3_cv2_10_20.pkl')"
      ],
      "execution_count": 36,
      "outputs": []
    },
    {
      "cell_type": "markdown",
      "metadata": {
        "id": "XBD7wCevPJuH",
        "colab_type": "text"
      },
      "source": [
        "# Predictions for original images"
      ]
    },
    {
      "cell_type": "code",
      "metadata": {
        "id": "JCQkylEeOIyu",
        "colab_type": "code",
        "colab": {}
      },
      "source": [
        "outdir = f'{path}/../pred/allClasses_multiChannel_crop256_focal3_cv2_15_15'\n",
        "os.makedirs(outdir, exist_ok=True)"
      ],
      "execution_count": null,
      "outputs": []
    },
    {
      "cell_type": "code",
      "metadata": {
        "id": "YgAS2UyiO_mv",
        "colab_type": "code",
        "colab": {
          "base_uri": "https://localhost:8080/",
          "height": 66,
          "referenced_widgets": [
            "e048ea8e20e44ceaaf61aca0f271056b",
            "6a18c4cc2dfd4c01b71271e0dd1198c9",
            "0085abd674404e149f37746a3024ce6a",
            "c85a96b731814b23ae1d058e12c25504",
            "181c6aa434a348e9bcd8219591d31664",
            "e809137d8b0c44cfb989b98b20918f40",
            "bf07400d2c404727b61f039e1393e8d6",
            "28c17e77cc3b40c18f90ab21a51350d0"
          ]
        },
        "outputId": "0c71917c-7b86-4380-cd04-0c61e1bd7847"
      },
      "source": [
        "mapping = torch.LongTensor([0, 500, 200, 600, 1220, 2221])\n",
        "\n",
        "for id in tqdm(np.arange(101,126)):\n",
        "  origs = sorted(glob.glob(f\"{path}/images/{id}-orig-*.png\"))\n",
        "  masks = []\n",
        "  for o in origs:\n",
        "    image = PILImage.create(o)\n",
        "    mask = PILMask.create(learn.predict(o)[0].argmax(dim=0).byte()).crop_pad((image.shape[1],image.shape[0]))\n",
        "    mask = mapping.index_select(0,image2tensor(mask).flatten().to(torch.long)).reshape(*mask.shape)\n",
        "    masks.append(mask.to(torch.int32))\n",
        "  masks = np.stack(masks,axis=2)\n",
        "  nifti = nib.load(f'{path}/../train25_myops_gd/myops_training_{id}_gd.nii.gz')\n",
        "  nifti_pred = nib.Nifti1Image(masks, nifti.affine, nifti.header)\n",
        "  nib.save(nifti_pred, f'{outdir}/myops_test_{id}_seg.nii.gz')"
      ],
      "execution_count": null,
      "outputs": [
        {
          "output_type": "display_data",
          "data": {
            "application/vnd.jupyter.widget-view+json": {
              "model_id": "e048ea8e20e44ceaaf61aca0f271056b",
              "version_minor": 0,
              "version_major": 2
            },
            "text/plain": [
              "HBox(children=(FloatProgress(value=0.0, max=25.0), HTML(value='')))"
            ]
          },
          "metadata": {
            "tags": []
          }
        },
        {
          "output_type": "display_data",
          "data": {
            "text/html": [
              ""
            ],
            "text/plain": [
              "<IPython.core.display.HTML object>"
            ]
          },
          "metadata": {
            "tags": []
          }
        },
        {
          "output_type": "display_data",
          "data": {
            "text/html": [
              ""
            ],
            "text/plain": [
              "<IPython.core.display.HTML object>"
            ]
          },
          "metadata": {
            "tags": []
          }
        },
        {
          "output_type": "display_data",
          "data": {
            "text/html": [
              ""
            ],
            "text/plain": [
              "<IPython.core.display.HTML object>"
            ]
          },
          "metadata": {
            "tags": []
          }
        },
        {
          "output_type": "display_data",
          "data": {
            "text/html": [
              ""
            ],
            "text/plain": [
              "<IPython.core.display.HTML object>"
            ]
          },
          "metadata": {
            "tags": []
          }
        },
        {
          "output_type": "display_data",
          "data": {
            "text/html": [
              ""
            ],
            "text/plain": [
              "<IPython.core.display.HTML object>"
            ]
          },
          "metadata": {
            "tags": []
          }
        },
        {
          "output_type": "display_data",
          "data": {
            "text/html": [
              ""
            ],
            "text/plain": [
              "<IPython.core.display.HTML object>"
            ]
          },
          "metadata": {
            "tags": []
          }
        },
        {
          "output_type": "display_data",
          "data": {
            "text/html": [
              ""
            ],
            "text/plain": [
              "<IPython.core.display.HTML object>"
            ]
          },
          "metadata": {
            "tags": []
          }
        },
        {
          "output_type": "display_data",
          "data": {
            "text/html": [
              ""
            ],
            "text/plain": [
              "<IPython.core.display.HTML object>"
            ]
          },
          "metadata": {
            "tags": []
          }
        },
        {
          "output_type": "display_data",
          "data": {
            "text/html": [
              ""
            ],
            "text/plain": [
              "<IPython.core.display.HTML object>"
            ]
          },
          "metadata": {
            "tags": []
          }
        },
        {
          "output_type": "display_data",
          "data": {
            "text/html": [
              ""
            ],
            "text/plain": [
              "<IPython.core.display.HTML object>"
            ]
          },
          "metadata": {
            "tags": []
          }
        },
        {
          "output_type": "display_data",
          "data": {
            "text/html": [
              ""
            ],
            "text/plain": [
              "<IPython.core.display.HTML object>"
            ]
          },
          "metadata": {
            "tags": []
          }
        },
        {
          "output_type": "display_data",
          "data": {
            "text/html": [
              ""
            ],
            "text/plain": [
              "<IPython.core.display.HTML object>"
            ]
          },
          "metadata": {
            "tags": []
          }
        },
        {
          "output_type": "display_data",
          "data": {
            "text/html": [
              ""
            ],
            "text/plain": [
              "<IPython.core.display.HTML object>"
            ]
          },
          "metadata": {
            "tags": []
          }
        },
        {
          "output_type": "display_data",
          "data": {
            "text/html": [
              ""
            ],
            "text/plain": [
              "<IPython.core.display.HTML object>"
            ]
          },
          "metadata": {
            "tags": []
          }
        },
        {
          "output_type": "display_data",
          "data": {
            "text/html": [
              ""
            ],
            "text/plain": [
              "<IPython.core.display.HTML object>"
            ]
          },
          "metadata": {
            "tags": []
          }
        },
        {
          "output_type": "display_data",
          "data": {
            "text/html": [
              ""
            ],
            "text/plain": [
              "<IPython.core.display.HTML object>"
            ]
          },
          "metadata": {
            "tags": []
          }
        },
        {
          "output_type": "display_data",
          "data": {
            "text/html": [
              ""
            ],
            "text/plain": [
              "<IPython.core.display.HTML object>"
            ]
          },
          "metadata": {
            "tags": []
          }
        },
        {
          "output_type": "display_data",
          "data": {
            "text/html": [
              ""
            ],
            "text/plain": [
              "<IPython.core.display.HTML object>"
            ]
          },
          "metadata": {
            "tags": []
          }
        },
        {
          "output_type": "display_data",
          "data": {
            "text/html": [
              ""
            ],
            "text/plain": [
              "<IPython.core.display.HTML object>"
            ]
          },
          "metadata": {
            "tags": []
          }
        },
        {
          "output_type": "display_data",
          "data": {
            "text/html": [
              ""
            ],
            "text/plain": [
              "<IPython.core.display.HTML object>"
            ]
          },
          "metadata": {
            "tags": []
          }
        },
        {
          "output_type": "display_data",
          "data": {
            "text/html": [
              ""
            ],
            "text/plain": [
              "<IPython.core.display.HTML object>"
            ]
          },
          "metadata": {
            "tags": []
          }
        },
        {
          "output_type": "display_data",
          "data": {
            "text/html": [
              ""
            ],
            "text/plain": [
              "<IPython.core.display.HTML object>"
            ]
          },
          "metadata": {
            "tags": []
          }
        },
        {
          "output_type": "display_data",
          "data": {
            "text/html": [
              ""
            ],
            "text/plain": [
              "<IPython.core.display.HTML object>"
            ]
          },
          "metadata": {
            "tags": []
          }
        },
        {
          "output_type": "display_data",
          "data": {
            "text/html": [
              ""
            ],
            "text/plain": [
              "<IPython.core.display.HTML object>"
            ]
          },
          "metadata": {
            "tags": []
          }
        },
        {
          "output_type": "display_data",
          "data": {
            "text/html": [
              ""
            ],
            "text/plain": [
              "<IPython.core.display.HTML object>"
            ]
          },
          "metadata": {
            "tags": []
          }
        },
        {
          "output_type": "display_data",
          "data": {
            "text/html": [
              ""
            ],
            "text/plain": [
              "<IPython.core.display.HTML object>"
            ]
          },
          "metadata": {
            "tags": []
          }
        },
        {
          "output_type": "display_data",
          "data": {
            "text/html": [
              ""
            ],
            "text/plain": [
              "<IPython.core.display.HTML object>"
            ]
          },
          "metadata": {
            "tags": []
          }
        },
        {
          "output_type": "display_data",
          "data": {
            "text/html": [
              ""
            ],
            "text/plain": [
              "<IPython.core.display.HTML object>"
            ]
          },
          "metadata": {
            "tags": []
          }
        },
        {
          "output_type": "display_data",
          "data": {
            "text/html": [
              ""
            ],
            "text/plain": [
              "<IPython.core.display.HTML object>"
            ]
          },
          "metadata": {
            "tags": []
          }
        },
        {
          "output_type": "display_data",
          "data": {
            "text/html": [
              ""
            ],
            "text/plain": [
              "<IPython.core.display.HTML object>"
            ]
          },
          "metadata": {
            "tags": []
          }
        },
        {
          "output_type": "display_data",
          "data": {
            "text/html": [
              ""
            ],
            "text/plain": [
              "<IPython.core.display.HTML object>"
            ]
          },
          "metadata": {
            "tags": []
          }
        },
        {
          "output_type": "display_data",
          "data": {
            "text/html": [
              ""
            ],
            "text/plain": [
              "<IPython.core.display.HTML object>"
            ]
          },
          "metadata": {
            "tags": []
          }
        },
        {
          "output_type": "display_data",
          "data": {
            "text/html": [
              ""
            ],
            "text/plain": [
              "<IPython.core.display.HTML object>"
            ]
          },
          "metadata": {
            "tags": []
          }
        },
        {
          "output_type": "display_data",
          "data": {
            "text/html": [
              ""
            ],
            "text/plain": [
              "<IPython.core.display.HTML object>"
            ]
          },
          "metadata": {
            "tags": []
          }
        },
        {
          "output_type": "display_data",
          "data": {
            "text/html": [
              ""
            ],
            "text/plain": [
              "<IPython.core.display.HTML object>"
            ]
          },
          "metadata": {
            "tags": []
          }
        },
        {
          "output_type": "display_data",
          "data": {
            "text/html": [
              ""
            ],
            "text/plain": [
              "<IPython.core.display.HTML object>"
            ]
          },
          "metadata": {
            "tags": []
          }
        },
        {
          "output_type": "display_data",
          "data": {
            "text/html": [
              ""
            ],
            "text/plain": [
              "<IPython.core.display.HTML object>"
            ]
          },
          "metadata": {
            "tags": []
          }
        },
        {
          "output_type": "display_data",
          "data": {
            "text/html": [
              ""
            ],
            "text/plain": [
              "<IPython.core.display.HTML object>"
            ]
          },
          "metadata": {
            "tags": []
          }
        },
        {
          "output_type": "display_data",
          "data": {
            "text/html": [
              ""
            ],
            "text/plain": [
              "<IPython.core.display.HTML object>"
            ]
          },
          "metadata": {
            "tags": []
          }
        },
        {
          "output_type": "display_data",
          "data": {
            "text/html": [
              ""
            ],
            "text/plain": [
              "<IPython.core.display.HTML object>"
            ]
          },
          "metadata": {
            "tags": []
          }
        },
        {
          "output_type": "display_data",
          "data": {
            "text/html": [
              ""
            ],
            "text/plain": [
              "<IPython.core.display.HTML object>"
            ]
          },
          "metadata": {
            "tags": []
          }
        },
        {
          "output_type": "display_data",
          "data": {
            "text/html": [
              ""
            ],
            "text/plain": [
              "<IPython.core.display.HTML object>"
            ]
          },
          "metadata": {
            "tags": []
          }
        },
        {
          "output_type": "display_data",
          "data": {
            "text/html": [
              ""
            ],
            "text/plain": [
              "<IPython.core.display.HTML object>"
            ]
          },
          "metadata": {
            "tags": []
          }
        },
        {
          "output_type": "display_data",
          "data": {
            "text/html": [
              ""
            ],
            "text/plain": [
              "<IPython.core.display.HTML object>"
            ]
          },
          "metadata": {
            "tags": []
          }
        },
        {
          "output_type": "display_data",
          "data": {
            "text/html": [
              ""
            ],
            "text/plain": [
              "<IPython.core.display.HTML object>"
            ]
          },
          "metadata": {
            "tags": []
          }
        },
        {
          "output_type": "display_data",
          "data": {
            "text/html": [
              ""
            ],
            "text/plain": [
              "<IPython.core.display.HTML object>"
            ]
          },
          "metadata": {
            "tags": []
          }
        },
        {
          "output_type": "display_data",
          "data": {
            "text/html": [
              ""
            ],
            "text/plain": [
              "<IPython.core.display.HTML object>"
            ]
          },
          "metadata": {
            "tags": []
          }
        },
        {
          "output_type": "display_data",
          "data": {
            "text/html": [
              ""
            ],
            "text/plain": [
              "<IPython.core.display.HTML object>"
            ]
          },
          "metadata": {
            "tags": []
          }
        },
        {
          "output_type": "display_data",
          "data": {
            "text/html": [
              ""
            ],
            "text/plain": [
              "<IPython.core.display.HTML object>"
            ]
          },
          "metadata": {
            "tags": []
          }
        },
        {
          "output_type": "display_data",
          "data": {
            "text/html": [
              ""
            ],
            "text/plain": [
              "<IPython.core.display.HTML object>"
            ]
          },
          "metadata": {
            "tags": []
          }
        },
        {
          "output_type": "display_data",
          "data": {
            "text/html": [
              ""
            ],
            "text/plain": [
              "<IPython.core.display.HTML object>"
            ]
          },
          "metadata": {
            "tags": []
          }
        },
        {
          "output_type": "display_data",
          "data": {
            "text/html": [
              ""
            ],
            "text/plain": [
              "<IPython.core.display.HTML object>"
            ]
          },
          "metadata": {
            "tags": []
          }
        },
        {
          "output_type": "display_data",
          "data": {
            "text/html": [
              ""
            ],
            "text/plain": [
              "<IPython.core.display.HTML object>"
            ]
          },
          "metadata": {
            "tags": []
          }
        },
        {
          "output_type": "display_data",
          "data": {
            "text/html": [
              ""
            ],
            "text/plain": [
              "<IPython.core.display.HTML object>"
            ]
          },
          "metadata": {
            "tags": []
          }
        },
        {
          "output_type": "display_data",
          "data": {
            "text/html": [
              ""
            ],
            "text/plain": [
              "<IPython.core.display.HTML object>"
            ]
          },
          "metadata": {
            "tags": []
          }
        },
        {
          "output_type": "display_data",
          "data": {
            "text/html": [
              ""
            ],
            "text/plain": [
              "<IPython.core.display.HTML object>"
            ]
          },
          "metadata": {
            "tags": []
          }
        },
        {
          "output_type": "display_data",
          "data": {
            "text/html": [
              ""
            ],
            "text/plain": [
              "<IPython.core.display.HTML object>"
            ]
          },
          "metadata": {
            "tags": []
          }
        },
        {
          "output_type": "display_data",
          "data": {
            "text/html": [
              ""
            ],
            "text/plain": [
              "<IPython.core.display.HTML object>"
            ]
          },
          "metadata": {
            "tags": []
          }
        },
        {
          "output_type": "display_data",
          "data": {
            "text/html": [
              ""
            ],
            "text/plain": [
              "<IPython.core.display.HTML object>"
            ]
          },
          "metadata": {
            "tags": []
          }
        },
        {
          "output_type": "display_data",
          "data": {
            "text/html": [
              ""
            ],
            "text/plain": [
              "<IPython.core.display.HTML object>"
            ]
          },
          "metadata": {
            "tags": []
          }
        },
        {
          "output_type": "display_data",
          "data": {
            "text/html": [
              ""
            ],
            "text/plain": [
              "<IPython.core.display.HTML object>"
            ]
          },
          "metadata": {
            "tags": []
          }
        },
        {
          "output_type": "display_data",
          "data": {
            "text/html": [
              ""
            ],
            "text/plain": [
              "<IPython.core.display.HTML object>"
            ]
          },
          "metadata": {
            "tags": []
          }
        },
        {
          "output_type": "display_data",
          "data": {
            "text/html": [
              ""
            ],
            "text/plain": [
              "<IPython.core.display.HTML object>"
            ]
          },
          "metadata": {
            "tags": []
          }
        },
        {
          "output_type": "display_data",
          "data": {
            "text/html": [
              ""
            ],
            "text/plain": [
              "<IPython.core.display.HTML object>"
            ]
          },
          "metadata": {
            "tags": []
          }
        },
        {
          "output_type": "display_data",
          "data": {
            "text/html": [
              ""
            ],
            "text/plain": [
              "<IPython.core.display.HTML object>"
            ]
          },
          "metadata": {
            "tags": []
          }
        },
        {
          "output_type": "display_data",
          "data": {
            "text/html": [
              ""
            ],
            "text/plain": [
              "<IPython.core.display.HTML object>"
            ]
          },
          "metadata": {
            "tags": []
          }
        },
        {
          "output_type": "display_data",
          "data": {
            "text/html": [
              ""
            ],
            "text/plain": [
              "<IPython.core.display.HTML object>"
            ]
          },
          "metadata": {
            "tags": []
          }
        },
        {
          "output_type": "display_data",
          "data": {
            "text/html": [
              ""
            ],
            "text/plain": [
              "<IPython.core.display.HTML object>"
            ]
          },
          "metadata": {
            "tags": []
          }
        },
        {
          "output_type": "display_data",
          "data": {
            "text/html": [
              ""
            ],
            "text/plain": [
              "<IPython.core.display.HTML object>"
            ]
          },
          "metadata": {
            "tags": []
          }
        },
        {
          "output_type": "display_data",
          "data": {
            "text/html": [
              ""
            ],
            "text/plain": [
              "<IPython.core.display.HTML object>"
            ]
          },
          "metadata": {
            "tags": []
          }
        },
        {
          "output_type": "display_data",
          "data": {
            "text/html": [
              ""
            ],
            "text/plain": [
              "<IPython.core.display.HTML object>"
            ]
          },
          "metadata": {
            "tags": []
          }
        },
        {
          "output_type": "display_data",
          "data": {
            "text/html": [
              ""
            ],
            "text/plain": [
              "<IPython.core.display.HTML object>"
            ]
          },
          "metadata": {
            "tags": []
          }
        },
        {
          "output_type": "display_data",
          "data": {
            "text/html": [
              ""
            ],
            "text/plain": [
              "<IPython.core.display.HTML object>"
            ]
          },
          "metadata": {
            "tags": []
          }
        },
        {
          "output_type": "display_data",
          "data": {
            "text/html": [
              ""
            ],
            "text/plain": [
              "<IPython.core.display.HTML object>"
            ]
          },
          "metadata": {
            "tags": []
          }
        },
        {
          "output_type": "display_data",
          "data": {
            "text/html": [
              ""
            ],
            "text/plain": [
              "<IPython.core.display.HTML object>"
            ]
          },
          "metadata": {
            "tags": []
          }
        },
        {
          "output_type": "display_data",
          "data": {
            "text/html": [
              ""
            ],
            "text/plain": [
              "<IPython.core.display.HTML object>"
            ]
          },
          "metadata": {
            "tags": []
          }
        },
        {
          "output_type": "display_data",
          "data": {
            "text/html": [
              ""
            ],
            "text/plain": [
              "<IPython.core.display.HTML object>"
            ]
          },
          "metadata": {
            "tags": []
          }
        },
        {
          "output_type": "display_data",
          "data": {
            "text/html": [
              ""
            ],
            "text/plain": [
              "<IPython.core.display.HTML object>"
            ]
          },
          "metadata": {
            "tags": []
          }
        },
        {
          "output_type": "display_data",
          "data": {
            "text/html": [
              ""
            ],
            "text/plain": [
              "<IPython.core.display.HTML object>"
            ]
          },
          "metadata": {
            "tags": []
          }
        },
        {
          "output_type": "display_data",
          "data": {
            "text/html": [
              ""
            ],
            "text/plain": [
              "<IPython.core.display.HTML object>"
            ]
          },
          "metadata": {
            "tags": []
          }
        },
        {
          "output_type": "display_data",
          "data": {
            "text/html": [
              ""
            ],
            "text/plain": [
              "<IPython.core.display.HTML object>"
            ]
          },
          "metadata": {
            "tags": []
          }
        },
        {
          "output_type": "display_data",
          "data": {
            "text/html": [
              ""
            ],
            "text/plain": [
              "<IPython.core.display.HTML object>"
            ]
          },
          "metadata": {
            "tags": []
          }
        },
        {
          "output_type": "display_data",
          "data": {
            "text/html": [
              ""
            ],
            "text/plain": [
              "<IPython.core.display.HTML object>"
            ]
          },
          "metadata": {
            "tags": []
          }
        },
        {
          "output_type": "display_data",
          "data": {
            "text/html": [
              ""
            ],
            "text/plain": [
              "<IPython.core.display.HTML object>"
            ]
          },
          "metadata": {
            "tags": []
          }
        },
        {
          "output_type": "display_data",
          "data": {
            "text/html": [
              ""
            ],
            "text/plain": [
              "<IPython.core.display.HTML object>"
            ]
          },
          "metadata": {
            "tags": []
          }
        },
        {
          "output_type": "display_data",
          "data": {
            "text/html": [
              ""
            ],
            "text/plain": [
              "<IPython.core.display.HTML object>"
            ]
          },
          "metadata": {
            "tags": []
          }
        },
        {
          "output_type": "display_data",
          "data": {
            "text/html": [
              ""
            ],
            "text/plain": [
              "<IPython.core.display.HTML object>"
            ]
          },
          "metadata": {
            "tags": []
          }
        },
        {
          "output_type": "display_data",
          "data": {
            "text/html": [
              ""
            ],
            "text/plain": [
              "<IPython.core.display.HTML object>"
            ]
          },
          "metadata": {
            "tags": []
          }
        },
        {
          "output_type": "display_data",
          "data": {
            "text/html": [
              ""
            ],
            "text/plain": [
              "<IPython.core.display.HTML object>"
            ]
          },
          "metadata": {
            "tags": []
          }
        },
        {
          "output_type": "display_data",
          "data": {
            "text/html": [
              ""
            ],
            "text/plain": [
              "<IPython.core.display.HTML object>"
            ]
          },
          "metadata": {
            "tags": []
          }
        },
        {
          "output_type": "display_data",
          "data": {
            "text/html": [
              ""
            ],
            "text/plain": [
              "<IPython.core.display.HTML object>"
            ]
          },
          "metadata": {
            "tags": []
          }
        },
        {
          "output_type": "display_data",
          "data": {
            "text/html": [
              ""
            ],
            "text/plain": [
              "<IPython.core.display.HTML object>"
            ]
          },
          "metadata": {
            "tags": []
          }
        },
        {
          "output_type": "display_data",
          "data": {
            "text/html": [
              ""
            ],
            "text/plain": [
              "<IPython.core.display.HTML object>"
            ]
          },
          "metadata": {
            "tags": []
          }
        },
        {
          "output_type": "display_data",
          "data": {
            "text/html": [
              ""
            ],
            "text/plain": [
              "<IPython.core.display.HTML object>"
            ]
          },
          "metadata": {
            "tags": []
          }
        },
        {
          "output_type": "display_data",
          "data": {
            "text/html": [
              ""
            ],
            "text/plain": [
              "<IPython.core.display.HTML object>"
            ]
          },
          "metadata": {
            "tags": []
          }
        },
        {
          "output_type": "display_data",
          "data": {
            "text/html": [
              ""
            ],
            "text/plain": [
              "<IPython.core.display.HTML object>"
            ]
          },
          "metadata": {
            "tags": []
          }
        },
        {
          "output_type": "display_data",
          "data": {
            "text/html": [
              ""
            ],
            "text/plain": [
              "<IPython.core.display.HTML object>"
            ]
          },
          "metadata": {
            "tags": []
          }
        },
        {
          "output_type": "display_data",
          "data": {
            "text/html": [
              ""
            ],
            "text/plain": [
              "<IPython.core.display.HTML object>"
            ]
          },
          "metadata": {
            "tags": []
          }
        },
        {
          "output_type": "display_data",
          "data": {
            "text/html": [
              ""
            ],
            "text/plain": [
              "<IPython.core.display.HTML object>"
            ]
          },
          "metadata": {
            "tags": []
          }
        },
        {
          "output_type": "display_data",
          "data": {
            "text/html": [
              ""
            ],
            "text/plain": [
              "<IPython.core.display.HTML object>"
            ]
          },
          "metadata": {
            "tags": []
          }
        },
        {
          "output_type": "display_data",
          "data": {
            "text/html": [
              ""
            ],
            "text/plain": [
              "<IPython.core.display.HTML object>"
            ]
          },
          "metadata": {
            "tags": []
          }
        },
        {
          "output_type": "display_data",
          "data": {
            "text/html": [
              ""
            ],
            "text/plain": [
              "<IPython.core.display.HTML object>"
            ]
          },
          "metadata": {
            "tags": []
          }
        },
        {
          "output_type": "stream",
          "text": [
            "\n"
          ],
          "name": "stdout"
        }
      ]
    },
    {
      "cell_type": "code",
      "metadata": {
        "id": "JQ5tdpNTRdiF",
        "colab_type": "code",
        "colab": {
          "base_uri": "https://localhost:8080/",
          "height": 34
        },
        "outputId": "1844cce9-36e2-469d-dfff-fba65e55b65a"
      },
      "source": [
        "origs"
      ],
      "execution_count": null,
      "outputs": [
        {
          "output_type": "execute_result",
          "data": {
            "text/plain": [
              "[]"
            ]
          },
          "metadata": {
            "tags": []
          },
          "execution_count": 79
        }
      ]
    },
    {
      "cell_type": "markdown",
      "metadata": {
        "id": "uHALj8DuPFjM",
        "colab_type": "text"
      },
      "source": [
        "# Experiments"
      ]
    },
    {
      "cell_type": "code",
      "metadata": {
        "id": "bsyaFHTYFk87",
        "colab_type": "code",
        "colab": {
          "base_uri": "https://localhost:8080/",
          "height": 17
        },
        "outputId": "f75e20c5-77c3-4058-9022-004ba31c30d7"
      },
      "source": [
        "result = learn.get_preds()"
      ],
      "execution_count": null,
      "outputs": [
        {
          "output_type": "display_data",
          "data": {
            "text/html": [
              ""
            ],
            "text/plain": [
              "<IPython.core.display.HTML object>"
            ]
          },
          "metadata": {
            "tags": []
          }
        }
      ]
    },
    {
      "cell_type": "code",
      "metadata": {
        "id": "SV19JW7XFvMD",
        "colab_type": "code",
        "colab": {
          "base_uri": "https://localhost:8080/",
          "height": 286
        },
        "outputId": "921605a7-3bdd-46d3-fe9a-53cea78df44f"
      },
      "source": [
        "plt.imshow(result[0][0].argmax(dim=0))\n",
        "plt.imshow(result[1][0], alpha=.5)"
      ],
      "execution_count": null,
      "outputs": [
        {
          "output_type": "execute_result",
          "data": {
            "text/plain": [
              "<matplotlib.image.AxesImage at 0x7f41a1188c88>"
            ]
          },
          "metadata": {
            "tags": []
          },
          "execution_count": 27
        },
        {
          "output_type": "display_data",
          "data": {
            "image/png": "[encoded data removed]",
            "text/plain": [
              "<Figure size 432x288 with 1 Axes>"
            ]
          },
          "metadata": {
            "tags": [],
            "needs_background": "light"
          }
        }
      ]
    },
    {
      "cell_type": "code",
      "metadata": {
        "id": "MPx7CPcbGsjK",
        "colab_type": "code",
        "colab": {}
      },
      "source": [
        "origs = glob.glob(f\"{path}/images/*orig*\")"
      ],
      "execution_count": null,
      "outputs": []
    },
    {
      "cell_type": "code",
      "metadata": {
        "id": "Vt0TfMOTRgo4",
        "colab_type": "code",
        "colab": {
          "base_uri": "https://localhost:8080/",
          "height": 320
        },
        "outputId": "c4ee8fa4-2ed4-4b63-850a-c0e919c1d695"
      },
      "source": [
        "learn.predict(origs[0])[0].argmax(dim=0).show()"
      ],
      "execution_count": null,
      "outputs": [
        {
          "output_type": "display_data",
          "data": {
            "text/html": [
              ""
            ],
            "text/plain": [
              "<IPython.core.display.HTML object>"
            ]
          },
          "metadata": {
            "tags": []
          }
        },
        {
          "output_type": "execute_result",
          "data": {
            "text/plain": [
              "<matplotlib.axes._subplots.AxesSubplot at 0x7f41a1188668>"
            ]
          },
          "metadata": {
            "tags": []
          },
          "execution_count": 29
        },
        {
          "output_type": "display_data",
          "data": {
            "image/png": "[encoded data removed]",
            "text/plain": [
              "<Figure size 360x360 with 1 Axes>"
            ]
          },
          "metadata": {
            "tags": [],
            "needs_background": "light"
          }
        }
      ]
    },
    {
      "cell_type": "code",
      "metadata": {
        "id": "yAKdKHmHSG6k",
        "colab_type": "code",
        "colab": {
          "base_uri": "https://localhost:8080/",
          "height": 265
        },
        "outputId": "bbc93c5d-ac09-442f-8b26-80f50a570ebc"
      },
      "source": [
        "fig,ax = plt.subplots()\n",
        "PILImage(PILImage.create(origs[0]).crop_pad(256)).show(ax=ax)\n",
        "learn.predict(origs[0])[0].argmax(dim=0).show(ax=ax)"
      ],
      "execution_count": null,
      "outputs": [
        {
          "output_type": "display_data",
          "data": {
            "text/html": [
              ""
            ],
            "text/plain": [
              "<IPython.core.display.HTML object>"
            ]
          },
          "metadata": {
            "tags": []
          }
        },
        {
          "output_type": "execute_result",
          "data": {
            "text/plain": [
              "<matplotlib.axes._subplots.AxesSubplot at 0x7f41a10b2940>"
            ]
          },
          "metadata": {
            "tags": []
          },
          "execution_count": 30
        },
        {
          "output_type": "display_data",
          "data": {
            "image/png": "[encoded data removed]",
            "text/plain": [
              "<Figure size 432x288 with 1 Axes>"
            ]
          },
          "metadata": {
            "tags": [],
            "needs_background": "light"
          }
        }
      ]
    },
    {
      "cell_type": "code",
      "metadata": {
        "id": "IrNT8CwgSWiR",
        "colab_type": "code",
        "colab": {
          "base_uri": "https://localhost:8080/",
          "height": 265
        },
        "outputId": "51bb8521-f7d8-46fe-a9b4-1cb788941c53"
      },
      "source": [
        "fig,ax = plt.subplots()\n",
        "image = PILImage.create(origs[0])\n",
        "image.show(ax=ax)\n",
        "mask = PILMask(PILMask.create(learn.predict(origs[0])[0].argmax(dim=0).byte()).crop_pad(image.shape))\n",
        "mask.show(ax=ax)"
      ],
      "execution_count": null,
      "outputs": [
        {
          "output_type": "display_data",
          "data": {
            "text/html": [
              ""
            ],
            "text/plain": [
              "<IPython.core.display.HTML object>"
            ]
          },
          "metadata": {
            "tags": []
          }
        },
        {
          "output_type": "execute_result",
          "data": {
            "text/plain": [
              "<matplotlib.axes._subplots.AxesSubplot at 0x7f41a108d1d0>"
            ]
          },
          "metadata": {
            "tags": []
          },
          "execution_count": 31
        },
        {
          "output_type": "display_data",
          "data": {
            "image/png": "[encoded data removed]",
            "text/plain": [
              "<Figure size 432x288 with 1 Axes>"
            ]
          },
          "metadata": {
            "tags": [],
            "needs_background": "light"
          }
        }
      ]
    },
    {
      "cell_type": "code",
      "metadata": {
        "id": "6x28FA7jHsip",
        "colab_type": "code",
        "colab": {
          "base_uri": "https://localhost:8080/",
          "height": 34
        },
        "outputId": "bc171e55-9cbd-4305-8f28-a0b71f8f6b14"
      },
      "source": [
        "np.unique(learn.predict(origs[0])[0].argmax(dim=0), return_counts=True)"
      ],
      "execution_count": null,
      "outputs": [
        {
          "output_type": "display_data",
          "data": {
            "text/html": [
              ""
            ],
            "text/plain": [
              "<IPython.core.display.HTML object>"
            ]
          },
          "metadata": {
            "tags": []
          }
        },
        {
          "output_type": "execute_result",
          "data": {
            "text/plain": [
              "(array([0, 1, 2, 3, 4, 5]), array([58343,  1635,  1523,  1359,  2190,   486]))"
            ]
          },
          "metadata": {
            "tags": []
          },
          "execution_count": 33
        }
      ]
    },
    {
      "cell_type": "code",
      "metadata": {
        "id": "eRqg9OxuYU0E",
        "colab_type": "code",
        "colab": {
          "base_uri": "https://localhost:8080/",
          "height": 52
        },
        "outputId": "e643e9ad-cee5-4acc-ff5c-d8a358fc2833"
      },
      "source": [
        "np.unique(image2tensor(mask).numpy(),return_counts=True)"
      ],
      "execution_count": null,
      "outputs": [
        {
          "output_type": "execute_result",
          "data": {
            "text/plain": [
              "(array([0, 1, 2, 3, 4, 5], dtype=uint8),\n",
              " array([253928,   1635,   1523,   1359,   2190,    486]))"
            ]
          },
          "metadata": {
            "tags": []
          },
          "execution_count": 21
        }
      ]
    },
    {
      "cell_type": "code",
      "metadata": {
        "id": "CgLor289ZcKD",
        "colab_type": "code",
        "colab": {
          "base_uri": "https://localhost:8080/",
          "height": 1000
        },
        "outputId": "93a918f7-8c84-473b-a749-5925f72cbc15"
      },
      "source": [
        "plt.figure(figsize=(20,20))\n",
        "plt.imshow(image2tensor(mask).numpy()[0])"
      ],
      "execution_count": null,
      "outputs": [
        {
          "output_type": "execute_result",
          "data": {
            "text/plain": [
              "<matplotlib.image.AxesImage at 0x7f41a0c57b00>"
            ]
          },
          "metadata": {
            "tags": []
          },
          "execution_count": 34
        },
        {
          "output_type": "display_data",
          "data": {
            "image/png": "[encoded data removed]",
            "text/plain": [
              "<Figure size 1440x1440 with 1 Axes>"
            ]
          },
          "metadata": {
            "tags": [],
            "needs_background": "light"
          }
        }
      ]
    },
    {
      "cell_type": "code",
      "metadata": {
        "id": "q_5-YG4AcTHB",
        "colab_type": "code",
        "colab": {}
      },
      "source": [
        "nifti102 = np.asanyarray(nib.load(f'{path}/../train25_myops_gd/myops_training_102_gd.nii.gz').dataobj)"
      ],
      "execution_count": null,
      "outputs": []
    },
    {
      "cell_type": "code",
      "metadata": {
        "id": "vRt5j5zccj8P",
        "colab_type": "code",
        "colab": {
          "base_uri": "https://localhost:8080/",
          "height": 286
        },
        "outputId": "c2b5e253-6989-49a6-865c-00a84223a278"
      },
      "source": [
        "plt.imshow(nifti102[:,:,0])"
      ],
      "execution_count": null,
      "outputs": [
        {
          "output_type": "execute_result",
          "data": {
            "text/plain": [
              "<matplotlib.image.AxesImage at 0x7f41a0c3b710>"
            ]
          },
          "metadata": {
            "tags": []
          },
          "execution_count": 37
        },
        {
          "output_type": "display_data",
          "data": {
            "image/png": "[encoded data removed]",
            "text/plain": [
              "<Figure size 432x288 with 1 Axes>"
            ]
          },
          "metadata": {
            "tags": [],
            "needs_background": "light"
          }
        }
      ]
    },
    {
      "cell_type": "code",
      "metadata": {
        "id": "zTMLhWJmdirf",
        "colab_type": "code",
        "colab": {
          "base_uri": "https://localhost:8080/",
          "height": 286
        },
        "outputId": "f9c4ab50-a620-43a3-fdae-d8b6773e1818"
      },
      "source": [
        "# (LV) blood pool (labelled 500), right ventricular blood pool (600), LV normal myocardium (200), LV myocardial edema (1220), LV myocardial scars (2221)\n",
        "mapping = torch.LongTensor([0, 500, 200, 600, 1220, 2221])\n",
        "mask = PILMask.create(learn.predict(origs[0])[0].argmax(dim=0).byte()).crop_pad(image.shape)\n",
        "mask = mapping.index_select(0,image2tensor(mask).flatten().to(torch.long)).reshape(*mask.shape)\n",
        "plt.imshow(mask)"
      ],
      "execution_count": null,
      "outputs": [
        {
          "output_type": "display_data",
          "data": {
            "text/html": [
              ""
            ],
            "text/plain": [
              "<IPython.core.display.HTML object>"
            ]
          },
          "metadata": {
            "tags": []
          }
        },
        {
          "output_type": "execute_result",
          "data": {
            "text/plain": [
              "<matplotlib.image.AxesImage at 0x7f41a0adfc88>"
            ]
          },
          "metadata": {
            "tags": []
          },
          "execution_count": 41
        },
        {
          "output_type": "display_data",
          "data": {
            "image/png": "[encoded data removed]",
            "text/plain": [
              "<Figure size 432x288 with 1 Axes>"
            ]
          },
          "metadata": {
            "tags": [],
            "needs_background": "light"
          }
        }
      ]
    },
    {
      "cell_type": "code",
      "metadata": {
        "id": "_UcGVkGrJ416",
        "colab_type": "code",
        "colab": {
          "base_uri": "https://localhost:8080/",
          "height": 35
        },
        "outputId": "54a16a28-9909-45b9-a72d-7b53032a6ec6"
      },
      "source": [
        "origs[0]"
      ],
      "execution_count": null,
      "outputs": [
        {
          "output_type": "execute_result",
          "data": {
            "application/vnd.google.colaboratory.intrinsic": {
              "type": "string"
            },
            "text/plain": [
              "'/content/drive/My Drive/miccai2020/myops/png/images/102-orig-0.png'"
            ]
          },
          "metadata": {
            "tags": []
          },
          "execution_count": 52
        }
      ]
    },
    {
      "cell_type": "code",
      "metadata": {
        "id": "mNbRmEUBIqVE",
        "colab_type": "code",
        "colab": {
          "base_uri": "https://localhost:8080/",
          "height": 34
        },
        "outputId": "af94ac2a-4b1b-4b57-a363-b216b9f9ec4d"
      },
      "source": [
        "mask.to(torch.int32).numpy().dtype"
      ],
      "execution_count": null,
      "outputs": [
        {
          "output_type": "execute_result",
          "data": {
            "text/plain": [
              "dtype('int32')"
            ]
          },
          "metadata": {
            "tags": []
          },
          "execution_count": 51
        }
      ]
    },
    {
      "cell_type": "code",
      "metadata": {
        "id": "rFFxL74cK6B3",
        "colab_type": "code",
        "colab": {}
      },
      "source": [
        "origs = sorted(glob.glob(f\"{path}/images/102-orig-*.png\"))"
      ],
      "execution_count": null,
      "outputs": []
    },
    {
      "cell_type": "code",
      "metadata": {
        "id": "h2aAcv_NLAdP",
        "colab_type": "code",
        "colab": {
          "base_uri": "https://localhost:8080/",
          "height": 17
        },
        "outputId": "efb35835-eb46-4992-8d45-1cb5f2170d1a"
      },
      "source": [
        "masks = []\n",
        "for o in origs:\n",
        "  mapping = torch.LongTensor([0, 500, 200, 600, 1220, 2221])\n",
        "  mask = PILMask.create(learn.predict(o)[0].argmax(dim=0).byte()).crop_pad(image.shape)\n",
        "  mask = mapping.index_select(0,image2tensor(mask).flatten().to(torch.long)).reshape(*mask.shape)\n",
        "  masks.append(mask.to(torch.int32))\n",
        "masks = np.stack(masks,axis=2)"
      ],
      "execution_count": null,
      "outputs": [
        {
          "output_type": "display_data",
          "data": {
            "text/html": [
              ""
            ],
            "text/plain": [
              "<IPython.core.display.HTML object>"
            ]
          },
          "metadata": {
            "tags": []
          }
        },
        {
          "output_type": "display_data",
          "data": {
            "text/html": [
              ""
            ],
            "text/plain": [
              "<IPython.core.display.HTML object>"
            ]
          },
          "metadata": {
            "tags": []
          }
        },
        {
          "output_type": "display_data",
          "data": {
            "text/html": [
              ""
            ],
            "text/plain": [
              "<IPython.core.display.HTML object>"
            ]
          },
          "metadata": {
            "tags": []
          }
        }
      ]
    },
    {
      "cell_type": "markdown",
      "metadata": {
        "id": "fFvVQodiecgg",
        "colab_type": "text"
      },
      "source": [
        ""
      ]
    },
    {
      "cell_type": "code",
      "metadata": {
        "id": "E5bvY5imMkzX",
        "colab_type": "code",
        "colab": {
          "base_uri": "https://localhost:8080/",
          "height": 34
        },
        "outputId": "7f49dd0b-489f-4e0f-fd70-43675291f31b"
      },
      "source": [
        "masks.shape"
      ],
      "execution_count": null,
      "outputs": [
        {
          "output_type": "execute_result",
          "data": {
            "text/plain": [
              "(511, 511, 3)"
            ]
          },
          "metadata": {
            "tags": []
          },
          "execution_count": 65
        }
      ]
    },
    {
      "cell_type": "code",
      "metadata": {
        "id": "XaOsthcFMlif",
        "colab_type": "code",
        "colab": {
          "base_uri": "https://localhost:8080/",
          "height": 34
        },
        "outputId": "a318263e-03aa-4730-f011-dcf5600390ba"
      },
      "source": [
        "nifti102.shape"
      ],
      "execution_count": null,
      "outputs": [
        {
          "output_type": "execute_result",
          "data": {
            "text/plain": [
              "(511, 511, 3)"
            ]
          },
          "metadata": {
            "tags": []
          },
          "execution_count": 62
        }
      ]
    },
    {
      "cell_type": "code",
      "metadata": {
        "id": "14vEdV9UMwRc",
        "colab_type": "code",
        "colab": {
          "base_uri": "https://localhost:8080/",
          "height": 304
        },
        "outputId": "473ccf3f-060c-42fa-c747-aeb36d0052bd"
      },
      "source": [
        "plt.imshow(masks)"
      ],
      "execution_count": null,
      "outputs": [
        {
          "output_type": "stream",
          "text": [
            "Clipping input data to the valid range for imshow with RGB data ([0..1] for floats or [0..255] for integers).\n"
          ],
          "name": "stderr"
        },
        {
          "output_type": "execute_result",
          "data": {
            "text/plain": [
              "<matplotlib.image.AxesImage at 0x7f41a0a972b0>"
            ]
          },
          "metadata": {
            "tags": []
          },
          "execution_count": 66
        },
        {
          "output_type": "display_data",
          "data": {
            "image/png": "[encoded data removed]",
            "text/plain": [
              "<Figure size 432x288 with 1 Axes>"
            ]
          },
          "metadata": {
            "tags": [],
            "needs_background": "light"
          }
        }
      ]
    },
    {
      "cell_type": "code",
      "metadata": {
        "id": "6TPZanctNCZP",
        "colab_type": "code",
        "colab": {
          "base_uri": "https://localhost:8080/",
          "height": 304
        },
        "outputId": "80e6540b-0dbb-4ad0-f8b5-e232881b34b9"
      },
      "source": [
        "plt.imshow(nifti102)"
      ],
      "execution_count": null,
      "outputs": [
        {
          "output_type": "stream",
          "text": [
            "Clipping input data to the valid range for imshow with RGB data ([0..1] for floats or [0..255] for integers).\n"
          ],
          "name": "stderr"
        },
        {
          "output_type": "execute_result",
          "data": {
            "text/plain": [
              "<matplotlib.image.AxesImage at 0x7f41a05a9748>"
            ]
          },
          "metadata": {
            "tags": []
          },
          "execution_count": 67
        },
        {
          "output_type": "display_data",
          "data": {
            "image/png": "[encoded data removed]",
            "text/plain": [
              "<Figure size 432x288 with 1 Axes>"
            ]
          },
          "metadata": {
            "tags": [],
            "needs_background": "light"
          }
        }
      ]
    },
    {
      "cell_type": "code",
      "metadata": {
        "id": "WQMBuZ4uNFd5",
        "colab_type": "code",
        "colab": {}
      },
      "source": [
        "nifti102_raw = nib.load(f'{path}/../train25_myops_gd/myops_training_102_gd.nii.gz')"
      ],
      "execution_count": null,
      "outputs": []
    },
    {
      "cell_type": "code",
      "metadata": {
        "id": "VmXsXcKyNdva",
        "colab_type": "code",
        "colab": {}
      },
      "source": [
        "nifti102_pred = nib.Nifti1Image(masks, nifti102_raw.affine, nifti102_raw.header)"
      ],
      "execution_count": null,
      "outputs": []
    },
    {
      "cell_type": "code",
      "metadata": {
        "id": "0jEA81iUNey7",
        "colab_type": "code",
        "colab": {}
      },
      "source": [
        "nib.save(nifti102_pred, f'{outdir}/myops_test_102_seg.nii.gz')"
      ],
      "execution_count": null,
      "outputs": []
    },
    {
      "cell_type": "code",
      "metadata": {
        "id": "eHQnJHZkOjue",
        "colab_type": "code",
        "colab": {}
      },
      "source": [
        ""
      ],
      "execution_count": null,
      "outputs": []
    }
  ]
}