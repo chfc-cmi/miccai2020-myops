{
  "nbformat": 4,
  "nbformat_minor": 0,
  "metadata": {
    "accelerator": "GPU",
    "colab": {
      "name": "myops2020.ipynb",
      "provenance": [],
      "toc_visible": true
    },
    "kernelspec": {
      "display_name": "Python 3",
      "language": "python",
      "name": "python3"
    },
    "language_info": {
      "codemirror_mode": {
        "name": "ipython",
        "version": 3
      },
      "file_extension": ".py",
      "mimetype": "text/x-python",
      "name": "python",
      "nbconvert_exporter": "python",
      "pygments_lexer": "ipython3",
      "version": "3.7.3"
    },
    "widgets": {
      "application/vnd.jupyter.widget-state+json": {
        "484ea1349e0c486fbc66a0bb7ce496ed": {
          "model_module": "@jupyter-widgets/controls",
          "model_name": "HBoxModel",
          "state": {
            "_view_name": "HBoxView",
            "_dom_classes": [],
            "_model_name": "HBoxModel",
            "_view_module": "@jupyter-widgets/controls",
            "_model_module_version": "1.5.0",
            "_view_count": null,
            "_view_module_version": "1.5.0",
            "box_style": "",
            "layout": "IPY_MODEL_1240ff304ad148e0b2d4b4af3e23b106",
            "_model_module": "@jupyter-widgets/controls",
            "children": [
              "IPY_MODEL_81fa7997e60249c7b748e3d8d727a33a",
              "IPY_MODEL_f2f5424bb21048c2abaff85f56ca8ffe"
            ]
          }
        },
        "1240ff304ad148e0b2d4b4af3e23b106": {
          "model_module": "@jupyter-widgets/base",
          "model_name": "LayoutModel",
          "state": {
            "_view_name": "LayoutView",
            "grid_template_rows": null,
            "right": null,
            "justify_content": null,
            "_view_module": "@jupyter-widgets/base",
            "overflow": null,
            "_model_module_version": "1.2.0",
            "_view_count": null,
            "flex_flow": null,
            "width": null,
            "min_width": null,
            "border": null,
            "align_items": null,
            "bottom": null,
            "_model_module": "@jupyter-widgets/base",
            "top": null,
            "grid_column": null,
            "overflow_y": null,
            "overflow_x": null,
            "grid_auto_flow": null,
            "grid_area": null,
            "grid_template_columns": null,
            "flex": null,
            "_model_name": "LayoutModel",
            "justify_items": null,
            "grid_row": null,
            "max_height": null,
            "align_content": null,
            "visibility": null,
            "align_self": null,
            "height": null,
            "min_height": null,
            "padding": null,
            "grid_auto_rows": null,
            "grid_gap": null,
            "max_width": null,
            "order": null,
            "_view_module_version": "1.2.0",
            "grid_template_areas": null,
            "object_position": null,
            "object_fit": null,
            "grid_auto_columns": null,
            "margin": null,
            "display": null,
            "left": null
          }
        },
        "81fa7997e60249c7b748e3d8d727a33a": {
          "model_module": "@jupyter-widgets/controls",
          "model_name": "FloatProgressModel",
          "state": {
            "_view_name": "ProgressView",
            "style": "IPY_MODEL_35c1ddd6c52f4611b978e609c33874be",
            "_dom_classes": [],
            "description": "100%",
            "_model_name": "FloatProgressModel",
            "bar_style": "success",
            "max": 87306240,
            "_view_module": "@jupyter-widgets/controls",
            "_model_module_version": "1.5.0",
            "value": 87306240,
            "_view_count": null,
            "_view_module_version": "1.5.0",
            "orientation": "horizontal",
            "min": 0,
            "description_tooltip": null,
            "_model_module": "@jupyter-widgets/controls",
            "layout": "IPY_MODEL_bb1a4008966744afba2d246fbdc6e85d"
          }
        },
        "f2f5424bb21048c2abaff85f56ca8ffe": {
          "model_module": "@jupyter-widgets/controls",
          "model_name": "HTMLModel",
          "state": {
            "_view_name": "HTMLView",
            "style": "IPY_MODEL_26ed92a084a9446fb82c406db904990f",
            "_dom_classes": [],
            "description": "",
            "_model_name": "HTMLModel",
            "placeholder": "​",
            "_view_module": "@jupyter-widgets/controls",
            "_model_module_version": "1.5.0",
            "value": " 83.3M/83.3M [1:03:49&lt;00:00, 22.8kB/s]",
            "_view_count": null,
            "_view_module_version": "1.5.0",
            "description_tooltip": null,
            "_model_module": "@jupyter-widgets/controls",
            "layout": "IPY_MODEL_4ac1045a03f3413a9d158bf75b615cc8"
          }
        },
        "35c1ddd6c52f4611b978e609c33874be": {
          "model_module": "@jupyter-widgets/controls",
          "model_name": "ProgressStyleModel",
          "state": {
            "_view_name": "StyleView",
            "_model_name": "ProgressStyleModel",
            "description_width": "initial",
            "_view_module": "@jupyter-widgets/base",
            "_model_module_version": "1.5.0",
            "_view_count": null,
            "_view_module_version": "1.2.0",
            "bar_color": null,
            "_model_module": "@jupyter-widgets/controls"
          }
        },
        "bb1a4008966744afba2d246fbdc6e85d": {
          "model_module": "@jupyter-widgets/base",
          "model_name": "LayoutModel",
          "state": {
            "_view_name": "LayoutView",
            "grid_template_rows": null,
            "right": null,
            "justify_content": null,
            "_view_module": "@jupyter-widgets/base",
            "overflow": null,
            "_model_module_version": "1.2.0",
            "_view_count": null,
            "flex_flow": null,
            "width": null,
            "min_width": null,
            "border": null,
            "align_items": null,
            "bottom": null,
            "_model_module": "@jupyter-widgets/base",
            "top": null,
            "grid_column": null,
            "overflow_y": null,
            "overflow_x": null,
            "grid_auto_flow": null,
            "grid_area": null,
            "grid_template_columns": null,
            "flex": null,
            "_model_name": "LayoutModel",
            "justify_items": null,
            "grid_row": null,
            "max_height": null,
            "align_content": null,
            "visibility": null,
            "align_self": null,
            "height": null,
            "min_height": null,
            "padding": null,
            "grid_auto_rows": null,
            "grid_gap": null,
            "max_width": null,
            "order": null,
            "_view_module_version": "1.2.0",
            "grid_template_areas": null,
            "object_position": null,
            "object_fit": null,
            "grid_auto_columns": null,
            "margin": null,
            "display": null,
            "left": null
          }
        },
        "26ed92a084a9446fb82c406db904990f": {
          "model_module": "@jupyter-widgets/controls",
          "model_name": "DescriptionStyleModel",
          "state": {
            "_view_name": "StyleView",
            "_model_name": "DescriptionStyleModel",
            "description_width": "",
            "_view_module": "@jupyter-widgets/base",
            "_model_module_version": "1.5.0",
            "_view_count": null,
            "_view_module_version": "1.2.0",
            "_model_module": "@jupyter-widgets/controls"
          }
        },
        "4ac1045a03f3413a9d158bf75b615cc8": {
          "model_module": "@jupyter-widgets/base",
          "model_name": "LayoutModel",
          "state": {
            "_view_name": "LayoutView",
            "grid_template_rows": null,
            "right": null,
            "justify_content": null,
            "_view_module": "@jupyter-widgets/base",
            "overflow": null,
            "_model_module_version": "1.2.0",
            "_view_count": null,
            "flex_flow": null,
            "width": null,
            "min_width": null,
            "border": null,
            "align_items": null,
            "bottom": null,
            "_model_module": "@jupyter-widgets/base",
            "top": null,
            "grid_column": null,
            "overflow_y": null,
            "overflow_x": null,
            "grid_auto_flow": null,
            "grid_area": null,
            "grid_template_columns": null,
            "flex": null,
            "_model_name": "LayoutModel",
            "justify_items": null,
            "grid_row": null,
            "max_height": null,
            "align_content": null,
            "visibility": null,
            "align_self": null,
            "height": null,
            "min_height": null,
            "padding": null,
            "grid_auto_rows": null,
            "grid_gap": null,
            "max_width": null,
            "order": null,
            "_view_module_version": "1.2.0",
            "grid_template_areas": null,
            "object_position": null,
            "object_fit": null,
            "grid_auto_columns": null,
            "margin": null,
            "display": null,
            "left": null
          }
        }
      }
    }
  },
  "cells": [
    {
      "cell_type": "markdown",
      "metadata": {
        "colab_type": "text",
        "id": "v4vgTY-R3BHv"
      },
      "source": [
        "# MyoPS 2020 Challenge\n"
      ]
    },
    {
      "cell_type": "code",
      "metadata": {
        "id": "DILdf-xszF5l",
        "colab_type": "code",
        "colab": {
          "base_uri": "https://localhost:8080/",
          "height": 1000
        },
        "outputId": "81f15cc3-acdc-4f09-832e-2cab733432a2"
      },
      "source": [
        "!pip install fastai2\n",
        "!pip install git+https://github.com/Project-MONAI/MONAI#egg=MONAI"
      ],
      "execution_count": 1,
      "outputs": [
        {
          "output_type": "stream",
          "text": [
            "Collecting fastai2\n",
            "\u001b[?25l  Downloading https://files.pythonhosted.org/packages/26/4f/0f61bb0d376eb47c20430639bac4946ca0cffcd7e693fb86698656324f2d/fastai2-0.0.17-py3-none-any.whl (190kB)\n",
            "\r\u001b[K     |█▊                              | 10kB 19.0MB/s eta 0:00:01\r\u001b[K     |███▌                            | 20kB 1.7MB/s eta 0:00:01\r\u001b[K     |█████▏                          | 30kB 2.3MB/s eta 0:00:01\r\u001b[K     |███████                         | 40kB 2.5MB/s eta 0:00:01\r\u001b[K     |████████▋                       | 51kB 2.0MB/s eta 0:00:01\r\u001b[K     |██████████▍                     | 61kB 2.3MB/s eta 0:00:01\r\u001b[K     |████████████                    | 71kB 2.5MB/s eta 0:00:01\r\u001b[K     |█████████████▉                  | 81kB 2.7MB/s eta 0:00:01\r\u001b[K     |███████████████▌                | 92kB 2.9MB/s eta 0:00:01\r\u001b[K     |█████████████████▎              | 102kB 2.8MB/s eta 0:00:01\r\u001b[K     |███████████████████             | 112kB 2.8MB/s eta 0:00:01\r\u001b[K     |████████████████████▊           | 122kB 2.8MB/s eta 0:00:01\r\u001b[K     |██████████████████████▍         | 133kB 2.8MB/s eta 0:00:01\r\u001b[K     |████████████████████████▏       | 143kB 2.8MB/s eta 0:00:01\r\u001b[K     |█████████████████████████▉      | 153kB 2.8MB/s eta 0:00:01\r\u001b[K     |███████████████████████████▋    | 163kB 2.8MB/s eta 0:00:01\r\u001b[K     |█████████████████████████████▎  | 174kB 2.8MB/s eta 0:00:01\r\u001b[K     |███████████████████████████████ | 184kB 2.8MB/s eta 0:00:01\r\u001b[K     |████████████████████████████████| 194kB 2.8MB/s \n",
            "\u001b[?25hRequirement already satisfied: pandas in /usr/local/lib/python3.6/dist-packages (from fastai2) (1.0.5)\n",
            "Requirement already satisfied: spacy in /usr/local/lib/python3.6/dist-packages (from fastai2) (2.2.4)\n",
            "Requirement already satisfied: requests in /usr/local/lib/python3.6/dist-packages (from fastai2) (2.23.0)\n",
            "Requirement already satisfied: fastprogress>=0.1.22 in /usr/local/lib/python3.6/dist-packages (from fastai2) (0.2.3)\n",
            "Requirement already satisfied: matplotlib in /usr/local/lib/python3.6/dist-packages (from fastai2) (3.2.2)\n",
            "Requirement already satisfied: torchvision>=0.5 in /usr/local/lib/python3.6/dist-packages (from fastai2) (0.6.1+cu101)\n",
            "Requirement already satisfied: pillow in /usr/local/lib/python3.6/dist-packages (from fastai2) (7.0.0)\n",
            "Collecting fastcore\n",
            "  Downloading https://files.pythonhosted.org/packages/e2/6e/a18c0ff6cdca36915e65cf1690137134241a33d74ceef7882f4a63a6af55/fastcore-0.1.18-py3-none-any.whl\n",
            "Requirement already satisfied: torch>=1.3.0 in /usr/local/lib/python3.6/dist-packages (from fastai2) (1.5.1+cu101)\n",
            "Requirement already satisfied: scipy in /usr/local/lib/python3.6/dist-packages (from fastai2) (1.4.1)\n",
            "Requirement already satisfied: scikit-learn in /usr/local/lib/python3.6/dist-packages (from fastai2) (0.22.2.post1)\n",
            "Requirement already satisfied: pyyaml in /usr/local/lib/python3.6/dist-packages (from fastai2) (3.13)\n",
            "Requirement already satisfied: python-dateutil>=2.6.1 in /usr/local/lib/python3.6/dist-packages (from pandas->fastai2) (2.8.1)\n",
            "Requirement already satisfied: pytz>=2017.2 in /usr/local/lib/python3.6/dist-packages (from pandas->fastai2) (2018.9)\n",
            "Requirement already satisfied: numpy>=1.13.3 in /usr/local/lib/python3.6/dist-packages (from pandas->fastai2) (1.18.5)\n",
            "Requirement already satisfied: setuptools in /usr/local/lib/python3.6/dist-packages (from spacy->fastai2) (49.1.0)\n",
            "Requirement already satisfied: wasabi<1.1.0,>=0.4.0 in /usr/local/lib/python3.6/dist-packages (from spacy->fastai2) (0.7.0)\n",
            "Requirement already satisfied: preshed<3.1.0,>=3.0.2 in /usr/local/lib/python3.6/dist-packages (from spacy->fastai2) (3.0.2)\n",
            "Requirement already satisfied: plac<1.2.0,>=0.9.6 in /usr/local/lib/python3.6/dist-packages (from spacy->fastai2) (1.1.3)\n",
            "Requirement already satisfied: catalogue<1.1.0,>=0.0.7 in /usr/local/lib/python3.6/dist-packages (from spacy->fastai2) (1.0.0)\n",
            "Requirement already satisfied: blis<0.5.0,>=0.4.0 in /usr/local/lib/python3.6/dist-packages (from spacy->fastai2) (0.4.1)\n",
            "Requirement already satisfied: tqdm<5.0.0,>=4.38.0 in /usr/local/lib/python3.6/dist-packages (from spacy->fastai2) (4.41.1)\n",
            "Requirement already satisfied: srsly<1.1.0,>=1.0.2 in /usr/local/lib/python3.6/dist-packages (from spacy->fastai2) (1.0.2)\n",
            "Requirement already satisfied: thinc==7.4.0 in /usr/local/lib/python3.6/dist-packages (from spacy->fastai2) (7.4.0)\n",
            "Requirement already satisfied: murmurhash<1.1.0,>=0.28.0 in /usr/local/lib/python3.6/dist-packages (from spacy->fastai2) (1.0.2)\n",
            "Requirement already satisfied: cymem<2.1.0,>=2.0.2 in /usr/local/lib/python3.6/dist-packages (from spacy->fastai2) (2.0.3)\n",
            "Requirement already satisfied: urllib3!=1.25.0,!=1.25.1,<1.26,>=1.21.1 in /usr/local/lib/python3.6/dist-packages (from requests->fastai2) (1.24.3)\n",
            "Requirement already satisfied: certifi>=2017.4.17 in /usr/local/lib/python3.6/dist-packages (from requests->fastai2) (2020.6.20)\n",
            "Requirement already satisfied: idna<3,>=2.5 in /usr/local/lib/python3.6/dist-packages (from requests->fastai2) (2.10)\n",
            "Requirement already satisfied: chardet<4,>=3.0.2 in /usr/local/lib/python3.6/dist-packages (from requests->fastai2) (3.0.4)\n",
            "Requirement already satisfied: kiwisolver>=1.0.1 in /usr/local/lib/python3.6/dist-packages (from matplotlib->fastai2) (1.2.0)\n",
            "Requirement already satisfied: cycler>=0.10 in /usr/local/lib/python3.6/dist-packages (from matplotlib->fastai2) (0.10.0)\n",
            "Requirement already satisfied: pyparsing!=2.0.4,!=2.1.2,!=2.1.6,>=2.0.1 in /usr/local/lib/python3.6/dist-packages (from matplotlib->fastai2) (2.4.7)\n",
            "Requirement already satisfied: dataclasses>='0.7'; python_version < \"3.7\" in /usr/local/lib/python3.6/dist-packages (from fastcore->fastai2) (0.7)\n",
            "Requirement already satisfied: future in /usr/local/lib/python3.6/dist-packages (from torch>=1.3.0->fastai2) (0.16.0)\n",
            "Requirement already satisfied: joblib>=0.11 in /usr/local/lib/python3.6/dist-packages (from scikit-learn->fastai2) (0.16.0)\n",
            "Requirement already satisfied: six>=1.5 in /usr/local/lib/python3.6/dist-packages (from python-dateutil>=2.6.1->pandas->fastai2) (1.12.0)\n",
            "Requirement already satisfied: importlib-metadata>=0.20; python_version < \"3.8\" in /usr/local/lib/python3.6/dist-packages (from catalogue<1.1.0,>=0.0.7->spacy->fastai2) (1.7.0)\n",
            "Requirement already satisfied: zipp>=0.5 in /usr/local/lib/python3.6/dist-packages (from importlib-metadata>=0.20; python_version < \"3.8\"->catalogue<1.1.0,>=0.0.7->spacy->fastai2) (3.1.0)\n",
            "Installing collected packages: fastcore, fastai2\n",
            "Successfully installed fastai2-0.0.17 fastcore-0.1.18\n",
            "Collecting MONAI\n",
            "  Cloning https://github.com/Project-MONAI/MONAI to /tmp/pip-install-ke4o_70d/MONAI\n",
            "  Running command git clone -q https://github.com/Project-MONAI/MONAI /tmp/pip-install-ke4o_70d/MONAI\n",
            "  Installing build dependencies ... \u001b[?25l\u001b[?25hdone\n",
            "  Getting requirements to build wheel ... \u001b[?25l\u001b[?25hdone\n",
            "    Preparing wheel metadata ... \u001b[?25l\u001b[?25hdone\n",
            "Requirement already satisfied: numpy>=1.17 in /usr/local/lib/python3.6/dist-packages (from MONAI) (1.18.5)\n",
            "Requirement already satisfied: torch>=1.4 in /usr/local/lib/python3.6/dist-packages (from MONAI) (1.5.1+cu101)\n",
            "Requirement already satisfied: future in /usr/local/lib/python3.6/dist-packages (from torch>=1.4->MONAI) (0.16.0)\n",
            "Building wheels for collected packages: MONAI\n",
            "  Building wheel for MONAI (PEP 517) ... \u001b[?25l\u001b[?25hdone\n",
            "  Created wheel for MONAI: filename=monai-0.2.0+45.g3a8fe35-cp36-none-any.whl size=224746 sha256=66491457008554a8426169ce3735f9ffde63c91ffb1272ead71a1a8d6dbaddba\n",
            "  Stored in directory: /tmp/pip-ephem-wheel-cache-j7q3lx68/wheels/32/e1/f2/9985050c97af405af0c840d4b9fc44324fdf0c92fe03de697f\n",
            "Successfully built MONAI\n",
            "Installing collected packages: MONAI\n",
            "Successfully installed MONAI-0.2.0+45.g3a8fe35\n"
          ],
          "name": "stdout"
        }
      ]
    },
    {
      "cell_type": "code",
      "metadata": {
        "colab_type": "code",
        "id": "kp3_fDwx3BH2",
        "colab": {}
      },
      "source": [
        "from fastai2.vision.all import *\n",
        "from fastai2.vision.models import resnet34\n",
        "from monai.losses import FocalLoss\n",
        "import gc"
      ],
      "execution_count": 2,
      "outputs": []
    },
    {
      "cell_type": "code",
      "metadata": {
        "id": "wdOEY8bKzQiY",
        "colab_type": "code",
        "colab": {
          "base_uri": "https://localhost:8080/",
          "height": 124
        },
        "outputId": "9cd9ecd7-b3ed-4f10-cf19-f16c8fd173e3"
      },
      "source": [
        "from google.colab import drive\n",
        "drive.mount('/content/drive')"
      ],
      "execution_count": 3,
      "outputs": [
        {
          "output_type": "stream",
          "text": [
            "Go to this URL in a browser: https://accounts.google.com/o/oauth2/auth?client_id=947318989803-6bn6qk8qdgf4n4g3pfee6491hc0brc4i.apps.googleusercontent.com&redirect_uri=urn%3aietf%3awg%3aoauth%3a2.0%3aoob&response_type=code&scope=email%20https%3a%2f%2fwww.googleapis.com%2fauth%2fdocs.test%20https%3a%2f%2fwww.googleapis.com%2fauth%2fdrive%20https%3a%2f%2fwww.googleapis.com%2fauth%2fdrive.photos.readonly%20https%3a%2f%2fwww.googleapis.com%2fauth%2fpeopleapi.readonly\n",
            "\n",
            "Enter your authorization code:\n",
            "··········\n",
            "Mounted at /content/drive\n"
          ],
          "name": "stdout"
        }
      ]
    },
    {
      "cell_type": "code",
      "metadata": {
        "colab_type": "code",
        "id": "kpfKqu9a7Htb",
        "colab": {}
      },
      "source": [
        "path = \"/content/drive/My Drive/miccai2020/myops/png\""
      ],
      "execution_count": 4,
      "outputs": []
    },
    {
      "cell_type": "code",
      "metadata": {
        "colab_type": "code",
        "id": "7UQDJstHWDnj",
        "colab": {}
      },
      "source": [
        "class AddMaskCodeMapping(Transform):\n",
        "    \"Add mapping of pixel value to class for a `TensorMask`\"\n",
        "    def __init__(self, mapping, codes=None):\n",
        "        #print(\"init\")\n",
        "        self.mapping = mapping\n",
        "        self.codes = codes\n",
        "        if codes is not None: self.vocab,self.c = codes,len(codes)\n",
        "\n",
        "    def encodes(self, o:PILMask):\n",
        "        #print(\"encodes\")\n",
        "        mo = ToTensor()(o)\n",
        "        mo = mo.to(dtype=torch.long)\n",
        "        mo = self.mapping.index_select(0,mo.flatten()).reshape(*mo.shape)\n",
        "        mo = PILMask.create(mo.to(dtype=torch.uint8))\n",
        "        return mo\n",
        "    \n",
        "    def decodes(self, o:TensorMask):\n",
        "        # decoding of inputs works out of the box, but get_preds are not properly decoded\n",
        "        if len(o.shape) > 2:\n",
        "            o = o.argmax(dim=0)\n",
        "        if self.codes is not None: o._meta = {'codes': self.codes}\n",
        "        return o"
      ],
      "execution_count": 6,
      "outputs": []
    },
    {
      "cell_type": "code",
      "metadata": {
        "colab_type": "code",
        "id": "ZlGb98hAaVB_",
        "colab": {}
      },
      "source": [
        "def MappedMaskBlock(mapping,codes=None):\n",
        "    \"A `TransformBlock` for segmentation masks, with mapping of pixel values to classes, potentially with `codes`\"\n",
        "    return TransformBlock(type_tfms=PILMask.create, item_tfms=AddMaskCodeMapping(mapping=mapping,codes=codes), batch_tfms=IntToFloatTensor)"
      ],
      "execution_count": 7,
      "outputs": []
    },
    {
      "cell_type": "code",
      "metadata": {
        "colab_type": "code",
        "id": "6ZuyDCttFnem",
        "colab": {}
      },
      "source": [
        "def getMappedMaskBlock(predefined_mapping_name):\n",
        "    predefined_mappings = {\n",
        "        'full': ([0,1,2,3,4,5],['bg','lv','my','rv','ed','sc']),\n",
        "        'edOnly': ([0,0,0,0,1,0],['bg','ed']),\n",
        "        'edScCombined': ([0,0,0,0,1,1],['bg','edSc']),\n",
        "        'scOnly': ([0,0,0,0,0,1],['bg','sc']),\n",
        "        'edScOnly': ([0,0,0,0,1,2],['bg','ed','sc']),\n",
        "    }\n",
        "    mapping,codes = predefined_mappings[predefined_mapping_name]\n",
        "    return MappedMaskBlock(mapping = torch.LongTensor(mapping), codes=codes)"
      ],
      "execution_count": 8,
      "outputs": []
    },
    {
      "cell_type": "code",
      "metadata": {
        "colab_type": "code",
        "id": "nmx868OI3BJk",
        "colab": {}
      },
      "source": [
        "def getMyopsDls(mapping_name=\"full\", images=\"images\"):\n",
        "    mmb = getMappedMaskBlock(mapping_name)\n",
        "    myopsData = DataBlock(blocks=(ImageBlock, mmb),#['bg','lv','my','rv','ed','sc'])),\n",
        "        get_items=get_image_files,\n",
        "        splitter=None,\n",
        "        get_y=lambda o: str(o).replace(images,\"masks\"),\n",
        "        item_tfms=CropPad(256),\n",
        "        batch_tfms=aug_transforms(max_rotate=90,pad_mode=\"zeros\"))\n",
        "    dls = myopsData.dataloaders(f'{path}/{images}',num_workers=4,batch_size=12)\n",
        "    dls[1].bs = 12\n",
        "    return dls"
      ],
      "execution_count": 15,
      "outputs": []
    },
    {
      "cell_type": "code",
      "metadata": {
        "colab_type": "code",
        "id": "_-YEuw8GCYtI",
        "colab": {}
      },
      "source": [
        "def multi_dice(input:Tensor, targs:Tensor, class_id=0, inverse=False)->Tensor:\n",
        "    n = targs.shape[0]\n",
        "    input = input.argmax(dim=1).view(n,-1)\n",
        "    # replace all with class_id with 1 all else with 0 to have binary case\n",
        "    output = (input == class_id).float()\n",
        "    # same for targs\n",
        "    targs = (targs.view(n,-1) == class_id).float()\n",
        "    if inverse:\n",
        "        output = 1 - output\n",
        "        targs = 1 - targs\n",
        "    intersect = (output * targs).sum(dim=1).float()\n",
        "    union = (output+targs).sum(dim=1).float()\n",
        "    res = 2. * intersect / union\n",
        "    res[torch.isnan(res)] = 1\n",
        "    return res.mean()\n",
        "\n",
        "def diceFG(input, targs): return multi_dice(input,targs,class_id=1)\n",
        "def diceLV(input, targs): return multi_dice(input,targs,class_id=1)\n",
        "def diceMY(input, targs): return multi_dice(input,targs,class_id=2)\n",
        "def diceRV(input, targs): return multi_dice(input,targs,class_id=3)\n",
        "def diceEd(input, targs): return multi_dice(input,targs,class_id=4)\n",
        "def diceSc(input, targs): return multi_dice(input,targs,class_id=5)\n",
        "dices = [diceLV,diceMY,diceRV,diceEd,diceSc]"
      ],
      "execution_count": 10,
      "outputs": []
    },
    {
      "cell_type": "code",
      "metadata": {
        "colab_type": "code",
        "id": "ZNFWVLuvTwLq",
        "colab": {}
      },
      "source": [
        "def myFocal(weights=[.2,.8]):\n",
        "    monaiFocal = FocalLoss(weight=torch.Tensor(weights),reduction='mean')\n",
        "    return lambda input,target: monaiFocal(input, target.unsqueeze(1))"
      ],
      "execution_count": 11,
      "outputs": []
    },
    {
      "cell_type": "markdown",
      "metadata": {
        "colab_type": "text",
        "id": "YoyOxtnDCTa6"
      },
      "source": [
        "# Generic function"
      ]
    },
    {
      "cell_type": "code",
      "metadata": {
        "colab_type": "code",
        "id": "hxzDqkJuv1_b",
        "colab": {}
      },
      "source": [
        "def standard_training(\n",
        "    mapping=\"full\",\n",
        "    images=\"images\",\n",
        "    metrics=dices,\n",
        "    weights=[1.0/6,1.0/6,1.0/6,1.0/6,1.0/6,1.0/6],\n",
        "    name=\"standard_training\",\n",
        "    use_focal_loss=True,\n",
        "    path='/content/drive/My Drive/miccai2020/myops',\n",
        "    save=False\n",
        "    ):\n",
        "    my_loss = None\n",
        "    if(use_focal_loss):\n",
        "        my_loss = myFocal(weights)\n",
        "    learn = unet_learner(\n",
        "        getMyopsDls(mapping, images),\n",
        "        resnet34,\n",
        "        path=path,\n",
        "        loss_func=my_loss,\n",
        "        metrics=[foreground_acc, *metrics],\n",
        "        cbs=[CSVLogger(f'{path}/logs/{name}.csv',append=True)]\n",
        "    )\n",
        "    learn.fine_tune(2, freeze_epochs=1, base_lr=1e-3)\n",
        "    if save:\n",
        "      learn.save(name)\n",
        "    return learn"
      ],
      "execution_count": 17,
      "outputs": []
    },
    {
      "cell_type": "code",
      "metadata": {
        "id": "ERfpee-ACQ0K",
        "colab_type": "code",
        "colab": {
          "base_uri": "https://localhost:8080/",
          "height": 243,
          "referenced_widgets": [
            "484ea1349e0c486fbc66a0bb7ce496ed",
            "1240ff304ad148e0b2d4b4af3e23b106",
            "81fa7997e60249c7b748e3d8d727a33a",
            "f2f5424bb21048c2abaff85f56ca8ffe",
            "35c1ddd6c52f4611b978e609c33874be",
            "bb1a4008966744afba2d246fbdc6e85d",
            "26ed92a084a9446fb82c406db904990f",
            "4ac1045a03f3413a9d158bf75b615cc8"
          ]
        },
        "outputId": "b9f31073-6c51-4d3f-be7e-d38e02883c33"
      },
      "source": [
        "train = standard_training(name=f\"multi_ce_full\", use_focal_loss=False)\n",
        "#standard_training(name=f\"multi_patho.35_full\", weights=[.3/4,.3/4,.3/4,.3/4,.35,.35])\n",
        "#standard_training(name=f\"multi_scar.4_full\", weights=[.6/5,.6/5,.6/5,.6/5,.6/5,.4])\n",
        "#standard_training(name=f\"multi_edema.4_full\", weights=[.6/5,.6/5,.6/5,.6/5,.4,.6/5])\n",
        "#standard_training(name=f\"lge_scarOnly.8_full\", mapping=\"scOnly\", images=\"LGE\", metrics=[diceFG], weights=[0.2,0.8])\n",
        "#standard_training(name=f\"t2_edemaOnly.8_full\", mapping=\"edOnly\", images=\"T2\", metrics=[diceFG], weights=[0.2,0.8])"
      ],
      "execution_count": 18,
      "outputs": [
        {
          "output_type": "stream",
          "text": [
            "Downloading: \"https://download.pytorch.org/models/resnet34-333f7ec4.pth\" to /root/.cache/torch/checkpoints/resnet34-333f7ec4.pth\n"
          ],
          "name": "stderr"
        },
        {
          "output_type": "display_data",
          "data": {
            "application/vnd.jupyter.widget-view+json": {
              "model_id": "484ea1349e0c486fbc66a0bb7ce496ed",
              "version_minor": 0,
              "version_major": 2
            },
            "text/plain": [
              "HBox(children=(FloatProgress(value=0.0, max=87306240.0), HTML(value='')))"
            ]
          },
          "metadata": {
            "tags": []
          }
        },
        {
          "output_type": "stream",
          "text": [
            "\n"
          ],
          "name": "stdout"
        },
        {
          "output_type": "display_data",
          "data": {
            "text/html": [
              "<table border=\"1\" class=\"dataframe\">\n",
              "  <thead>\n",
              "    <tr style=\"text-align: left;\">\n",
              "      <th>epoch</th>\n",
              "      <th>train_loss</th>\n",
              "      <th>valid_loss</th>\n",
              "      <th>foreground_acc</th>\n",
              "      <th>diceLV</th>\n",
              "      <th>diceMY</th>\n",
              "      <th>diceRV</th>\n",
              "      <th>diceEd</th>\n",
              "      <th>diceSc</th>\n",
              "      <th>time</th>\n",
              "    </tr>\n",
              "  </thead>\n",
              "  <tbody>\n",
              "    <tr>\n",
              "      <td>0</td>\n",
              "      <td>0.872242</td>\n",
              "      <td>0.426909</td>\n",
              "      <td>0.008029</td>\n",
              "      <td>0.041646</td>\n",
              "      <td>0.000000</td>\n",
              "      <td>0.131148</td>\n",
              "      <td>0.196721</td>\n",
              "      <td>0.196721</td>\n",
              "      <td>15:58</td>\n",
              "    </tr>\n",
              "  </tbody>\n",
              "</table>"
            ],
            "text/plain": [
              "<IPython.core.display.HTML object>"
            ]
          },
          "metadata": {
            "tags": []
          }
        },
        {
          "output_type": "display_data",
          "data": {
            "text/html": [
              "<table border=\"1\" class=\"dataframe\">\n",
              "  <thead>\n",
              "    <tr style=\"text-align: left;\">\n",
              "      <th>epoch</th>\n",
              "      <th>train_loss</th>\n",
              "      <th>valid_loss</th>\n",
              "      <th>foreground_acc</th>\n",
              "      <th>diceLV</th>\n",
              "      <th>diceMY</th>\n",
              "      <th>diceRV</th>\n",
              "      <th>diceEd</th>\n",
              "      <th>diceSc</th>\n",
              "      <th>time</th>\n",
              "    </tr>\n",
              "  </thead>\n",
              "  <tbody>\n",
              "    <tr>\n",
              "      <td>0</td>\n",
              "      <td>0.347188</td>\n",
              "      <td>0.284253</td>\n",
              "      <td>0.330093</td>\n",
              "      <td>0.549319</td>\n",
              "      <td>0.248811</td>\n",
              "      <td>0.325535</td>\n",
              "      <td>0.196721</td>\n",
              "      <td>0.196795</td>\n",
              "      <td>16:13</td>\n",
              "    </tr>\n",
              "    <tr>\n",
              "      <td>1</td>\n",
              "      <td>0.285725</td>\n",
              "      <td>0.199120</td>\n",
              "      <td>0.571606</td>\n",
              "      <td>0.748627</td>\n",
              "      <td>0.459863</td>\n",
              "      <td>0.592930</td>\n",
              "      <td>0.169861</td>\n",
              "      <td>0.171462</td>\n",
              "      <td>16:07</td>\n",
              "    </tr>\n",
              "  </tbody>\n",
              "</table>"
            ],
            "text/plain": [
              "<IPython.core.display.HTML object>"
            ]
          },
          "metadata": {
            "tags": []
          }
        }
      ]
    },
    {
      "cell_type": "code",
      "metadata": {
        "id": "ykSSsX38Y8A4",
        "colab_type": "code",
        "colab": {
          "base_uri": "https://localhost:8080/",
          "height": 17
        },
        "outputId": "71011e72-70c2-4472-8d3d-143af810d527"
      },
      "source": [
        "pred = train.predict(f'{path}/images/120-orig-0.png')"
      ],
      "execution_count": 23,
      "outputs": [
        {
          "output_type": "display_data",
          "data": {
            "text/html": [
              ""
            ],
            "text/plain": [
              "<IPython.core.display.HTML object>"
            ]
          },
          "metadata": {
            "tags": []
          }
        }
      ]
    },
    {
      "cell_type": "code",
      "metadata": {
        "id": "0sm3JJMpbImD",
        "colab_type": "code",
        "colab": {
          "base_uri": "https://localhost:8080/",
          "height": 34
        },
        "outputId": "50313500-a888-4577-ea69-fd4df6307dcb"
      },
      "source": [
        "pred[0].shape, pred[1].shape, pred[2].shape"
      ],
      "execution_count": 25,
      "outputs": [
        {
          "output_type": "execute_result",
          "data": {
            "text/plain": [
              "(torch.Size([256, 256]), torch.Size([256, 256]), torch.Size([6, 256, 256]))"
            ]
          },
          "metadata": {
            "tags": []
          },
          "execution_count": 25
        }
      ]
    },
    {
      "cell_type": "code",
      "metadata": {
        "id": "LJpKhnk7eSJS",
        "colab_type": "code",
        "colab": {
          "base_uri": "https://localhost:8080/",
          "height": 286
        },
        "outputId": "24cb25f2-2ec4-4f67-8691-cdb69254b146"
      },
      "source": [
        "plt.imshow(pred[2][0:3].permute(1,2,0))"
      ],
      "execution_count": 32,
      "outputs": [
        {
          "output_type": "execute_result",
          "data": {
            "text/plain": [
              "<matplotlib.image.AxesImage at 0x7f2d898299e8>"
            ]
          },
          "metadata": {
            "tags": []
          },
          "execution_count": 32
        },
        {
          "output_type": "display_data",
          "data": {
            "image/png": "[encoded data removed]",
            "text/plain": [
              "<Figure size 432x288 with 1 Axes>"
            ]
          },
          "metadata": {
            "tags": [],
            "needs_background": "light"
          }
        }
      ]
    },
    {
      "cell_type": "code",
      "metadata": {
        "id": "aF3mK9i3eWKD",
        "colab_type": "code",
        "colab": {
          "base_uri": "https://localhost:8080/",
          "height": 286
        },
        "outputId": "a18a608d-5d44-489c-b7a2-d9af0dfe396d"
      },
      "source": [
        "plt.imshow(pred[1])"
      ],
      "execution_count": 28,
      "outputs": [
        {
          "output_type": "execute_result",
          "data": {
            "text/plain": [
              "<matplotlib.image.AxesImage at 0x7f2d899981d0>"
            ]
          },
          "metadata": {
            "tags": []
          },
          "execution_count": 28
        },
        {
          "output_type": "display_data",
          "data": {
            "image/png": "[encoded data removed]",
            "text/plain": [
              "<Figure size 432x288 with 1 Axes>"
            ]
          },
          "metadata": {
            "tags": [],
            "needs_background": "light"
          }
        }
      ]
    },
    {
      "cell_type": "code",
      "metadata": {
        "id": "njgx1uFw69xO",
        "colab_type": "code",
        "colab": {}
      },
      "source": [
        "del learn\n",
        "gc.collect()\n",
        "torch.cuda.empty_cache()"
      ],
      "execution_count": null,
      "outputs": []
    }
  ]
}